{
 "cells": [
  {
   "cell_type": "markdown",
   "metadata": {},
   "source": [
    "# 1. Import các thư viện cần thiết"
   ]
  },
  {
   "cell_type": "code",
   "execution_count": null,
   "metadata": {},
   "outputs": [],
   "source": [
    "from selenium import webdriver\n",
    "from bs4 import BeautifulSoup\n",
    "import time, json, csv, re, os"
   ]
  },
  {
   "cell_type": "code",
   "execution_count": 1,
   "metadata": {},
   "outputs": [],
   "source": [
    "import math\n",
    "\n",
    "import pandas as pd\n",
    "from datetime import date\n",
    "import datetime\n",
    "\n",
    "from sklearn.model_selection import train_test_split\n",
    "\n",
    "from sklearn.preprocessing import FunctionTransformer, KBinsDiscretizer, OneHotEncoder\n",
    "\n",
    "from sklearn.feature_extraction.text import CountVectorizer, TfidfVectorizer\n",
    "\n",
    "from sklearn.pipeline import make_pipeline\n",
    "\n",
    "from sklearn.neural_network import MLPClassifier\n",
    "\n",
    "from sklearn.compose import make_column_transformer"
   ]
  },
  {
   "cell_type": "code",
   "execution_count": 21,
   "metadata": {},
   "outputs": [],
   "source": [
    "from sklearn import set_config\n",
    "set_config(display='diagram')"
   ]
  },
  {
   "cell_type": "markdown",
   "metadata": {},
   "source": [
    "---"
   ]
  },
  {
   "cell_type": "markdown",
   "metadata": {},
   "source": [
    "# 2. Thu thập dữ liệu\n",
    "\n",
    "[Kickstarter](https://www.kickstarter.com) là trang web cho phép người dùng gọi vốn từ cộng đồng để phát triển một sản phẩm nào đó thuộc lĩnh vực như là: nghệ thuật, truyện tranh, chế tác, phim ảnh, thực phẩm, báo chí, âm nhạc, game, thiết kế, ...\n",
    "\n",
    "Trong đồ án, nhóm chúng em sẽ thu thập môt số dữ liệu về các dự án hiện có trên nền tảng kickstarter. Theo như file [robots.txt](https://www.kickstarter.com/robots.txt) của kickstarter thì trang không cho phép thu thập thông tin về người hỗ trợ, số tiền đã được góp vốn, widget trong từng trang dự án và trang hồ sơ người dùng, còn lại thì không bị cấm. Nhóm thực hiện thu thập trên trang [discover](https://www.kickstarter.com/discover?ref=nav) nên không vi phạm yêu cầu của kickstarter.\n",
    "\n",
    "Ở đây nhóm sử dụng thư viện Selenium vì cần phải thực hiện một số thao tác click chuột và cuộn trang thì kickstarter mới tải thêm dữ liệu.\n",
    "\n",
    "- Sử dụng thư viện Selenium truy cập trang [discover](https://www.kickstarter.com/discover?ref=nav) của kickstarter và thu thập thông tin của tất cả project hiện có.\n",
    "- Dữ liệu của các dự án được thu thập bao gồm: id, tên, lời giới thiệu, số tiền mục tiêu, số tiền đã kêu gọi, quốc gia, hạn chót, ngày tạo, ngày khởi động, số người tham gia hỗ trợ, tỉ giá ngoại tê, thể loại, thể loại chính và kết quả gọi vốn của dự án.\n",
    "- Dữ liệu thu thập được lưu vào file projects_raw.tsv"
   ]
  },
  {
   "cell_type": "code",
   "execution_count": null,
   "metadata": {},
   "outputs": [],
   "source": [
    "# tạo file tsv lưu dữ liệu\n",
    "projects_data = open('projects_raw.tsv', 'w', newline='', encoding='utf-8')"
   ]
  },
  {
   "cell_type": "code",
   "execution_count": null,
   "metadata": {},
   "outputs": [],
   "source": [
    "# tạo danh sách các cột\n",
    "columns = ['id','name','blurb','goal','pledged','country','deadline','created_at','launched_at',\n",
    "           'backers_count','fx_rate','category','main_category','state']\n",
    "\n",
    "# tạo danh sách các cột có thể thu thập trực tiếp\n",
    "cols_collect_data = columns.copy()\n",
    "cols_collect_data.remove('category')\n",
    "cols_collect_data.remove('main_category')"
   ]
  },
  {
   "cell_type": "code",
   "execution_count": null,
   "metadata": {},
   "outputs": [],
   "source": [
    "# tạo đối tượng ghi file và ghi vào tên cột\n",
    "writer = csv.DictWriter(projects_data, fieldnames=columns,delimiter='\\t')\n",
    "writer.writeheader()"
   ]
  },
  {
   "cell_type": "code",
   "execution_count": null,
   "metadata": {},
   "outputs": [],
   "source": [
    "# tạo đối tượng webdriver và truy cập trang kickstarter.com mục discover\n",
    "# browser = webdriver.Chrome(executable_path = './browser_drivers/chromedriver.exe')\n",
    "browser = webdriver.Edge(executable_path = '../browser_drivers/msedgedriver.exe')\n",
    "browser.get('https://www.kickstarter.com/discover?ref=nav')"
   ]
  },
  {
   "cell_type": "code",
   "execution_count": null,
   "metadata": {},
   "outputs": [],
   "source": [
    "# parse trang vừa tải\n",
    "html_tree = BeautifulSoup(browser.page_source, 'html.parser')"
   ]
  },
  {
   "cell_type": "code",
   "execution_count": null,
   "metadata": {},
   "outputs": [],
   "source": [
    "# tìm đường dẫn tới những thể loại, lĩnh vực\n",
    "categories_ls = []\n",
    "cat_filter = html_tree.find('select', {'name':'category_id'})"
   ]
  },
  {
   "cell_type": "code",
   "execution_count": null,
   "metadata": {},
   "outputs": [],
   "source": [
    "# tìm tag option và có thuộc tính data-urls\n",
    "# kiểm tra tag option có thuộc tính data-parent-id hay không\n",
    "# nếu có thì thêm vào danh sách đường dẫn\n",
    "option = cat_filter.find('option', {'data-urls':True})\n",
    "while True:\n",
    "    main_cat = False\n",
    "\n",
    "    try:\n",
    "        option['data-parent-id']\n",
    "    except:\n",
    "        main_cat = True\n",
    "\n",
    "    if not main_cat:\n",
    "        categories_ls.append(re.search('\"(http:.+)\"', option['data-urls']).group(1))\n",
    "\n",
    "    option = option.next_sibling\n",
    "    if option == None:\n",
    "        break"
   ]
  },
  {
   "cell_type": "code",
   "execution_count": null,
   "metadata": {},
   "outputs": [],
   "source": [
    "# tạo từ điển lưu dữ liệu thu thập được\n",
    "data_collect = dict.fromkeys(cols_collect_data)\n",
    "\n",
    "# truy cập trang của từng thể loại chính và thu thập dữ liệu\n",
    "for category_link in categories_ls:\n",
    "    time.sleep(5) # đợi 1 khoảng thời gian trước khi tải trang mới\n",
    "\n",
    "    # tải trang và tìm nút 'load more'\n",
    "    browser.get(category_link)\n",
    "    browser.find_element_by_class_name('load_more').click()\n",
    "\n",
    "    # cuộn tới cuối trang để tải thêm project\n",
    "    last_height = browser.execute_script(\"return document.body.scrollHeight\")\n",
    "    while True:\n",
    "        browser.execute_script('window.scrollTo(0, document.body.scrollHeight);')\n",
    "        time.sleep(2)\n",
    "        new_height = browser.execute_script(\"return document.body.scrollHeight\")\n",
    "\n",
    "        if new_height == last_height:\n",
    "            break\n",
    "\n",
    "        last_height = new_height\n",
    "\n",
    "    # sử dụng BeautifulSoup để parse trang web\n",
    "    html_tree = BeautifulSoup(browser.page_source, 'html.parser')\n",
    "\n",
    "    # tìm tất cả các tag chứa thông tin về các project\n",
    "    data_project = html_tree.find_all('div', {'data-project': True})\n",
    "\n",
    "    # với mỗi project tìm thuộc tính data-project và thu thập dữ liệu\n",
    "    for project in project_cards:\n",
    "        data = json.loads(project['data-project'])\n",
    "        \n",
    "        # thu thập dữ liệu có thể thu thập trực tiếp\n",
    "        for attr in cols_collect_data:\n",
    "            data_collect[attr] = data[attr]\n",
    "\n",
    "        data_collect['category'] = data['category']['name']\n",
    "        data_collect['main_category'] = data['category']['parent_name']\n",
    "\n",
    "        # ghi dữ liệu thu thập dược vào file\n",
    "        writer.writerow(data_collect)\n",
    "\n",
    "    # lưu dữ liệu thu thập được\n",
    "    projects_data.flush()\n",
    "    os.fsync(projects_data.fileno())\n",
    "\n",
    "    project_cards.clear()"
   ]
  },
  {
   "cell_type": "code",
   "execution_count": null,
   "metadata": {},
   "outputs": [],
   "source": [
    "# đóng trình duyệt và đóng file\n",
    "browser.quit()\n",
    "projects_data.close()"
   ]
  },
  {
   "cell_type": "markdown",
   "metadata": {},
   "source": [
    "---"
   ]
  },
  {
   "cell_type": "markdown",
   "metadata": {},
   "source": [
    "# 3. Khám phá dữ liệu"
   ]
  },
  {
   "cell_type": "code",
   "execution_count": 2,
   "metadata": {},
   "outputs": [
    {
     "data": {
      "text/html": [
       "<div>\n",
       "<style scoped>\n",
       "    .dataframe tbody tr th:only-of-type {\n",
       "        vertical-align: middle;\n",
       "    }\n",
       "\n",
       "    .dataframe tbody tr th {\n",
       "        vertical-align: top;\n",
       "    }\n",
       "\n",
       "    .dataframe thead th {\n",
       "        text-align: right;\n",
       "    }\n",
       "</style>\n",
       "<table border=\"1\" class=\"dataframe\">\n",
       "  <thead>\n",
       "    <tr style=\"text-align: right;\">\n",
       "      <th></th>\n",
       "      <th>name</th>\n",
       "      <th>blurb</th>\n",
       "      <th>goal</th>\n",
       "      <th>pledged</th>\n",
       "      <th>country</th>\n",
       "      <th>deadline</th>\n",
       "      <th>created_at</th>\n",
       "      <th>launched_at</th>\n",
       "      <th>backers_count</th>\n",
       "      <th>fx_rate</th>\n",
       "      <th>category</th>\n",
       "      <th>main_category</th>\n",
       "      <th>state</th>\n",
       "    </tr>\n",
       "    <tr>\n",
       "      <th>id</th>\n",
       "      <th></th>\n",
       "      <th></th>\n",
       "      <th></th>\n",
       "      <th></th>\n",
       "      <th></th>\n",
       "      <th></th>\n",
       "      <th></th>\n",
       "      <th></th>\n",
       "      <th></th>\n",
       "      <th></th>\n",
       "      <th></th>\n",
       "      <th></th>\n",
       "      <th></th>\n",
       "    </tr>\n",
       "  </thead>\n",
       "  <tbody>\n",
       "    <tr>\n",
       "      <th>1295155228</th>\n",
       "      <td>RMo Studio Needs Your Help</td>\n",
       "      <td>Help RMo Studio to buy a new kiln for ceramics...</td>\n",
       "      <td>2500.0</td>\n",
       "      <td>5504.0</td>\n",
       "      <td>GB</td>\n",
       "      <td>1610128800</td>\n",
       "      <td>1606933477</td>\n",
       "      <td>1607299280</td>\n",
       "      <td>152</td>\n",
       "      <td>1.36147</td>\n",
       "      <td>Ceramics</td>\n",
       "      <td>Art</td>\n",
       "      <td>live</td>\n",
       "    </tr>\n",
       "    <tr>\n",
       "      <th>39027197</th>\n",
       "      <td>Animals on Ceramics, Hand Drawn and Handmade, ...</td>\n",
       "      <td>Custom Hand Drawn Animals on Handmade Ceramic ...</td>\n",
       "      <td>120.0</td>\n",
       "      <td>38.0</td>\n",
       "      <td>US</td>\n",
       "      <td>1612504740</td>\n",
       "      <td>1607541996</td>\n",
       "      <td>1609434617</td>\n",
       "      <td>3</td>\n",
       "      <td>1.00000</td>\n",
       "      <td>Ceramics</td>\n",
       "      <td>Art</td>\n",
       "      <td>live</td>\n",
       "    </tr>\n",
       "    <tr>\n",
       "      <th>274865</th>\n",
       "      <td>Pots On Wheels</td>\n",
       "      <td>We're creating a mobile outreach gallery of be...</td>\n",
       "      <td>20000.0</td>\n",
       "      <td>25732.0</td>\n",
       "      <td>US</td>\n",
       "      <td>1417496340</td>\n",
       "      <td>1409351310</td>\n",
       "      <td>1415110797</td>\n",
       "      <td>278</td>\n",
       "      <td>1.00000</td>\n",
       "      <td>Ceramics</td>\n",
       "      <td>Art</td>\n",
       "      <td>successful</td>\n",
       "    </tr>\n",
       "    <tr>\n",
       "      <th>112491653</th>\n",
       "      <td>Sarah Kersten Handmade Studio</td>\n",
       "      <td>Help build a studio space for Sarah Kersten Ha...</td>\n",
       "      <td>30000.0</td>\n",
       "      <td>35083.0</td>\n",
       "      <td>US</td>\n",
       "      <td>1413573982</td>\n",
       "      <td>1406328440</td>\n",
       "      <td>1410981982</td>\n",
       "      <td>233</td>\n",
       "      <td>1.00000</td>\n",
       "      <td>Ceramics</td>\n",
       "      <td>Art</td>\n",
       "      <td>successful</td>\n",
       "    </tr>\n",
       "    <tr>\n",
       "      <th>330304757</th>\n",
       "      <td>The Potter and the RAM</td>\n",
       "      <td>I make sturdy, high-fired porcelain tableware ...</td>\n",
       "      <td>16000.0</td>\n",
       "      <td>22314.5</td>\n",
       "      <td>US</td>\n",
       "      <td>1383424322</td>\n",
       "      <td>1375916344</td>\n",
       "      <td>1380832322</td>\n",
       "      <td>273</td>\n",
       "      <td>1.00000</td>\n",
       "      <td>Ceramics</td>\n",
       "      <td>Art</td>\n",
       "      <td>successful</td>\n",
       "    </tr>\n",
       "  </tbody>\n",
       "</table>\n",
       "</div>"
      ],
      "text/plain": [
       "                                                         name  \\\n",
       "id                                                              \n",
       "1295155228                         RMo Studio Needs Your Help   \n",
       "39027197    Animals on Ceramics, Hand Drawn and Handmade, ...   \n",
       "274865                                         Pots On Wheels   \n",
       "112491653                       Sarah Kersten Handmade Studio   \n",
       "330304757                              The Potter and the RAM   \n",
       "\n",
       "                                                        blurb     goal  \\\n",
       "id                                                                       \n",
       "1295155228  Help RMo Studio to buy a new kiln for ceramics...   2500.0   \n",
       "39027197    Custom Hand Drawn Animals on Handmade Ceramic ...    120.0   \n",
       "274865      We're creating a mobile outreach gallery of be...  20000.0   \n",
       "112491653   Help build a studio space for Sarah Kersten Ha...  30000.0   \n",
       "330304757   I make sturdy, high-fired porcelain tableware ...  16000.0   \n",
       "\n",
       "            pledged country    deadline  created_at  launched_at  \\\n",
       "id                                                                 \n",
       "1295155228   5504.0      GB  1610128800  1606933477   1607299280   \n",
       "39027197       38.0      US  1612504740  1607541996   1609434617   \n",
       "274865      25732.0      US  1417496340  1409351310   1415110797   \n",
       "112491653   35083.0      US  1413573982  1406328440   1410981982   \n",
       "330304757   22314.5      US  1383424322  1375916344   1380832322   \n",
       "\n",
       "            backers_count  fx_rate  category main_category       state  \n",
       "id                                                                      \n",
       "1295155228            152  1.36147  Ceramics           Art        live  \n",
       "39027197                3  1.00000  Ceramics           Art        live  \n",
       "274865                278  1.00000  Ceramics           Art  successful  \n",
       "112491653             233  1.00000  Ceramics           Art  successful  \n",
       "330304757             273  1.00000  Ceramics           Art  successful  "
      ]
     },
     "execution_count": 2,
     "metadata": {},
     "output_type": "execute_result"
    }
   ],
   "source": [
    "# tạo dataframe\n",
    "projects_df = pd.read_table('../data/projects_raw.tsv', index_col=0)\n",
    "projects_df.head()"
   ]
  },
  {
   "cell_type": "markdown",
   "metadata": {},
   "source": [
    "## **Dữ liệu có bao nhiêu dòng và cột?**"
   ]
  },
  {
   "cell_type": "code",
   "execution_count": 3,
   "metadata": {},
   "outputs": [
    {
     "data": {
      "text/plain": [
       "(79922, 13)"
      ]
     },
     "execution_count": 3,
     "metadata": {},
     "output_type": "execute_result"
    }
   ],
   "source": [
    "projects_df.shape"
   ]
  },
  {
   "cell_type": "markdown",
   "metadata": {},
   "source": [
    "## Mỗi dòng có ý nghĩa gì?\n",
    "\n",
    "Mỗi dòng chứa thông tin về một dự án góp vốn cộng đồng trên kickstarter."
   ]
  },
  {
   "cell_type": "markdown",
   "metadata": {},
   "source": [
    "## Dữ liệu có các dòng hay cột bị lặp hay bị thiếu không?"
   ]
  },
  {
   "cell_type": "code",
   "execution_count": 3,
   "metadata": {},
   "outputs": [
    {
     "data": {
      "text/plain": [
       "3"
      ]
     },
     "execution_count": 3,
     "metadata": {},
     "output_type": "execute_result"
    }
   ],
   "source": [
    "projects_df.duplicated().sum()"
   ]
  },
  {
   "cell_type": "code",
   "execution_count": 4,
   "metadata": {},
   "outputs": [
    {
     "data": {
      "text/plain": [
       "3"
      ]
     },
     "execution_count": 4,
     "metadata": {},
     "output_type": "execute_result"
    }
   ],
   "source": [
    "projects_df.index.duplicated().sum()"
   ]
  },
  {
   "cell_type": "code",
   "execution_count": 5,
   "metadata": {},
   "outputs": [
    {
     "data": {
      "text/html": [
       "<div>\n",
       "<style scoped>\n",
       "    .dataframe tbody tr th:only-of-type {\n",
       "        vertical-align: middle;\n",
       "    }\n",
       "\n",
       "    .dataframe tbody tr th {\n",
       "        vertical-align: top;\n",
       "    }\n",
       "\n",
       "    .dataframe thead th {\n",
       "        text-align: right;\n",
       "    }\n",
       "</style>\n",
       "<table border=\"1\" class=\"dataframe\">\n",
       "  <thead>\n",
       "    <tr style=\"text-align: right;\">\n",
       "      <th></th>\n",
       "      <th>name</th>\n",
       "      <th>blurb</th>\n",
       "      <th>goal</th>\n",
       "      <th>pledged</th>\n",
       "      <th>country</th>\n",
       "      <th>deadline</th>\n",
       "      <th>created_at</th>\n",
       "      <th>launched_at</th>\n",
       "      <th>backers_count</th>\n",
       "      <th>fx_rate</th>\n",
       "      <th>category</th>\n",
       "      <th>main_category</th>\n",
       "      <th>state</th>\n",
       "    </tr>\n",
       "  </thead>\n",
       "  <tbody>\n",
       "    <tr>\n",
       "      <th>count</th>\n",
       "      <td>79922</td>\n",
       "      <td>79922</td>\n",
       "      <td>79922</td>\n",
       "      <td>79922</td>\n",
       "      <td>79922</td>\n",
       "      <td>79922</td>\n",
       "      <td>79922</td>\n",
       "      <td>79922</td>\n",
       "      <td>79922</td>\n",
       "      <td>79922</td>\n",
       "      <td>79922</td>\n",
       "      <td>79922</td>\n",
       "      <td>79922</td>\n",
       "    </tr>\n",
       "    <tr>\n",
       "      <th>unique</th>\n",
       "      <td>1</td>\n",
       "      <td>2</td>\n",
       "      <td>1</td>\n",
       "      <td>1</td>\n",
       "      <td>1</td>\n",
       "      <td>1</td>\n",
       "      <td>1</td>\n",
       "      <td>1</td>\n",
       "      <td>1</td>\n",
       "      <td>1</td>\n",
       "      <td>1</td>\n",
       "      <td>1</td>\n",
       "      <td>1</td>\n",
       "    </tr>\n",
       "    <tr>\n",
       "      <th>top</th>\n",
       "      <td>False</td>\n",
       "      <td>False</td>\n",
       "      <td>False</td>\n",
       "      <td>False</td>\n",
       "      <td>False</td>\n",
       "      <td>False</td>\n",
       "      <td>False</td>\n",
       "      <td>False</td>\n",
       "      <td>False</td>\n",
       "      <td>False</td>\n",
       "      <td>False</td>\n",
       "      <td>False</td>\n",
       "      <td>False</td>\n",
       "    </tr>\n",
       "    <tr>\n",
       "      <th>freq</th>\n",
       "      <td>79922</td>\n",
       "      <td>79919</td>\n",
       "      <td>79922</td>\n",
       "      <td>79922</td>\n",
       "      <td>79922</td>\n",
       "      <td>79922</td>\n",
       "      <td>79922</td>\n",
       "      <td>79922</td>\n",
       "      <td>79922</td>\n",
       "      <td>79922</td>\n",
       "      <td>79922</td>\n",
       "      <td>79922</td>\n",
       "      <td>79922</td>\n",
       "    </tr>\n",
       "  </tbody>\n",
       "</table>\n",
       "</div>"
      ],
      "text/plain": [
       "         name  blurb   goal pledged country deadline created_at launched_at  \\\n",
       "count   79922  79922  79922   79922   79922    79922      79922       79922   \n",
       "unique      1      2      1       1       1        1          1           1   \n",
       "top     False  False  False   False   False    False      False       False   \n",
       "freq    79922  79919  79922   79922   79922    79922      79922       79922   \n",
       "\n",
       "       backers_count fx_rate category main_category  state  \n",
       "count          79922   79922    79922         79922  79922  \n",
       "unique             1       1        1             1      1  \n",
       "top            False   False    False         False  False  \n",
       "freq           79922   79922    79922         79922  79922  "
      ]
     },
     "execution_count": 5,
     "metadata": {},
     "output_type": "execute_result"
    }
   ],
   "source": [
    "projects_df.isna().describe()"
   ]
  },
  {
   "cell_type": "code",
   "execution_count": 7,
   "metadata": {},
   "outputs": [
    {
     "data": {
      "text/plain": [
       "name             0\n",
       "blurb            3\n",
       "goal             0\n",
       "pledged          0\n",
       "country          0\n",
       "deadline         0\n",
       "created_at       0\n",
       "launched_at      0\n",
       "backers_count    0\n",
       "fx_rate          0\n",
       "category         0\n",
       "main_category    0\n",
       "state            0\n",
       "dtype: int64"
      ]
     },
     "execution_count": 7,
     "metadata": {},
     "output_type": "execute_result"
    }
   ],
   "source": [
    "projects_df.isna().sum()"
   ]
  },
  {
   "cell_type": "markdown",
   "metadata": {},
   "source": [
    "Như vậy là có 3 dòng bị trùng và có 3 dòng bị thiếu dữ liệu ở cột blurb trong tập dữ liệu. Do số dòng bị trùng và thiếu ít nên để đơn giản nhóm thực hiện xóa các dòng trên."
   ]
  },
  {
   "cell_type": "code",
   "execution_count": 3,
   "metadata": {},
   "outputs": [
    {
     "data": {
      "text/plain": [
       "(79919, 13)"
      ]
     },
     "execution_count": 3,
     "metadata": {},
     "output_type": "execute_result"
    }
   ],
   "source": [
    "projects_df.drop_duplicates(inplace=True)\n",
    "projects_df.shape"
   ]
  },
  {
   "cell_type": "code",
   "execution_count": 4,
   "metadata": {},
   "outputs": [
    {
     "data": {
      "text/plain": [
       "(79916, 13)"
      ]
     },
     "execution_count": 4,
     "metadata": {},
     "output_type": "execute_result"
    }
   ],
   "source": [
    "projects_df.dropna(inplace=True)\n",
    "projects_df.shape"
   ]
  },
  {
   "cell_type": "markdown",
   "metadata": {},
   "source": [
    "## Ý nghĩa của mỗi cột"
   ]
  },
  {
   "cell_type": "markdown",
   "metadata": {},
   "source": [
    "Cột | Ý nghĩa\n",
    "--- | -------\n",
    "id | Mã định danh cho từng dự án.\n",
    "name | Tên của dự án.\n",
    "blurb | Lời giới thiệu ngắn gọn về dự án.\n",
    "goal | Số tiền dự án yêu cầu.\n",
    "pledged | Số tiền đã kêu gọi thành công.\n",
    "country | Quốc gia của người/nhóm chủ dự án.\n",
    "deadline | Hạn chót kêu gọi góp vốn.\n",
    "create_at | Ngày tạo dự án.\n",
    "launched_at | Ngày bắt đầu kêu gọi góp vốn.\n",
    "backers_count | Số người đã góp vốn cho dự án.\n",
    "fx_rate | Tỷ giá các đơn vị tiền tệ so với đơn vị tiền tệ được chọn\n",
    "category | Thể loại của dự án.\n",
    "main_category | Thể loại chính của dự án.\n",
    "state | Kết quả gọi vốn của dự án."
   ]
  },
  {
   "cell_type": "markdown",
   "metadata": {},
   "source": [
    "## Mỗi cột hiện đang có kiểu dữ liệu gì?"
   ]
  },
  {
   "cell_type": "code",
   "execution_count": 9,
   "metadata": {},
   "outputs": [
    {
     "data": {
      "text/plain": [
       "name              object\n",
       "blurb             object\n",
       "goal             float64\n",
       "pledged          float64\n",
       "country           object\n",
       "deadline           int64\n",
       "created_at         int64\n",
       "launched_at        int64\n",
       "backers_count      int64\n",
       "fx_rate          float64\n",
       "category          object\n",
       "main_category     object\n",
       "state             object\n",
       "dtype: object"
      ]
     },
     "execution_count": 9,
     "metadata": {},
     "output_type": "execute_result"
    }
   ],
   "source": [
    "projects_df.dtypes"
   ]
  },
  {
   "cell_type": "markdown",
   "metadata": {},
   "source": [
    "## Tỷ lệ các giá trị của cột kết quả như thế nào?"
   ]
  },
  {
   "cell_type": "code",
   "execution_count": 8,
   "metadata": {},
   "outputs": [
    {
     "data": {
      "text/plain": [
       "successful    59.521247\n",
       "failed        34.112068\n",
       "canceled       4.015466\n",
       "live           2.351219\n",
       "Name: state, dtype: float64"
      ]
     },
     "execution_count": 8,
     "metadata": {},
     "output_type": "execute_result"
    }
   ],
   "source": [
    "projects_df['state'].value_counts(normalize=True) * 100"
   ]
  },
  {
   "cell_type": "markdown",
   "metadata": {},
   "source": [
    "**Trong đó:**\n",
    "\n",
    "Trạng thái | Ý nghĩa\n",
    "---------- | -------\n",
    "successful | Dự án đã gọi vốn thành công\n",
    "failed | Dự án gọi vốn thất bại\n",
    "canceled | Dự án bị hủy\n",
    "live | Dự án đang trong thời gian gọi vốn"
   ]
  },
  {
   "cell_type": "markdown",
   "metadata": {},
   "source": [
    "Trong tập dữ liệu có một số dự án đang trong thời gian gọi vốn - có trạng thái 'live', vì vậy chưa có kết quả cuối cùng. Những dự án như dạng này không hữu ích cho quá trình học của mô hình cũng như để kiểm tra độ lỗi khi sử dụng mô hình để dự đoán do chưa có kết quả cuối cùng. Vì vậy nhóm thực hiện tách các dòng dữ liệu chưa có kết quả trước khi thực hiện chia tập huấn luyện, validation và kiểm tra."
   ]
  },
  {
   "cell_type": "code",
   "execution_count": 5,
   "metadata": {},
   "outputs": [
    {
     "data": {
      "text/plain": [
       "(78037, 13)"
      ]
     },
     "execution_count": 5,
     "metadata": {},
     "output_type": "execute_result"
    }
   ],
   "source": [
    "live_projects = projects_df[projects_df['state'] == 'live']\n",
    "projects_df.drop(live_projects.index, inplace=True)\n",
    "projects_df.shape"
   ]
  },
  {
   "cell_type": "markdown",
   "metadata": {},
   "source": [
    "---"
   ]
  },
  {
   "cell_type": "markdown",
   "metadata": {},
   "source": [
    "# 4. Đưa ra câu hỏi cần trả lời"
   ]
  },
  {
   "cell_type": "markdown",
   "metadata": {},
   "source": [
    "Với tập dữ liệu trên thì cột output là cột state - thể hiện kết quả gọi vốn của một dự án. Như vậy câu hỏi mà nhóm đặt ra với tập dữ liệu này là:\n",
    "\n",
    "*Output - kết quả* - củ một dự án góp vốn cộng đồng có thể được tính từ *input - các thông tin về dự án* - theo công thức nào?\n",
    "\n",
    "Việc tìm ra câu trả lời cho câu hỏi này có thể giúp cho một người/nhóm người có ý định kêu gọi góp vốn cộng đồng cho một sản phẩm nào đó họ muốn phát triển có thể phần nào đoán được kết quả của việc gọi vốn, qua đó có thể điều chỉnh dự án của mình - nếu cần thiết - để đạt được kết quả gọi vốn tốt nhất."
   ]
  },
  {
   "cell_type": "markdown",
   "metadata": {},
   "source": [
    "---"
   ]
  },
  {
   "cell_type": "markdown",
   "metadata": {},
   "source": [
    "# 5. Tách các tập huấn luyện, validation và kiểm tra"
   ]
  },
  {
   "cell_type": "code",
   "execution_count": 6,
   "metadata": {},
   "outputs": [],
   "source": [
    "# tạo tập input và output\n",
    "y_sr = projects_df['state']\n",
    "X_df = projects_df.drop(columns='state', axis=1)"
   ]
  },
  {
   "cell_type": "code",
   "execution_count": 7,
   "metadata": {},
   "outputs": [],
   "source": [
    "# Tách tập kiểm tra với tỷ lệ 20% tập dữ liệu ban đầu\n",
    "train_X_df, test_X_df, train_y_sr, test_y_sr = train_test_split(X_df, y_sr, test_size=0.2, stratify=y_sr, random_state=42)"
   ]
  },
  {
   "cell_type": "code",
   "execution_count": 8,
   "metadata": {},
   "outputs": [],
   "source": [
    "# Tách tập validation với tỷ lệ 20% tập dữ liệu sau khi tách tập kiểm tra\n",
    "train_X_df, val_X_df, train_y_sr, val_y_sr = train_test_split(train_X_df, train_y_sr, test_size=0.2, stratify=train_y_sr,\n",
    "                                                             random_state=42)"
   ]
  },
  {
   "cell_type": "code",
   "execution_count": 13,
   "metadata": {},
   "outputs": [
    {
     "data": {
      "text/plain": [
       "(49943, 12)"
      ]
     },
     "execution_count": 13,
     "metadata": {},
     "output_type": "execute_result"
    }
   ],
   "source": [
    "train_X_df.shape"
   ]
  },
  {
   "cell_type": "code",
   "execution_count": 14,
   "metadata": {},
   "outputs": [
    {
     "data": {
      "text/plain": [
       "(49943,)"
      ]
     },
     "execution_count": 14,
     "metadata": {},
     "output_type": "execute_result"
    }
   ],
   "source": [
    "train_y_sr.shape"
   ]
  },
  {
   "cell_type": "code",
   "execution_count": 15,
   "metadata": {},
   "outputs": [
    {
     "data": {
      "text/plain": [
       "(12486, 12)"
      ]
     },
     "execution_count": 15,
     "metadata": {},
     "output_type": "execute_result"
    }
   ],
   "source": [
    "val_X_df.shape"
   ]
  },
  {
   "cell_type": "code",
   "execution_count": 16,
   "metadata": {},
   "outputs": [
    {
     "data": {
      "text/plain": [
       "(12486,)"
      ]
     },
     "execution_count": 16,
     "metadata": {},
     "output_type": "execute_result"
    }
   ],
   "source": [
    "val_y_sr.shape"
   ]
  },
  {
   "cell_type": "code",
   "execution_count": 17,
   "metadata": {},
   "outputs": [
    {
     "data": {
      "text/plain": [
       "(15608, 12)"
      ]
     },
     "execution_count": 17,
     "metadata": {},
     "output_type": "execute_result"
    }
   ],
   "source": [
    "test_X_df.shape"
   ]
  },
  {
   "cell_type": "code",
   "execution_count": 18,
   "metadata": {},
   "outputs": [
    {
     "data": {
      "text/plain": [
       "(15608,)"
      ]
     },
     "execution_count": 18,
     "metadata": {},
     "output_type": "execute_result"
    }
   ],
   "source": [
    "test_y_sr.shape"
   ]
  },
  {
   "cell_type": "markdown",
   "metadata": {},
   "source": [
    "# 6. Khám phá dữ liệu trên tập huấn luyện"
   ]
  },
  {
   "cell_type": "markdown",
   "metadata": {},
   "source": [
    "Mỗi cột input có kiểu dữ liệu gì?"
   ]
  },
  {
   "cell_type": "code",
   "execution_count": 20,
   "metadata": {},
   "outputs": [
    {
     "data": {
      "text/plain": [
       "name              object\n",
       "blurb             object\n",
       "goal             float64\n",
       "pledged          float64\n",
       "country           object\n",
       "deadline           int64\n",
       "created_at         int64\n",
       "launched_at        int64\n",
       "backers_count      int64\n",
       "fx_rate          float64\n",
       "category          object\n",
       "main_category     object\n",
       "dtype: object"
      ]
     },
     "execution_count": 20,
     "metadata": {},
     "output_type": "execute_result"
    }
   ],
   "source": [
    "train_X_df.dtypes"
   ]
  },
  {
   "cell_type": "markdown",
   "metadata": {},
   "source": [
    "Có thể thấy các cột deadline, created_at và launched_at có ý nghĩa liên quan đến ngày tháng nhưng hiện đang ở dạng timestamp và có kiểu dữ liệu int64"
   ]
  },
  {
   "cell_type": "markdown",
   "metadata": {},
   "source": [
    "### Tiền xử lý: Thực hiện chuyển đổi các cột nêu trên về kiểu dữ liệu datetime"
   ]
  },
  {
   "cell_type": "code",
   "execution_count": 9,
   "metadata": {},
   "outputs": [],
   "source": [
    "def colToDatetime(df):\n",
    "    date_cols = ['deadline', 'created_at', 'launched_at']\n",
    "    \n",
    "    new_df = df.copy()\n",
    "    new_df[date_cols] = new_df[date_cols].applymap(date.fromtimestamp).apply(pd.to_datetime)\n",
    "    \n",
    "    return new_df"
   ]
  },
  {
   "cell_type": "code",
   "execution_count": 10,
   "metadata": {},
   "outputs": [
    {
     "data": {
      "text/html": [
       "<div>\n",
       "<style scoped>\n",
       "    .dataframe tbody tr th:only-of-type {\n",
       "        vertical-align: middle;\n",
       "    }\n",
       "\n",
       "    .dataframe tbody tr th {\n",
       "        vertical-align: top;\n",
       "    }\n",
       "\n",
       "    .dataframe thead th {\n",
       "        text-align: right;\n",
       "    }\n",
       "</style>\n",
       "<table border=\"1\" class=\"dataframe\">\n",
       "  <thead>\n",
       "    <tr style=\"text-align: right;\">\n",
       "      <th></th>\n",
       "      <th>name</th>\n",
       "      <th>blurb</th>\n",
       "      <th>goal</th>\n",
       "      <th>pledged</th>\n",
       "      <th>country</th>\n",
       "      <th>deadline</th>\n",
       "      <th>created_at</th>\n",
       "      <th>launched_at</th>\n",
       "      <th>backers_count</th>\n",
       "      <th>fx_rate</th>\n",
       "      <th>category</th>\n",
       "      <th>main_category</th>\n",
       "    </tr>\n",
       "    <tr>\n",
       "      <th>id</th>\n",
       "      <th></th>\n",
       "      <th></th>\n",
       "      <th></th>\n",
       "      <th></th>\n",
       "      <th></th>\n",
       "      <th></th>\n",
       "      <th></th>\n",
       "      <th></th>\n",
       "      <th></th>\n",
       "      <th></th>\n",
       "      <th></th>\n",
       "      <th></th>\n",
       "    </tr>\n",
       "  </thead>\n",
       "  <tbody>\n",
       "    <tr>\n",
       "      <th>179726144</th>\n",
       "      <td>The Avalon Project</td>\n",
       "      <td>A project I started with creating medieval/Tud...</td>\n",
       "      <td>1500.0</td>\n",
       "      <td>13.00</td>\n",
       "      <td>US</td>\n",
       "      <td>2018-03-12</td>\n",
       "      <td>2017-12-11</td>\n",
       "      <td>2018-01-11</td>\n",
       "      <td>2</td>\n",
       "      <td>1.000000</td>\n",
       "      <td>People</td>\n",
       "      <td>Photography</td>\n",
       "    </tr>\n",
       "    <tr>\n",
       "      <th>1180107458</th>\n",
       "      <td>Rider of the Black Sun: A Fantasy Gamebook</td>\n",
       "      <td>Support one of the most ambitious gamebooks ev...</td>\n",
       "      <td>6000.0</td>\n",
       "      <td>41228.00</td>\n",
       "      <td>DE</td>\n",
       "      <td>2017-11-06</td>\n",
       "      <td>2017-08-09</td>\n",
       "      <td>2017-10-09</td>\n",
       "      <td>956</td>\n",
       "      <td>1.217137</td>\n",
       "      <td>Tabletop Games</td>\n",
       "      <td>Games</td>\n",
       "    </tr>\n",
       "    <tr>\n",
       "      <th>1948156939</th>\n",
       "      <td>The Band Called FUSE goes to South by SouthWes...</td>\n",
       "      <td>Help The Band Called FUSE tour to SXSW to brin...</td>\n",
       "      <td>3686.0</td>\n",
       "      <td>5227.36</td>\n",
       "      <td>US</td>\n",
       "      <td>2012-03-01</td>\n",
       "      <td>2012-02-01</td>\n",
       "      <td>2012-02-01</td>\n",
       "      <td>133</td>\n",
       "      <td>1.000000</td>\n",
       "      <td>Hip-Hop</td>\n",
       "      <td>Music</td>\n",
       "    </tr>\n",
       "    <tr>\n",
       "      <th>100441343</th>\n",
       "      <td>World Premiere Recording: Original Piano Works</td>\n",
       "      <td>Piano works by Myron Silberstein; unpublished ...</td>\n",
       "      <td>2250.0</td>\n",
       "      <td>2270.00</td>\n",
       "      <td>US</td>\n",
       "      <td>2019-03-16</td>\n",
       "      <td>2019-01-29</td>\n",
       "      <td>2019-02-14</td>\n",
       "      <td>24</td>\n",
       "      <td>1.000000</td>\n",
       "      <td>Classical Music</td>\n",
       "      <td>Music</td>\n",
       "    </tr>\n",
       "    <tr>\n",
       "      <th>1370866183</th>\n",
       "      <td>The Miskatonic Papers</td>\n",
       "      <td>A limited-edition experiential art book inspir...</td>\n",
       "      <td>22000.0</td>\n",
       "      <td>29211.00</td>\n",
       "      <td>US</td>\n",
       "      <td>2019-09-19</td>\n",
       "      <td>2019-06-20</td>\n",
       "      <td>2019-08-20</td>\n",
       "      <td>151</td>\n",
       "      <td>1.000000</td>\n",
       "      <td>Fiction</td>\n",
       "      <td>Publishing</td>\n",
       "    </tr>\n",
       "  </tbody>\n",
       "</table>\n",
       "</div>"
      ],
      "text/plain": [
       "                                                         name  \\\n",
       "id                                                              \n",
       "179726144                                  The Avalon Project   \n",
       "1180107458         Rider of the Black Sun: A Fantasy Gamebook   \n",
       "1948156939  The Band Called FUSE goes to South by SouthWes...   \n",
       "100441343      World Premiere Recording: Original Piano Works   \n",
       "1370866183                              The Miskatonic Papers   \n",
       "\n",
       "                                                        blurb     goal  \\\n",
       "id                                                                       \n",
       "179726144   A project I started with creating medieval/Tud...   1500.0   \n",
       "1180107458  Support one of the most ambitious gamebooks ev...   6000.0   \n",
       "1948156939  Help The Band Called FUSE tour to SXSW to brin...   3686.0   \n",
       "100441343   Piano works by Myron Silberstein; unpublished ...   2250.0   \n",
       "1370866183  A limited-edition experiential art book inspir...  22000.0   \n",
       "\n",
       "             pledged country   deadline created_at launched_at  backers_count  \\\n",
       "id                                                                              \n",
       "179726144      13.00      US 2018-03-12 2017-12-11  2018-01-11              2   \n",
       "1180107458  41228.00      DE 2017-11-06 2017-08-09  2017-10-09            956   \n",
       "1948156939   5227.36      US 2012-03-01 2012-02-01  2012-02-01            133   \n",
       "100441343    2270.00      US 2019-03-16 2019-01-29  2019-02-14             24   \n",
       "1370866183  29211.00      US 2019-09-19 2019-06-20  2019-08-20            151   \n",
       "\n",
       "             fx_rate         category main_category  \n",
       "id                                                   \n",
       "179726144   1.000000           People   Photography  \n",
       "1180107458  1.217137   Tabletop Games         Games  \n",
       "1948156939  1.000000          Hip-Hop         Music  \n",
       "100441343   1.000000  Classical Music         Music  \n",
       "1370866183  1.000000          Fiction    Publishing  "
      ]
     },
     "execution_count": 10,
     "metadata": {},
     "output_type": "execute_result"
    }
   ],
   "source": [
    "preprocess_df = colToDatetime(train_X_df)\n",
    "preprocess_df.head()"
   ]
  },
  {
   "cell_type": "code",
   "execution_count": 10,
   "metadata": {},
   "outputs": [
    {
     "data": {
      "text/plain": [
       "name                     object\n",
       "blurb                    object\n",
       "goal                    float64\n",
       "pledged                 float64\n",
       "country                  object\n",
       "deadline         datetime64[ns]\n",
       "created_at       datetime64[ns]\n",
       "launched_at      datetime64[ns]\n",
       "backers_count             int64\n",
       "fx_rate                 float64\n",
       "category                 object\n",
       "main_category            object\n",
       "dtype: object"
      ]
     },
     "execution_count": 10,
     "metadata": {},
     "output_type": "execute_result"
    }
   ],
   "source": [
    "preprocess_df.dtypes"
   ]
  },
  {
   "cell_type": "markdown",
   "metadata": {},
   "source": [
    "### Tiếp tục khám phá dữ liệu"
   ]
  },
  {
   "cell_type": "markdown",
   "metadata": {},
   "source": [
    "Cột pledged có ý nghĩa là số tiền mà những người dùng đã đăng ký đóng góp cho một dự án. Tuy nhiên với những dự án chưa bắt đầu gọi vốn thì không thể nào biết được giá trị ở cột pledged. Vì vậy cột pledged không thể dùng để huấn luyện mô hình và phải bị xóa.\n",
    "\n",
    "Tương tự, cột backers_count thể hiện đã có bao nhiêu người tham gia hỗ trợ một dự án. Với những dự án chưa bắt đầu gọi vốn thì không có người nào tham gia hỗ trợ. Vì vậy cũng cần loại bỏ cột này."
   ]
  },
  {
   "cell_type": "markdown",
   "metadata": {},
   "source": [
    "### Tiền xử lý: xóa cột pledged và backers_count"
   ]
  },
  {
   "cell_type": "code",
   "execution_count": 12,
   "metadata": {},
   "outputs": [
    {
     "data": {
      "text/html": [
       "<div>\n",
       "<style scoped>\n",
       "    .dataframe tbody tr th:only-of-type {\n",
       "        vertical-align: middle;\n",
       "    }\n",
       "\n",
       "    .dataframe tbody tr th {\n",
       "        vertical-align: top;\n",
       "    }\n",
       "\n",
       "    .dataframe thead th {\n",
       "        text-align: right;\n",
       "    }\n",
       "</style>\n",
       "<table border=\"1\" class=\"dataframe\">\n",
       "  <thead>\n",
       "    <tr style=\"text-align: right;\">\n",
       "      <th></th>\n",
       "      <th>name</th>\n",
       "      <th>blurb</th>\n",
       "      <th>goal</th>\n",
       "      <th>country</th>\n",
       "      <th>deadline</th>\n",
       "      <th>created_at</th>\n",
       "      <th>launched_at</th>\n",
       "      <th>fx_rate</th>\n",
       "      <th>category</th>\n",
       "      <th>main_category</th>\n",
       "    </tr>\n",
       "    <tr>\n",
       "      <th>id</th>\n",
       "      <th></th>\n",
       "      <th></th>\n",
       "      <th></th>\n",
       "      <th></th>\n",
       "      <th></th>\n",
       "      <th></th>\n",
       "      <th></th>\n",
       "      <th></th>\n",
       "      <th></th>\n",
       "      <th></th>\n",
       "    </tr>\n",
       "  </thead>\n",
       "  <tbody>\n",
       "    <tr>\n",
       "      <th>179726144</th>\n",
       "      <td>The Avalon Project</td>\n",
       "      <td>A project I started with creating medieval/Tud...</td>\n",
       "      <td>1500.0</td>\n",
       "      <td>US</td>\n",
       "      <td>2018-03-12</td>\n",
       "      <td>2017-12-11</td>\n",
       "      <td>2018-01-11</td>\n",
       "      <td>1.000000</td>\n",
       "      <td>People</td>\n",
       "      <td>Photography</td>\n",
       "    </tr>\n",
       "    <tr>\n",
       "      <th>1180107458</th>\n",
       "      <td>Rider of the Black Sun: A Fantasy Gamebook</td>\n",
       "      <td>Support one of the most ambitious gamebooks ev...</td>\n",
       "      <td>6000.0</td>\n",
       "      <td>DE</td>\n",
       "      <td>2017-11-06</td>\n",
       "      <td>2017-08-09</td>\n",
       "      <td>2017-10-09</td>\n",
       "      <td>1.217137</td>\n",
       "      <td>Tabletop Games</td>\n",
       "      <td>Games</td>\n",
       "    </tr>\n",
       "    <tr>\n",
       "      <th>1948156939</th>\n",
       "      <td>The Band Called FUSE goes to South by SouthWes...</td>\n",
       "      <td>Help The Band Called FUSE tour to SXSW to brin...</td>\n",
       "      <td>3686.0</td>\n",
       "      <td>US</td>\n",
       "      <td>2012-03-01</td>\n",
       "      <td>2012-02-01</td>\n",
       "      <td>2012-02-01</td>\n",
       "      <td>1.000000</td>\n",
       "      <td>Hip-Hop</td>\n",
       "      <td>Music</td>\n",
       "    </tr>\n",
       "    <tr>\n",
       "      <th>100441343</th>\n",
       "      <td>World Premiere Recording: Original Piano Works</td>\n",
       "      <td>Piano works by Myron Silberstein; unpublished ...</td>\n",
       "      <td>2250.0</td>\n",
       "      <td>US</td>\n",
       "      <td>2019-03-16</td>\n",
       "      <td>2019-01-29</td>\n",
       "      <td>2019-02-14</td>\n",
       "      <td>1.000000</td>\n",
       "      <td>Classical Music</td>\n",
       "      <td>Music</td>\n",
       "    </tr>\n",
       "    <tr>\n",
       "      <th>1370866183</th>\n",
       "      <td>The Miskatonic Papers</td>\n",
       "      <td>A limited-edition experiential art book inspir...</td>\n",
       "      <td>22000.0</td>\n",
       "      <td>US</td>\n",
       "      <td>2019-09-19</td>\n",
       "      <td>2019-06-20</td>\n",
       "      <td>2019-08-20</td>\n",
       "      <td>1.000000</td>\n",
       "      <td>Fiction</td>\n",
       "      <td>Publishing</td>\n",
       "    </tr>\n",
       "  </tbody>\n",
       "</table>\n",
       "</div>"
      ],
      "text/plain": [
       "                                                         name  \\\n",
       "id                                                              \n",
       "179726144                                  The Avalon Project   \n",
       "1180107458         Rider of the Black Sun: A Fantasy Gamebook   \n",
       "1948156939  The Band Called FUSE goes to South by SouthWes...   \n",
       "100441343      World Premiere Recording: Original Piano Works   \n",
       "1370866183                              The Miskatonic Papers   \n",
       "\n",
       "                                                        blurb     goal  \\\n",
       "id                                                                       \n",
       "179726144   A project I started with creating medieval/Tud...   1500.0   \n",
       "1180107458  Support one of the most ambitious gamebooks ev...   6000.0   \n",
       "1948156939  Help The Band Called FUSE tour to SXSW to brin...   3686.0   \n",
       "100441343   Piano works by Myron Silberstein; unpublished ...   2250.0   \n",
       "1370866183  A limited-edition experiential art book inspir...  22000.0   \n",
       "\n",
       "           country   deadline created_at launched_at   fx_rate  \\\n",
       "id                                                               \n",
       "179726144       US 2018-03-12 2017-12-11  2018-01-11  1.000000   \n",
       "1180107458      DE 2017-11-06 2017-08-09  2017-10-09  1.217137   \n",
       "1948156939      US 2012-03-01 2012-02-01  2012-02-01  1.000000   \n",
       "100441343       US 2019-03-16 2019-01-29  2019-02-14  1.000000   \n",
       "1370866183      US 2019-09-19 2019-06-20  2019-08-20  1.000000   \n",
       "\n",
       "                   category main_category  \n",
       "id                                         \n",
       "179726144            People   Photography  \n",
       "1180107458   Tabletop Games         Games  \n",
       "1948156939          Hip-Hop         Music  \n",
       "100441343   Classical Music         Music  \n",
       "1370866183          Fiction    Publishing  "
      ]
     },
     "execution_count": 12,
     "metadata": {},
     "output_type": "execute_result"
    }
   ],
   "source": [
    "preprocess_df.drop(columns=['pledged', 'backers_count'], inplace=True)\n",
    "preprocess_df.head()"
   ]
  },
  {
   "cell_type": "markdown",
   "metadata": {},
   "source": [
    "### Tiếp tục khám phá dữ liệu"
   ]
  },
  {
   "cell_type": "markdown",
   "metadata": {},
   "source": [
    "Ta thấy cột fx_rate có ý nghĩa là tỷ giá của các đơn vị tiền tệ so với đơn vị tiền tệ được chọn để hiển thị khi truy cập trang web kickstarter. Đồng USD được chọn mặc định khi truy cập kickstarter từ quốc gia không có đơn vị tiền tệ được kickstarter sử dụng. Vì vậy dữ liệu trong cột fx_rate là tỷ giá các đơn vị tiền tệ so với đồng USD.\n",
    "\n",
    "Cột fx_rate có các giá trị khác nhau, cho thấy rằng các dự án yêu cầu số tiền với các đơn vị khác nhau. Việc có nhiều đơn vị tiền tệ có thể làm việc học bị sai lệch, vì vậy nhóm thực hiện tiền xử lý quy đổi các đơn vị tiền tệ về đồng USD - do tỷ giá là so với USD."
   ]
  },
  {
   "cell_type": "markdown",
   "metadata": {},
   "source": [
    "### Tiền xử lý: quy đổi đơn vị ở cột goal"
   ]
  },
  {
   "cell_type": "markdown",
   "metadata": {},
   "source": [
    "Thực hiện nhân cột fx_rate với cột goal để quy đổi tiền tệ về một đơn vị là USD, sau đó xóa cột fx_rate."
   ]
  },
  {
   "cell_type": "code",
   "execution_count": 13,
   "metadata": {},
   "outputs": [],
   "source": [
    "def currencyExchange(df):\n",
    "    fx_df = df.copy()\n",
    "    fx_df['goal'] = (fx_df['goal'] * fx_df['fx_rate']).round(1)\n",
    "    \n",
    "    fx_df.drop(columns='fx_rate', inplace=True)\n",
    "    \n",
    "    return fx_df"
   ]
  },
  {
   "cell_type": "code",
   "execution_count": 14,
   "metadata": {},
   "outputs": [
    {
     "data": {
      "text/html": [
       "<div>\n",
       "<style scoped>\n",
       "    .dataframe tbody tr th:only-of-type {\n",
       "        vertical-align: middle;\n",
       "    }\n",
       "\n",
       "    .dataframe tbody tr th {\n",
       "        vertical-align: top;\n",
       "    }\n",
       "\n",
       "    .dataframe thead th {\n",
       "        text-align: right;\n",
       "    }\n",
       "</style>\n",
       "<table border=\"1\" class=\"dataframe\">\n",
       "  <thead>\n",
       "    <tr style=\"text-align: right;\">\n",
       "      <th></th>\n",
       "      <th>name</th>\n",
       "      <th>blurb</th>\n",
       "      <th>goal</th>\n",
       "      <th>country</th>\n",
       "      <th>deadline</th>\n",
       "      <th>created_at</th>\n",
       "      <th>launched_at</th>\n",
       "      <th>category</th>\n",
       "      <th>main_category</th>\n",
       "    </tr>\n",
       "    <tr>\n",
       "      <th>id</th>\n",
       "      <th></th>\n",
       "      <th></th>\n",
       "      <th></th>\n",
       "      <th></th>\n",
       "      <th></th>\n",
       "      <th></th>\n",
       "      <th></th>\n",
       "      <th></th>\n",
       "      <th></th>\n",
       "    </tr>\n",
       "  </thead>\n",
       "  <tbody>\n",
       "    <tr>\n",
       "      <th>179726144</th>\n",
       "      <td>The Avalon Project</td>\n",
       "      <td>A project I started with creating medieval/Tud...</td>\n",
       "      <td>1500.0</td>\n",
       "      <td>US</td>\n",
       "      <td>2018-03-12</td>\n",
       "      <td>2017-12-11</td>\n",
       "      <td>2018-01-11</td>\n",
       "      <td>People</td>\n",
       "      <td>Photography</td>\n",
       "    </tr>\n",
       "    <tr>\n",
       "      <th>1180107458</th>\n",
       "      <td>Rider of the Black Sun: A Fantasy Gamebook</td>\n",
       "      <td>Support one of the most ambitious gamebooks ev...</td>\n",
       "      <td>7302.8</td>\n",
       "      <td>DE</td>\n",
       "      <td>2017-11-06</td>\n",
       "      <td>2017-08-09</td>\n",
       "      <td>2017-10-09</td>\n",
       "      <td>Tabletop Games</td>\n",
       "      <td>Games</td>\n",
       "    </tr>\n",
       "    <tr>\n",
       "      <th>1948156939</th>\n",
       "      <td>The Band Called FUSE goes to South by SouthWes...</td>\n",
       "      <td>Help The Band Called FUSE tour to SXSW to brin...</td>\n",
       "      <td>3686.0</td>\n",
       "      <td>US</td>\n",
       "      <td>2012-03-01</td>\n",
       "      <td>2012-02-01</td>\n",
       "      <td>2012-02-01</td>\n",
       "      <td>Hip-Hop</td>\n",
       "      <td>Music</td>\n",
       "    </tr>\n",
       "    <tr>\n",
       "      <th>100441343</th>\n",
       "      <td>World Premiere Recording: Original Piano Works</td>\n",
       "      <td>Piano works by Myron Silberstein; unpublished ...</td>\n",
       "      <td>2250.0</td>\n",
       "      <td>US</td>\n",
       "      <td>2019-03-16</td>\n",
       "      <td>2019-01-29</td>\n",
       "      <td>2019-02-14</td>\n",
       "      <td>Classical Music</td>\n",
       "      <td>Music</td>\n",
       "    </tr>\n",
       "    <tr>\n",
       "      <th>1370866183</th>\n",
       "      <td>The Miskatonic Papers</td>\n",
       "      <td>A limited-edition experiential art book inspir...</td>\n",
       "      <td>22000.0</td>\n",
       "      <td>US</td>\n",
       "      <td>2019-09-19</td>\n",
       "      <td>2019-06-20</td>\n",
       "      <td>2019-08-20</td>\n",
       "      <td>Fiction</td>\n",
       "      <td>Publishing</td>\n",
       "    </tr>\n",
       "  </tbody>\n",
       "</table>\n",
       "</div>"
      ],
      "text/plain": [
       "                                                         name  \\\n",
       "id                                                              \n",
       "179726144                                  The Avalon Project   \n",
       "1180107458         Rider of the Black Sun: A Fantasy Gamebook   \n",
       "1948156939  The Band Called FUSE goes to South by SouthWes...   \n",
       "100441343      World Premiere Recording: Original Piano Works   \n",
       "1370866183                              The Miskatonic Papers   \n",
       "\n",
       "                                                        blurb     goal  \\\n",
       "id                                                                       \n",
       "179726144   A project I started with creating medieval/Tud...   1500.0   \n",
       "1180107458  Support one of the most ambitious gamebooks ev...   7302.8   \n",
       "1948156939  Help The Band Called FUSE tour to SXSW to brin...   3686.0   \n",
       "100441343   Piano works by Myron Silberstein; unpublished ...   2250.0   \n",
       "1370866183  A limited-edition experiential art book inspir...  22000.0   \n",
       "\n",
       "           country   deadline created_at launched_at         category  \\\n",
       "id                                                                      \n",
       "179726144       US 2018-03-12 2017-12-11  2018-01-11           People   \n",
       "1180107458      DE 2017-11-06 2017-08-09  2017-10-09   Tabletop Games   \n",
       "1948156939      US 2012-03-01 2012-02-01  2012-02-01          Hip-Hop   \n",
       "100441343       US 2019-03-16 2019-01-29  2019-02-14  Classical Music   \n",
       "1370866183      US 2019-09-19 2019-06-20  2019-08-20          Fiction   \n",
       "\n",
       "           main_category  \n",
       "id                        \n",
       "179726144    Photography  \n",
       "1180107458         Games  \n",
       "1948156939         Music  \n",
       "100441343          Music  \n",
       "1370866183    Publishing  "
      ]
     },
     "execution_count": 14,
     "metadata": {},
     "output_type": "execute_result"
    }
   ],
   "source": [
    "preprocess_df = currencyExchange(preprocess_df)\n",
    "preprocess_df.head()"
   ]
  },
  {
   "cell_type": "markdown",
   "metadata": {},
   "source": [
    "### Tiếp tục khám phá dữ liệu"
   ]
  },
  {
   "cell_type": "markdown",
   "metadata": {},
   "source": [
    "Với các cột deadline, created_at và launched_at, nhóm nhận thấy là có thể suy ra được khoảng thời gian gọi vốn của một dự án cũng như là thời gian từ khi hồ sơ dự án được tạo cho đến khi dự án bắt đầu gọi vốn. Thêm vào đó, hiện tại các cột này đang có kiểu datetime, không phú hợp với kiểu dữ liệu đầu vào khi thực hiện mô hình hóa dữ liệu.\n",
    "\n",
    "Vì vậy nhóm thực hiện tiền xử lý cho các cột trên với các công việc sau:\n",
    "1. Thêm cột mới lưu các khoảng thời gian như đã mô tả.\n",
    "- cột num_days_funding: cho biết khoảng thời gian theo ngày từ khi một dự án bắt đầu đến khi kết thúc việc gọi vốn.\n",
    "- cột create_to_launch: cho biết thời gian từ khi hồ sơ dự án được tạo đến khi dự án bắt đầu gọi vốn.\n",
    "2. Xóa các cột deadline, created_at và launched_at"
   ]
  },
  {
   "cell_type": "markdown",
   "metadata": {},
   "source": [
    "### Tiền xử lý: tính khoảng thời gian từ các cột deadline, created_at và launched_at"
   ]
  },
  {
   "cell_type": "code",
   "execution_count": 15,
   "metadata": {},
   "outputs": [],
   "source": [
    "def dateCalc(X_df):\n",
    "    calc_df = X_df.copy()\n",
    "    \n",
    "    calc_df['num_days_funding'] = (calc_df['deadline'] - calc_df['launched_at']).dt.days\n",
    "    calc_df['create_to_launch'] = (calc_df['launched_at'] - calc_df['created_at']).dt.days\n",
    "    \n",
    "    calc_df.drop(columns=['deadline', 'created_at', 'launched_at'], inplace=True)\n",
    "    \n",
    "    return calc_df"
   ]
  },
  {
   "cell_type": "code",
   "execution_count": 16,
   "metadata": {},
   "outputs": [
    {
     "data": {
      "text/html": [
       "<div>\n",
       "<style scoped>\n",
       "    .dataframe tbody tr th:only-of-type {\n",
       "        vertical-align: middle;\n",
       "    }\n",
       "\n",
       "    .dataframe tbody tr th {\n",
       "        vertical-align: top;\n",
       "    }\n",
       "\n",
       "    .dataframe thead th {\n",
       "        text-align: right;\n",
       "    }\n",
       "</style>\n",
       "<table border=\"1\" class=\"dataframe\">\n",
       "  <thead>\n",
       "    <tr style=\"text-align: right;\">\n",
       "      <th></th>\n",
       "      <th>name</th>\n",
       "      <th>blurb</th>\n",
       "      <th>goal</th>\n",
       "      <th>country</th>\n",
       "      <th>category</th>\n",
       "      <th>main_category</th>\n",
       "      <th>num_days_funding</th>\n",
       "      <th>create_to_launch</th>\n",
       "    </tr>\n",
       "    <tr>\n",
       "      <th>id</th>\n",
       "      <th></th>\n",
       "      <th></th>\n",
       "      <th></th>\n",
       "      <th></th>\n",
       "      <th></th>\n",
       "      <th></th>\n",
       "      <th></th>\n",
       "      <th></th>\n",
       "    </tr>\n",
       "  </thead>\n",
       "  <tbody>\n",
       "    <tr>\n",
       "      <th>179726144</th>\n",
       "      <td>The Avalon Project</td>\n",
       "      <td>A project I started with creating medieval/Tud...</td>\n",
       "      <td>1500.0</td>\n",
       "      <td>US</td>\n",
       "      <td>People</td>\n",
       "      <td>Photography</td>\n",
       "      <td>60</td>\n",
       "      <td>31</td>\n",
       "    </tr>\n",
       "    <tr>\n",
       "      <th>1180107458</th>\n",
       "      <td>Rider of the Black Sun: A Fantasy Gamebook</td>\n",
       "      <td>Support one of the most ambitious gamebooks ev...</td>\n",
       "      <td>7302.8</td>\n",
       "      <td>DE</td>\n",
       "      <td>Tabletop Games</td>\n",
       "      <td>Games</td>\n",
       "      <td>28</td>\n",
       "      <td>61</td>\n",
       "    </tr>\n",
       "    <tr>\n",
       "      <th>1948156939</th>\n",
       "      <td>The Band Called FUSE goes to South by SouthWes...</td>\n",
       "      <td>Help The Band Called FUSE tour to SXSW to brin...</td>\n",
       "      <td>3686.0</td>\n",
       "      <td>US</td>\n",
       "      <td>Hip-Hop</td>\n",
       "      <td>Music</td>\n",
       "      <td>29</td>\n",
       "      <td>0</td>\n",
       "    </tr>\n",
       "    <tr>\n",
       "      <th>100441343</th>\n",
       "      <td>World Premiere Recording: Original Piano Works</td>\n",
       "      <td>Piano works by Myron Silberstein; unpublished ...</td>\n",
       "      <td>2250.0</td>\n",
       "      <td>US</td>\n",
       "      <td>Classical Music</td>\n",
       "      <td>Music</td>\n",
       "      <td>30</td>\n",
       "      <td>16</td>\n",
       "    </tr>\n",
       "    <tr>\n",
       "      <th>1370866183</th>\n",
       "      <td>The Miskatonic Papers</td>\n",
       "      <td>A limited-edition experiential art book inspir...</td>\n",
       "      <td>22000.0</td>\n",
       "      <td>US</td>\n",
       "      <td>Fiction</td>\n",
       "      <td>Publishing</td>\n",
       "      <td>30</td>\n",
       "      <td>61</td>\n",
       "    </tr>\n",
       "  </tbody>\n",
       "</table>\n",
       "</div>"
      ],
      "text/plain": [
       "                                                         name  \\\n",
       "id                                                              \n",
       "179726144                                  The Avalon Project   \n",
       "1180107458         Rider of the Black Sun: A Fantasy Gamebook   \n",
       "1948156939  The Band Called FUSE goes to South by SouthWes...   \n",
       "100441343      World Premiere Recording: Original Piano Works   \n",
       "1370866183                              The Miskatonic Papers   \n",
       "\n",
       "                                                        blurb     goal  \\\n",
       "id                                                                       \n",
       "179726144   A project I started with creating medieval/Tud...   1500.0   \n",
       "1180107458  Support one of the most ambitious gamebooks ev...   7302.8   \n",
       "1948156939  Help The Band Called FUSE tour to SXSW to brin...   3686.0   \n",
       "100441343   Piano works by Myron Silberstein; unpublished ...   2250.0   \n",
       "1370866183  A limited-edition experiential art book inspir...  22000.0   \n",
       "\n",
       "           country         category main_category  num_days_funding  \\\n",
       "id                                                                    \n",
       "179726144       US           People   Photography                60   \n",
       "1180107458      DE   Tabletop Games         Games                28   \n",
       "1948156939      US          Hip-Hop         Music                29   \n",
       "100441343       US  Classical Music         Music                30   \n",
       "1370866183      US          Fiction    Publishing                30   \n",
       "\n",
       "            create_to_launch  \n",
       "id                            \n",
       "179726144                 31  \n",
       "1180107458                61  \n",
       "1948156939                 0  \n",
       "100441343                 16  \n",
       "1370866183                61  "
      ]
     },
     "execution_count": 16,
     "metadata": {},
     "output_type": "execute_result"
    }
   ],
   "source": [
    "preprocess_df = dateCalc(preprocess_df)\n",
    "preprocess_df.head()"
   ]
  },
  {
   "cell_type": "markdown",
   "metadata": {},
   "source": [
    "# 7. Tiền xử lý"
   ]
  },
  {
   "cell_type": "markdown",
   "metadata": {},
   "source": [
    "Qua bước khám phá dữ liệu, nhóm quyết định thực hiện các bước tiền xủ lý như sau:\n",
    "- Xóa cột backers_count và pledged vì 2 cột này chỉ có giá trị sau khi một dự án đã bắt đầu gọi vốn, không thể dùng để dự đoán dự án chưa bắt đầu.\n",
    "- Sử dụng cột fx_rate để quy đổi đơn vị cho cột goal và xóa cột fx_rate.\n",
    "- Đối với các cột deadline, created_at và launched_at:\n",
    "    - Chuyển đổi giá trị các cột từ dạng timestamp sang datetiem\n",
    "    - Tính các khoảng thời gian (đơn vị là ngày):\n",
    "        - Khoảng thời gian gọi vốn của dự án và lưu vào cột 'num_days_funding'.\n",
    "        - Thời gian từ khi dự án được tạo đến khi bắt đầu gọi vốn, lưu vào cột 'create_to_launch'.\n",
    "    - Cuối cùng là xóa các cột deadline, created_at và launched_at.\n",
    "\n",
    "Sau các bước trên ta thấy các cột \"num_days_funding\", \"create_to_launch\" và cột \"goal\" là những thuộc tính liên tục có miền giá trị là các số >= 0, vì vậy cần rời rạc hóa các cột này.\n",
    "\n",
    "Đối với các cột không phải dạng số và không có thứ tự bao gồm: \"country\", \"category\" và \"main_category\" thực hiện chuyển về dạng số bằng phương pháp mã hóa one-hot.\n",
    "\n",
    "Còn lại cột name và blurb có dạng chuỗi, nhóm quyết định thực hiện các phương án sau, nhóm tạo 1 pipeline với mỗi phương án:\n",
    "- Sử dụng phương pháp Bag of Words.\n",
    "- Sử dụng phương pháp tf-idf."
   ]
  },
  {
   "cell_type": "markdown",
   "metadata": {},
   "source": [
    "## Tạo các pipeline tiền xử lý"
   ]
  },
  {
   "cell_type": "code",
   "execution_count": 24,
   "metadata": {},
   "outputs": [],
   "source": [
    "del_cols = ['pledged', 'backers_count']\n",
    "continuous_attr_cols = ['goal', 'num_days_funding', 'create_to_launch']\n",
    "unorder_cat_cols = ['country', 'category', 'main_category']\n",
    "txt_cols = ['name', 'blurb']\n",
    "\n",
    "# tạo column transformer cho các cột thuộc tính liên tục và định danh không thứ tự\n",
    "cat_n_con_transformer = make_column_transformer(('drop', del_cols), (KBinsDiscretizer(), continuous_attr_cols),\n",
    "                                            (OneHotEncoder(handle_unknown='ignore'), unorder_cat_cols),\n",
    "                                             remainder='passthrough')\n",
    "\n",
    "# tạo column transformer tiền xử lý các cột chuỗi sử dụng Bag of Words\n",
    "txt_attr_BoW = make_column_transformer((CountVectorizer(strip_accents='unicode'), txt_cols), remainder='passthrough')\n",
    "\n",
    "# tạo column transformer tiền xử lý các cột chuỗi sử dụng tf-idf\n",
    "txt_attr_Tfidf = make_column_transformer((TfidfVectorizer(strip_accents='unicode'), txt_cols), remainder='passthrough')\n",
    "\n",
    "#Tạo tiền xử lý cho các cột không phải dạng chuỗi\n",
    "common_preprocess = make_pipeline(FunctionTransformer(currencyExchange), FunctionTransformer(colToDatetime),\n",
    "                                  FunctionTransformer(dateCalc), cat_n_con_transformer)\n",
    "\n",
    "# tạo mô hình neural network\n",
    "neural_network = MLPClassifier(random_state=42, max_iter=3000)\n",
    "\n",
    "# tạo pipeline đầy đử\n",
    "# phương thức Bag of Words\n",
    "full_pipeline_BoW = make_pipeline(common_preprocess, txt_attr_BoW, neural_network)\n",
    "\n",
    "# phương thức tf-idf\n",
    "full_pipeline_Tfidf = make_pipeline(common_preprocess, txt_attr_Tfidf, neural_network)"
   ]
  },
  {
   "cell_type": "code",
   "execution_count": 25,
   "metadata": {},
   "outputs": [
    {
     "data": {
      "text/html": [
       "<style>div.sk-top-container {color: black;background-color: white;}div.sk-toggleable {background-color: white;}label.sk-toggleable__label {cursor: pointer;display: block;width: 100%;margin-bottom: 0;padding: 0.2em 0.3em;box-sizing: border-box;text-align: center;}div.sk-toggleable__content {max-height: 0;max-width: 0;overflow: hidden;text-align: left;background-color: #f0f8ff;}div.sk-toggleable__content pre {margin: 0.2em;color: black;border-radius: 0.25em;background-color: #f0f8ff;}input.sk-toggleable__control:checked~div.sk-toggleable__content {max-height: 200px;max-width: 100%;overflow: auto;}div.sk-estimator input.sk-toggleable__control:checked~label.sk-toggleable__label {background-color: #d4ebff;}div.sk-label input.sk-toggleable__control:checked~label.sk-toggleable__label {background-color: #d4ebff;}input.sk-hidden--visually {border: 0;clip: rect(1px 1px 1px 1px);clip: rect(1px, 1px, 1px, 1px);height: 1px;margin: -1px;overflow: hidden;padding: 0;position: absolute;width: 1px;}div.sk-estimator {font-family: monospace;background-color: #f0f8ff;margin: 0.25em 0.25em;border: 1px dotted black;border-radius: 0.25em;box-sizing: border-box;}div.sk-estimator:hover {background-color: #d4ebff;}div.sk-parallel-item::after {content: \"\";width: 100%;border-bottom: 1px solid gray;flex-grow: 1;}div.sk-label:hover label.sk-toggleable__label {background-color: #d4ebff;}div.sk-serial::before {content: \"\";position: absolute;border-left: 1px solid gray;box-sizing: border-box;top: 2em;bottom: 0;left: 50%;}div.sk-serial {display: flex;flex-direction: column;align-items: center;background-color: white;}div.sk-item {z-index: 1;}div.sk-parallel {display: flex;align-items: stretch;justify-content: center;background-color: white;}div.sk-parallel-item {display: flex;flex-direction: column;position: relative;background-color: white;}div.sk-parallel-item:first-child::after {align-self: flex-end;width: 50%;}div.sk-parallel-item:last-child::after {align-self: flex-start;width: 50%;}div.sk-parallel-item:only-child::after {width: 0;}div.sk-dashed-wrapped {border: 1px dashed gray;margin: 0.2em;box-sizing: border-box;padding-bottom: 0.1em;background-color: white;position: relative;}div.sk-label label {font-family: monospace;font-weight: bold;background-color: white;display: inline-block;line-height: 1.2em;}div.sk-label-container {position: relative;z-index: 2;text-align: center;}div.sk-container {display: inline-block;position: relative;}</style><div class=\"sk-top-container\"><div class=\"sk-container\"><div class=\"sk-item sk-dashed-wrapped\"><div class=\"sk-label-container\"><div class=\"sk-label sk-toggleable\"><input class=\"sk-toggleable__control sk-hidden--visually\" id=\"6bf80a26-4321-44cb-bf54-a7990ded7b16\" type=\"checkbox\" ><label class=\"sk-toggleable__label\" for=\"6bf80a26-4321-44cb-bf54-a7990ded7b16\">Pipeline</label><div class=\"sk-toggleable__content\"><pre>Pipeline(steps=[('pipeline',\n",
       "                 Pipeline(steps=[('functiontransformer-1',\n",
       "                                  FunctionTransformer(func=<function currencyExchange at 0x7f821083e790>)),\n",
       "                                 ('functiontransformer-2',\n",
       "                                  FunctionTransformer(func=<function colToDatetime at 0x7f821083e5e0>)),\n",
       "                                 ('functiontransformer-3',\n",
       "                                  FunctionTransformer(func=<function dateCalc at 0x7f823c7f51f0>)),\n",
       "                                 ('columntransformer',\n",
       "                                  ColumnTrans...\n",
       "                                                                    'num_days_funding',\n",
       "                                                                    'create_to_launch']),\n",
       "                                                                  ('onehotencoder',\n",
       "                                                                   OneHotEncoder(handle_unknown='ignore'),\n",
       "                                                                   ['country',\n",
       "                                                                    'category',\n",
       "                                                                    'main_category'])]))])),\n",
       "                ('columntransformer',\n",
       "                 ColumnTransformer(remainder='passthrough',\n",
       "                                   transformers=[('tfidfvectorizer',\n",
       "                                                  TfidfVectorizer(strip_accents='unicode'),\n",
       "                                                  ['name', 'blurb'])])),\n",
       "                ('mlpclassifier',\n",
       "                 MLPClassifier(max_iter=3000, random_state=42))])</pre></div></div></div><div class=\"sk-serial\"><div class=\"sk-item\"><div class=\"sk-label-container\"><div class=\"sk-label sk-toggleable\"><input class=\"sk-toggleable__control sk-hidden--visually\" id=\"20be7421-1c31-4b5b-95ec-a4901728564b\" type=\"checkbox\" ><label class=\"sk-toggleable__label\" for=\"20be7421-1c31-4b5b-95ec-a4901728564b\">pipeline: Pipeline</label><div class=\"sk-toggleable__content\"><pre>Pipeline(steps=[('functiontransformer-1',\n",
       "                 FunctionTransformer(func=<function currencyExchange at 0x7f821083e790>)),\n",
       "                ('functiontransformer-2',\n",
       "                 FunctionTransformer(func=<function colToDatetime at 0x7f821083e5e0>)),\n",
       "                ('functiontransformer-3',\n",
       "                 FunctionTransformer(func=<function dateCalc at 0x7f823c7f51f0>)),\n",
       "                ('columntransformer',\n",
       "                 ColumnTransformer(remainder='passthrough',\n",
       "                                   transformers=[('drop', 'drop',\n",
       "                                                  ['pledged', 'backers_count']),\n",
       "                                                 ('kbinsdiscretizer',\n",
       "                                                  KBinsDiscretizer(),\n",
       "                                                  ['goal', 'num_days_funding',\n",
       "                                                   'create_to_launch']),\n",
       "                                                 ('onehotencoder',\n",
       "                                                  OneHotEncoder(handle_unknown='ignore'),\n",
       "                                                  ['country', 'category',\n",
       "                                                   'main_category'])]))])</pre></div></div></div><div class=\"sk-serial\"><div class=\"sk-item\"><div class=\"sk-estimator sk-toggleable\"><input class=\"sk-toggleable__control sk-hidden--visually\" id=\"e41b0b57-85b0-46f2-b25d-55b4a0607664\" type=\"checkbox\" ><label class=\"sk-toggleable__label\" for=\"e41b0b57-85b0-46f2-b25d-55b4a0607664\">FunctionTransformer</label><div class=\"sk-toggleable__content\"><pre>FunctionTransformer(func=<function currencyExchange at 0x7f821083e790>)</pre></div></div></div><div class=\"sk-item\"><div class=\"sk-estimator sk-toggleable\"><input class=\"sk-toggleable__control sk-hidden--visually\" id=\"9eaf13ec-3270-4e86-804f-e4c5980f0293\" type=\"checkbox\" ><label class=\"sk-toggleable__label\" for=\"9eaf13ec-3270-4e86-804f-e4c5980f0293\">FunctionTransformer</label><div class=\"sk-toggleable__content\"><pre>FunctionTransformer(func=<function colToDatetime at 0x7f821083e5e0>)</pre></div></div></div><div class=\"sk-item\"><div class=\"sk-estimator sk-toggleable\"><input class=\"sk-toggleable__control sk-hidden--visually\" id=\"6c2c6e38-82c4-4f32-b129-bc662da3da9a\" type=\"checkbox\" ><label class=\"sk-toggleable__label\" for=\"6c2c6e38-82c4-4f32-b129-bc662da3da9a\">FunctionTransformer</label><div class=\"sk-toggleable__content\"><pre>FunctionTransformer(func=<function dateCalc at 0x7f823c7f51f0>)</pre></div></div></div><div class=\"sk-item sk-dashed-wrapped\"><div class=\"sk-label-container\"><div class=\"sk-label sk-toggleable\"><input class=\"sk-toggleable__control sk-hidden--visually\" id=\"fda02848-315a-4028-af54-a9bc59853595\" type=\"checkbox\" ><label class=\"sk-toggleable__label\" for=\"fda02848-315a-4028-af54-a9bc59853595\">columntransformer: ColumnTransformer</label><div class=\"sk-toggleable__content\"><pre>ColumnTransformer(remainder='passthrough',\n",
       "                  transformers=[('drop', 'drop', ['pledged', 'backers_count']),\n",
       "                                ('kbinsdiscretizer', KBinsDiscretizer(),\n",
       "                                 ['goal', 'num_days_funding',\n",
       "                                  'create_to_launch']),\n",
       "                                ('onehotencoder',\n",
       "                                 OneHotEncoder(handle_unknown='ignore'),\n",
       "                                 ['country', 'category', 'main_category'])])</pre></div></div></div><div class=\"sk-parallel\"><div class=\"sk-parallel-item\"><div class=\"sk-item\"><div class=\"sk-label-container\"><div class=\"sk-label sk-toggleable\"><input class=\"sk-toggleable__control sk-hidden--visually\" id=\"2b681cd1-5af6-4f75-9eb1-bd6b58e5e23b\" type=\"checkbox\" ><label class=\"sk-toggleable__label\" for=\"2b681cd1-5af6-4f75-9eb1-bd6b58e5e23b\">drop</label><div class=\"sk-toggleable__content\"><pre>['pledged', 'backers_count']</pre></div></div></div><div class=\"sk-serial\"><div class=\"sk-item\"><div class=\"sk-estimator sk-toggleable\"><input class=\"sk-toggleable__control sk-hidden--visually\" id=\"c4089558-91a6-4ee6-b592-db8398585e7c\" type=\"checkbox\" ><label class=\"sk-toggleable__label\" for=\"c4089558-91a6-4ee6-b592-db8398585e7c\">drop</label><div class=\"sk-toggleable__content\"><pre>drop</pre></div></div></div></div></div></div><div class=\"sk-parallel-item\"><div class=\"sk-item\"><div class=\"sk-label-container\"><div class=\"sk-label sk-toggleable\"><input class=\"sk-toggleable__control sk-hidden--visually\" id=\"1b91e574-555a-46d6-8ce0-f6fd0711aef1\" type=\"checkbox\" ><label class=\"sk-toggleable__label\" for=\"1b91e574-555a-46d6-8ce0-f6fd0711aef1\">kbinsdiscretizer</label><div class=\"sk-toggleable__content\"><pre>['goal', 'num_days_funding', 'create_to_launch']</pre></div></div></div><div class=\"sk-serial\"><div class=\"sk-item\"><div class=\"sk-estimator sk-toggleable\"><input class=\"sk-toggleable__control sk-hidden--visually\" id=\"f0dbd96e-1d90-4740-828b-4e8e3abfbb5a\" type=\"checkbox\" ><label class=\"sk-toggleable__label\" for=\"f0dbd96e-1d90-4740-828b-4e8e3abfbb5a\">KBinsDiscretizer</label><div class=\"sk-toggleable__content\"><pre>KBinsDiscretizer()</pre></div></div></div></div></div></div><div class=\"sk-parallel-item\"><div class=\"sk-item\"><div class=\"sk-label-container\"><div class=\"sk-label sk-toggleable\"><input class=\"sk-toggleable__control sk-hidden--visually\" id=\"ffbf1732-25fb-4182-b1fb-525560657e14\" type=\"checkbox\" ><label class=\"sk-toggleable__label\" for=\"ffbf1732-25fb-4182-b1fb-525560657e14\">onehotencoder</label><div class=\"sk-toggleable__content\"><pre>['country', 'category', 'main_category']</pre></div></div></div><div class=\"sk-serial\"><div class=\"sk-item\"><div class=\"sk-estimator sk-toggleable\"><input class=\"sk-toggleable__control sk-hidden--visually\" id=\"969b435e-a5e0-4fed-85cc-34e1d0af83f0\" type=\"checkbox\" ><label class=\"sk-toggleable__label\" for=\"969b435e-a5e0-4fed-85cc-34e1d0af83f0\">OneHotEncoder</label><div class=\"sk-toggleable__content\"><pre>OneHotEncoder(handle_unknown='ignore')</pre></div></div></div></div></div></div></div></div></div></div><div class=\"sk-item sk-dashed-wrapped\"><div class=\"sk-label-container\"><div class=\"sk-label sk-toggleable\"><input class=\"sk-toggleable__control sk-hidden--visually\" id=\"8bfb648d-424d-4ccc-9c15-74d0a6a0481a\" type=\"checkbox\" ><label class=\"sk-toggleable__label\" for=\"8bfb648d-424d-4ccc-9c15-74d0a6a0481a\">columntransformer: ColumnTransformer</label><div class=\"sk-toggleable__content\"><pre>ColumnTransformer(remainder='passthrough',\n",
       "                  transformers=[('tfidfvectorizer',\n",
       "                                 TfidfVectorizer(strip_accents='unicode'),\n",
       "                                 ['name', 'blurb'])])</pre></div></div></div><div class=\"sk-parallel\"><div class=\"sk-parallel-item\"><div class=\"sk-item\"><div class=\"sk-label-container\"><div class=\"sk-label sk-toggleable\"><input class=\"sk-toggleable__control sk-hidden--visually\" id=\"27761226-3d6c-4a12-b0fe-974d99131852\" type=\"checkbox\" ><label class=\"sk-toggleable__label\" for=\"27761226-3d6c-4a12-b0fe-974d99131852\">tfidfvectorizer</label><div class=\"sk-toggleable__content\"><pre>['name', 'blurb']</pre></div></div></div><div class=\"sk-serial\"><div class=\"sk-item\"><div class=\"sk-estimator sk-toggleable\"><input class=\"sk-toggleable__control sk-hidden--visually\" id=\"c843fda4-ed84-4a48-989a-7948da7837d6\" type=\"checkbox\" ><label class=\"sk-toggleable__label\" for=\"c843fda4-ed84-4a48-989a-7948da7837d6\">TfidfVectorizer</label><div class=\"sk-toggleable__content\"><pre>TfidfVectorizer(strip_accents='unicode')</pre></div></div></div></div></div></div></div></div><div class=\"sk-item\"><div class=\"sk-estimator sk-toggleable\"><input class=\"sk-toggleable__control sk-hidden--visually\" id=\"d13fe3b1-a1a8-4447-9390-3511672bc38a\" type=\"checkbox\" ><label class=\"sk-toggleable__label\" for=\"d13fe3b1-a1a8-4447-9390-3511672bc38a\">MLPClassifier</label><div class=\"sk-toggleable__content\"><pre>MLPClassifier(max_iter=3000, random_state=42)</pre></div></div></div></div></div></div></div>"
      ],
      "text/plain": [
       "Pipeline(steps=[('pipeline',\n",
       "                 Pipeline(steps=[('functiontransformer-1',\n",
       "                                  FunctionTransformer(func=<function currencyExchange at 0x7f821083e790>)),\n",
       "                                 ('functiontransformer-2',\n",
       "                                  FunctionTransformer(func=<function colToDatetime at 0x7f821083e5e0>)),\n",
       "                                 ('functiontransformer-3',\n",
       "                                  FunctionTransformer(func=<function dateCalc at 0x7f823c7f51f0>)),\n",
       "                                 ('columntransformer',\n",
       "                                  ColumnTrans...\n",
       "                                                                    'num_days_funding',\n",
       "                                                                    'create_to_launch']),\n",
       "                                                                  ('onehotencoder',\n",
       "                                                                   OneHotEncoder(handle_unknown='ignore'),\n",
       "                                                                   ['country',\n",
       "                                                                    'category',\n",
       "                                                                    'main_category'])]))])),\n",
       "                ('columntransformer',\n",
       "                 ColumnTransformer(remainder='passthrough',\n",
       "                                   transformers=[('tfidfvectorizer',\n",
       "                                                  TfidfVectorizer(strip_accents='unicode'),\n",
       "                                                  ['name', 'blurb'])])),\n",
       "                ('mlpclassifier',\n",
       "                 MLPClassifier(max_iter=3000, random_state=42))])"
      ]
     },
     "execution_count": 25,
     "metadata": {},
     "output_type": "execute_result"
    }
   ],
   "source": [
    "full_pipeline_Tfidf"
   ]
  },
  {
   "cell_type": "code",
   "execution_count": null,
   "metadata": {},
   "outputs": [],
   "source": [
    "# tạo danh sách các siêu tham số để thử nghiệm mô hình\n",
    "layers = [(2 ** x,) for x in range(1, 6)]\n",
    "alphas = [math.exp(x) for x in range(5)]\n",
    "ngrams = [(1, 2), (1, 3)]"
   ]
  },
  {
   "cell_type": "markdown",
   "metadata": {},
   "source": [
    "## Thử nghiệm các mô hình"
   ]
  },
  {
   "cell_type": "code",
   "execution_count": null,
   "metadata": {},
   "outputs": [],
   "source": []
  }
 ],
 "metadata": {
  "kernelspec": {
   "display_name": "Python 3",
   "language": "python",
   "name": "python3"
  },
  "language_info": {
   "codemirror_mode": {
    "name": "ipython",
    "version": 3
   },
   "file_extension": ".py",
   "mimetype": "text/x-python",
   "name": "python",
   "nbconvert_exporter": "python",
   "pygments_lexer": "ipython3",
   "version": "3.8.3"
  }
 },
 "nbformat": 4,
 "nbformat_minor": 4
}
