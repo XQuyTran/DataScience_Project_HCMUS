{
 "cells": [
  {
   "cell_type": "markdown",
   "metadata": {},
   "source": [
    "# Nhóm 24\n",
    "# Danh sách thành viên:\n",
    "\n",
    "- Trần Xuân Quý - 18120231\n",
    "- Trương Minh Tài - 18120544"
   ]
  },
  {
   "cell_type": "markdown",
   "metadata": {},
   "source": [
    "# 1. Import các thư viện cần thiết"
   ]
  },
  {
   "cell_type": "code",
   "execution_count": null,
   "metadata": {},
   "outputs": [],
   "source": [
    "from selenium import webdriver\n",
    "from bs4 import BeautifulSoup\n",
    "import time, json, csv, re, os"
   ]
  },
  {
   "cell_type": "code",
   "execution_count": 1,
   "metadata": {},
   "outputs": [],
   "source": [
    "%matplotlib inline\n",
    "import numpy as np\n",
    "import math\n",
    "import seaborn as sns\n",
    "import pandas as pd\n",
    "from datetime import date\n",
    "import datetime\n",
    "\n",
    "from sklearn.model_selection import train_test_split\n",
    "\n",
    "from sklearn.preprocessing import FunctionTransformer, KBinsDiscretizer, OneHotEncoder, StandardScaler\n",
    "\n",
    "from sklearn.feature_extraction.text import CountVectorizer, TfidfVectorizer\n",
    "\n",
    "from sklearn.pipeline import make_pipeline, Pipeline\n",
    "\n",
    "from sklearn.neural_network import MLPClassifier\n",
    "\n",
    "from sklearn.compose import make_column_transformer\n",
    "from sklearn.decomposition import TruncatedSVD\n",
    "\n",
    "from sklearn import set_config\n",
    "set_config(display='diagram')"
   ]
  },
  {
   "cell_type": "code",
   "execution_count": 24,
   "metadata": {},
   "outputs": [],
   "source": [
    "from matplotlib import pyplot as plt"
   ]
  },
  {
   "cell_type": "markdown",
   "metadata": {},
   "source": [
    "---"
   ]
  },
  {
   "cell_type": "markdown",
   "metadata": {},
   "source": [
    "# 2. Thu thập dữ liệu\n",
    "\n",
    "[Kickstarter](https://www.kickstarter.com) là trang web cho phép người dùng gọi vốn từ cộng đồng để phát triển một sản phẩm nào đó thuộc lĩnh vực như là: nghệ thuật, truyện tranh, chế tác, phim ảnh, thực phẩm, báo chí, âm nhạc, game, thiết kế, ...\n",
    "\n",
    "Trong đồ án, nhóm chúng em sẽ thu thập môt số dữ liệu về các dự án hiện có trên nền tảng kickstarter. Theo như file [robots.txt](https://www.kickstarter.com/robots.txt) của kickstarter thì trang không cho phép thu thập thông tin về người hỗ trợ, số tiền đã được góp vốn, widget trong từng trang dự án và trang hồ sơ người dùng, còn lại thì không bị cấm. Nhóm thực hiện thu thập trên trang [discover](https://www.kickstarter.com/discover?ref=nav) nên không vi phạm yêu cầu của kickstarter.\n",
    "\n",
    "Ở đây nhóm sử dụng thư viện Selenium vì cần phải thực hiện một số thao tác click chuột và cuộn trang thì kickstarter mới tải thêm dữ liệu.\n",
    "\n",
    "- Sử dụng thư viện Selenium truy cập trang [discover](https://www.kickstarter.com/discover?ref=nav) của kickstarter và thu thập thông tin của tất cả project hiện có.\n",
    "- Dữ liệu của các dự án được thu thập bao gồm: id, tên, lời giới thiệu, số tiền mục tiêu, số tiền đã kêu gọi, quốc gia, hạn chót, ngày tạo, ngày khởi động, số người tham gia hỗ trợ, tỉ giá ngoại tê, thể loại, thể loại chính và kết quả gọi vốn của dự án.\n",
    "- Dữ liệu thu thập được lưu vào file projects_raw.tsv"
   ]
  },
  {
   "cell_type": "code",
   "execution_count": null,
   "metadata": {},
   "outputs": [],
   "source": [
    "# tạo file tsv lưu dữ liệu\n",
    "projects_data = open('projects_raw.tsv', 'w', newline='', encoding='utf-8')"
   ]
  },
  {
   "cell_type": "code",
   "execution_count": null,
   "metadata": {},
   "outputs": [],
   "source": [
    "# tạo danh sách các cột\n",
    "columns = ['id','name','blurb','goal','pledged','country','deadline','created_at','launched_at',\n",
    "           'backers_count','fx_rate','category','main_category','state']\n",
    "\n",
    "# tạo danh sách các cột có thể thu thập trực tiếp\n",
    "cols_collect_data = columns.copy()\n",
    "cols_collect_data.remove('category')\n",
    "cols_collect_data.remove('main_category')"
   ]
  },
  {
   "cell_type": "code",
   "execution_count": null,
   "metadata": {},
   "outputs": [],
   "source": [
    "# tạo đối tượng ghi file và ghi vào tên cột\n",
    "writer = csv.DictWriter(projects_data, fieldnames=columns,delimiter='\\t')\n",
    "writer.writeheader()"
   ]
  },
  {
   "cell_type": "code",
   "execution_count": null,
   "metadata": {},
   "outputs": [],
   "source": [
    "# tạo đối tượng webdriver và truy cập trang kickstarter.com mục discover\n",
    "# browser = webdriver.Chrome(executable_path = './browser_drivers/chromedriver.exe')\n",
    "browser = webdriver.Edge(executable_path = '../browser_drivers/msedgedriver.exe')\n",
    "browser.get('https://www.kickstarter.com/discover?ref=nav')"
   ]
  },
  {
   "cell_type": "code",
   "execution_count": null,
   "metadata": {},
   "outputs": [],
   "source": [
    "# parse trang vừa tải\n",
    "html_tree = BeautifulSoup(browser.page_source, 'html.parser')"
   ]
  },
  {
   "cell_type": "code",
   "execution_count": null,
   "metadata": {},
   "outputs": [],
   "source": [
    "# tìm đường dẫn tới những thể loại, lĩnh vực\n",
    "categories_ls = []\n",
    "cat_filter = html_tree.find('select', {'name':'category_id'})"
   ]
  },
  {
   "cell_type": "code",
   "execution_count": null,
   "metadata": {},
   "outputs": [],
   "source": [
    "# tìm tag option và có thuộc tính data-urls\n",
    "# kiểm tra tag option có thuộc tính data-parent-id hay không\n",
    "# nếu có thì thêm vào danh sách đường dẫn\n",
    "option = cat_filter.find('option', {'data-urls':True})\n",
    "while True:\n",
    "    main_cat = False\n",
    "\n",
    "    try:\n",
    "        option['data-parent-id']\n",
    "    except:\n",
    "        main_cat = True\n",
    "\n",
    "    if not main_cat:\n",
    "        categories_ls.append(re.search('\"(http:.+)\"', option['data-urls']).group(1))\n",
    "\n",
    "    option = option.next_sibling\n",
    "    if option == None:\n",
    "        break"
   ]
  },
  {
   "cell_type": "code",
   "execution_count": null,
   "metadata": {},
   "outputs": [],
   "source": [
    "# tạo từ điển lưu dữ liệu thu thập được\n",
    "data_collect = dict.fromkeys(cols_collect_data)\n",
    "\n",
    "# truy cập trang của từng thể loại chính và thu thập dữ liệu\n",
    "for category_link in categories_ls:\n",
    "    time.sleep(5) # đợi 1 khoảng thời gian trước khi tải trang mới\n",
    "\n",
    "    # tải trang và tìm nút 'load more'\n",
    "    browser.get(category_link)\n",
    "    browser.find_element_by_class_name('load_more').click()\n",
    "\n",
    "    # cuộn tới cuối trang để tải thêm project\n",
    "    last_height = browser.execute_script(\"return document.body.scrollHeight\")\n",
    "    while True:\n",
    "        browser.execute_script('window.scrollTo(0, document.body.scrollHeight);')\n",
    "        time.sleep(2)\n",
    "        new_height = browser.execute_script(\"return document.body.scrollHeight\")\n",
    "\n",
    "        if new_height == last_height:\n",
    "            break\n",
    "\n",
    "        last_height = new_height\n",
    "\n",
    "    # sử dụng BeautifulSoup để parse trang web\n",
    "    html_tree = BeautifulSoup(browser.page_source, 'html.parser')\n",
    "\n",
    "    # tìm tất cả các tag chứa thông tin về các project\n",
    "    data_project = html_tree.find_all('div', {'data-project': True})\n",
    "\n",
    "    # với mỗi project tìm thuộc tính data-project và thu thập dữ liệu\n",
    "    for project in project_cards:\n",
    "        data = json.loads(project['data-project'])\n",
    "        \n",
    "        # thu thập dữ liệu có thể thu thập trực tiếp\n",
    "        for attr in cols_collect_data:\n",
    "            data_collect[attr] = data[attr]\n",
    "\n",
    "        data_collect['category'] = data['category']['name']\n",
    "        data_collect['main_category'] = data['category']['parent_name']\n",
    "\n",
    "        # ghi dữ liệu thu thập dược vào file\n",
    "        writer.writerow(data_collect)\n",
    "\n",
    "    # lưu dữ liệu thu thập được\n",
    "    projects_data.flush()\n",
    "    os.fsync(projects_data.fileno())\n",
    "\n",
    "    project_cards.clear()"
   ]
  },
  {
   "cell_type": "code",
   "execution_count": null,
   "metadata": {},
   "outputs": [],
   "source": [
    "# đóng trình duyệt và đóng file\n",
    "browser.quit()\n",
    "projects_data.close()"
   ]
  },
  {
   "cell_type": "markdown",
   "metadata": {},
   "source": [
    "---"
   ]
  },
  {
   "cell_type": "markdown",
   "metadata": {},
   "source": [
    "# 3. Khám phá dữ liệu"
   ]
  },
  {
   "cell_type": "code",
   "execution_count": 2,
   "metadata": {},
   "outputs": [
    {
     "data": {
      "text/html": [
       "<div>\n",
       "<style scoped>\n",
       "    .dataframe tbody tr th:only-of-type {\n",
       "        vertical-align: middle;\n",
       "    }\n",
       "\n",
       "    .dataframe tbody tr th {\n",
       "        vertical-align: top;\n",
       "    }\n",
       "\n",
       "    .dataframe thead th {\n",
       "        text-align: right;\n",
       "    }\n",
       "</style>\n",
       "<table border=\"1\" class=\"dataframe\">\n",
       "  <thead>\n",
       "    <tr style=\"text-align: right;\">\n",
       "      <th></th>\n",
       "      <th>name</th>\n",
       "      <th>blurb</th>\n",
       "      <th>goal</th>\n",
       "      <th>pledged</th>\n",
       "      <th>country</th>\n",
       "      <th>deadline</th>\n",
       "      <th>created_at</th>\n",
       "      <th>launched_at</th>\n",
       "      <th>backers_count</th>\n",
       "      <th>fx_rate</th>\n",
       "      <th>category</th>\n",
       "      <th>main_category</th>\n",
       "      <th>state</th>\n",
       "    </tr>\n",
       "    <tr>\n",
       "      <th>id</th>\n",
       "      <th></th>\n",
       "      <th></th>\n",
       "      <th></th>\n",
       "      <th></th>\n",
       "      <th></th>\n",
       "      <th></th>\n",
       "      <th></th>\n",
       "      <th></th>\n",
       "      <th></th>\n",
       "      <th></th>\n",
       "      <th></th>\n",
       "      <th></th>\n",
       "      <th></th>\n",
       "    </tr>\n",
       "  </thead>\n",
       "  <tbody>\n",
       "    <tr>\n",
       "      <th>1295155228</th>\n",
       "      <td>RMo Studio Needs Your Help</td>\n",
       "      <td>Help RMo Studio to buy a new kiln for ceramics...</td>\n",
       "      <td>2500.0</td>\n",
       "      <td>5504.0</td>\n",
       "      <td>GB</td>\n",
       "      <td>1610128800</td>\n",
       "      <td>1606933477</td>\n",
       "      <td>1607299280</td>\n",
       "      <td>152</td>\n",
       "      <td>1.36147</td>\n",
       "      <td>Ceramics</td>\n",
       "      <td>Art</td>\n",
       "      <td>live</td>\n",
       "    </tr>\n",
       "    <tr>\n",
       "      <th>39027197</th>\n",
       "      <td>Animals on Ceramics, Hand Drawn and Handmade, ...</td>\n",
       "      <td>Custom Hand Drawn Animals on Handmade Ceramic ...</td>\n",
       "      <td>120.0</td>\n",
       "      <td>38.0</td>\n",
       "      <td>US</td>\n",
       "      <td>1612504740</td>\n",
       "      <td>1607541996</td>\n",
       "      <td>1609434617</td>\n",
       "      <td>3</td>\n",
       "      <td>1.00000</td>\n",
       "      <td>Ceramics</td>\n",
       "      <td>Art</td>\n",
       "      <td>live</td>\n",
       "    </tr>\n",
       "    <tr>\n",
       "      <th>274865</th>\n",
       "      <td>Pots On Wheels</td>\n",
       "      <td>We're creating a mobile outreach gallery of be...</td>\n",
       "      <td>20000.0</td>\n",
       "      <td>25732.0</td>\n",
       "      <td>US</td>\n",
       "      <td>1417496340</td>\n",
       "      <td>1409351310</td>\n",
       "      <td>1415110797</td>\n",
       "      <td>278</td>\n",
       "      <td>1.00000</td>\n",
       "      <td>Ceramics</td>\n",
       "      <td>Art</td>\n",
       "      <td>successful</td>\n",
       "    </tr>\n",
       "    <tr>\n",
       "      <th>112491653</th>\n",
       "      <td>Sarah Kersten Handmade Studio</td>\n",
       "      <td>Help build a studio space for Sarah Kersten Ha...</td>\n",
       "      <td>30000.0</td>\n",
       "      <td>35083.0</td>\n",
       "      <td>US</td>\n",
       "      <td>1413573982</td>\n",
       "      <td>1406328440</td>\n",
       "      <td>1410981982</td>\n",
       "      <td>233</td>\n",
       "      <td>1.00000</td>\n",
       "      <td>Ceramics</td>\n",
       "      <td>Art</td>\n",
       "      <td>successful</td>\n",
       "    </tr>\n",
       "    <tr>\n",
       "      <th>330304757</th>\n",
       "      <td>The Potter and the RAM</td>\n",
       "      <td>I make sturdy, high-fired porcelain tableware ...</td>\n",
       "      <td>16000.0</td>\n",
       "      <td>22314.5</td>\n",
       "      <td>US</td>\n",
       "      <td>1383424322</td>\n",
       "      <td>1375916344</td>\n",
       "      <td>1380832322</td>\n",
       "      <td>273</td>\n",
       "      <td>1.00000</td>\n",
       "      <td>Ceramics</td>\n",
       "      <td>Art</td>\n",
       "      <td>successful</td>\n",
       "    </tr>\n",
       "  </tbody>\n",
       "</table>\n",
       "</div>"
      ],
      "text/plain": [
       "                                                         name  \\\n",
       "id                                                              \n",
       "1295155228                         RMo Studio Needs Your Help   \n",
       "39027197    Animals on Ceramics, Hand Drawn and Handmade, ...   \n",
       "274865                                         Pots On Wheels   \n",
       "112491653                       Sarah Kersten Handmade Studio   \n",
       "330304757                              The Potter and the RAM   \n",
       "\n",
       "                                                        blurb     goal  \\\n",
       "id                                                                       \n",
       "1295155228  Help RMo Studio to buy a new kiln for ceramics...   2500.0   \n",
       "39027197    Custom Hand Drawn Animals on Handmade Ceramic ...    120.0   \n",
       "274865      We're creating a mobile outreach gallery of be...  20000.0   \n",
       "112491653   Help build a studio space for Sarah Kersten Ha...  30000.0   \n",
       "330304757   I make sturdy, high-fired porcelain tableware ...  16000.0   \n",
       "\n",
       "            pledged country    deadline  created_at  launched_at  \\\n",
       "id                                                                 \n",
       "1295155228   5504.0      GB  1610128800  1606933477   1607299280   \n",
       "39027197       38.0      US  1612504740  1607541996   1609434617   \n",
       "274865      25732.0      US  1417496340  1409351310   1415110797   \n",
       "112491653   35083.0      US  1413573982  1406328440   1410981982   \n",
       "330304757   22314.5      US  1383424322  1375916344   1380832322   \n",
       "\n",
       "            backers_count  fx_rate  category main_category       state  \n",
       "id                                                                      \n",
       "1295155228            152  1.36147  Ceramics           Art        live  \n",
       "39027197                3  1.00000  Ceramics           Art        live  \n",
       "274865                278  1.00000  Ceramics           Art  successful  \n",
       "112491653             233  1.00000  Ceramics           Art  successful  \n",
       "330304757             273  1.00000  Ceramics           Art  successful  "
      ]
     },
     "execution_count": 2,
     "metadata": {},
     "output_type": "execute_result"
    }
   ],
   "source": [
    "# tạo dataframe\n",
    "projects_df = pd.read_table('../data/projects_raw.tsv', index_col=0)\n",
    "projects_df.head()"
   ]
  },
  {
   "cell_type": "markdown",
   "metadata": {},
   "source": [
    "## **Dữ liệu có bao nhiêu dòng và cột?**"
   ]
  },
  {
   "cell_type": "code",
   "execution_count": 3,
   "metadata": {},
   "outputs": [
    {
     "data": {
      "text/plain": [
       "(79922, 13)"
      ]
     },
     "execution_count": 3,
     "metadata": {},
     "output_type": "execute_result"
    }
   ],
   "source": [
    "projects_df.shape"
   ]
  },
  {
   "cell_type": "markdown",
   "metadata": {},
   "source": [
    "## Mỗi dòng có ý nghĩa gì?\n",
    "\n",
    "Mỗi dòng chứa thông tin về một dự án góp vốn cộng đồng trên kickstarter."
   ]
  },
  {
   "cell_type": "markdown",
   "metadata": {},
   "source": [
    "## Dữ liệu có các dòng hay cột bị lặp hay bị thiếu không?"
   ]
  },
  {
   "cell_type": "code",
   "execution_count": 4,
   "metadata": {},
   "outputs": [
    {
     "data": {
      "text/plain": [
       "3"
      ]
     },
     "execution_count": 4,
     "metadata": {},
     "output_type": "execute_result"
    }
   ],
   "source": [
    "projects_df.duplicated().sum()"
   ]
  },
  {
   "cell_type": "code",
   "execution_count": 5,
   "metadata": {},
   "outputs": [
    {
     "data": {
      "text/plain": [
       "3"
      ]
     },
     "execution_count": 5,
     "metadata": {},
     "output_type": "execute_result"
    }
   ],
   "source": [
    "projects_df.index.duplicated().sum()"
   ]
  },
  {
   "cell_type": "code",
   "execution_count": 59,
   "metadata": {},
   "outputs": [
    {
     "data": {
      "text/plain": [
       "name             77926\n",
       "blurb            77541\n",
       "goal              3248\n",
       "pledged          30104\n",
       "country             25\n",
       "deadline         75020\n",
       "created_at       78017\n",
       "launched_at      78012\n",
       "backers_count     2902\n",
       "fx_rate             29\n",
       "category           139\n",
       "main_category       15\n",
       "state                3\n",
       "dtype: int64"
      ]
     },
     "execution_count": 59,
     "metadata": {},
     "output_type": "execute_result"
    }
   ],
   "source": [
    "projects_df.nunique()"
   ]
  },
  {
   "cell_type": "code",
   "execution_count": 6,
   "metadata": {},
   "outputs": [
    {
     "data": {
      "text/html": [
       "<div>\n",
       "<style scoped>\n",
       "    .dataframe tbody tr th:only-of-type {\n",
       "        vertical-align: middle;\n",
       "    }\n",
       "\n",
       "    .dataframe tbody tr th {\n",
       "        vertical-align: top;\n",
       "    }\n",
       "\n",
       "    .dataframe thead th {\n",
       "        text-align: right;\n",
       "    }\n",
       "</style>\n",
       "<table border=\"1\" class=\"dataframe\">\n",
       "  <thead>\n",
       "    <tr style=\"text-align: right;\">\n",
       "      <th></th>\n",
       "      <th>name</th>\n",
       "      <th>blurb</th>\n",
       "      <th>goal</th>\n",
       "      <th>pledged</th>\n",
       "      <th>country</th>\n",
       "      <th>deadline</th>\n",
       "      <th>created_at</th>\n",
       "      <th>launched_at</th>\n",
       "      <th>backers_count</th>\n",
       "      <th>fx_rate</th>\n",
       "      <th>category</th>\n",
       "      <th>main_category</th>\n",
       "      <th>state</th>\n",
       "    </tr>\n",
       "  </thead>\n",
       "  <tbody>\n",
       "    <tr>\n",
       "      <th>count</th>\n",
       "      <td>79922</td>\n",
       "      <td>79922</td>\n",
       "      <td>79922</td>\n",
       "      <td>79922</td>\n",
       "      <td>79922</td>\n",
       "      <td>79922</td>\n",
       "      <td>79922</td>\n",
       "      <td>79922</td>\n",
       "      <td>79922</td>\n",
       "      <td>79922</td>\n",
       "      <td>79922</td>\n",
       "      <td>79922</td>\n",
       "      <td>79922</td>\n",
       "    </tr>\n",
       "    <tr>\n",
       "      <th>unique</th>\n",
       "      <td>1</td>\n",
       "      <td>2</td>\n",
       "      <td>1</td>\n",
       "      <td>1</td>\n",
       "      <td>1</td>\n",
       "      <td>1</td>\n",
       "      <td>1</td>\n",
       "      <td>1</td>\n",
       "      <td>1</td>\n",
       "      <td>1</td>\n",
       "      <td>1</td>\n",
       "      <td>1</td>\n",
       "      <td>1</td>\n",
       "    </tr>\n",
       "    <tr>\n",
       "      <th>top</th>\n",
       "      <td>False</td>\n",
       "      <td>False</td>\n",
       "      <td>False</td>\n",
       "      <td>False</td>\n",
       "      <td>False</td>\n",
       "      <td>False</td>\n",
       "      <td>False</td>\n",
       "      <td>False</td>\n",
       "      <td>False</td>\n",
       "      <td>False</td>\n",
       "      <td>False</td>\n",
       "      <td>False</td>\n",
       "      <td>False</td>\n",
       "    </tr>\n",
       "    <tr>\n",
       "      <th>freq</th>\n",
       "      <td>79922</td>\n",
       "      <td>79919</td>\n",
       "      <td>79922</td>\n",
       "      <td>79922</td>\n",
       "      <td>79922</td>\n",
       "      <td>79922</td>\n",
       "      <td>79922</td>\n",
       "      <td>79922</td>\n",
       "      <td>79922</td>\n",
       "      <td>79922</td>\n",
       "      <td>79922</td>\n",
       "      <td>79922</td>\n",
       "      <td>79922</td>\n",
       "    </tr>\n",
       "  </tbody>\n",
       "</table>\n",
       "</div>"
      ],
      "text/plain": [
       "         name  blurb   goal pledged country deadline created_at launched_at  \\\n",
       "count   79922  79922  79922   79922   79922    79922      79922       79922   \n",
       "unique      1      2      1       1       1        1          1           1   \n",
       "top     False  False  False   False   False    False      False       False   \n",
       "freq    79922  79919  79922   79922   79922    79922      79922       79922   \n",
       "\n",
       "       backers_count fx_rate category main_category  state  \n",
       "count          79922   79922    79922         79922  79922  \n",
       "unique             1       1        1             1      1  \n",
       "top            False   False    False         False  False  \n",
       "freq           79922   79922    79922         79922  79922  "
      ]
     },
     "execution_count": 6,
     "metadata": {},
     "output_type": "execute_result"
    }
   ],
   "source": [
    "projects_df.isna().describe()"
   ]
  },
  {
   "cell_type": "code",
   "execution_count": 7,
   "metadata": {},
   "outputs": [
    {
     "data": {
      "text/plain": [
       "name             0\n",
       "blurb            3\n",
       "goal             0\n",
       "pledged          0\n",
       "country          0\n",
       "deadline         0\n",
       "created_at       0\n",
       "launched_at      0\n",
       "backers_count    0\n",
       "fx_rate          0\n",
       "category         0\n",
       "main_category    0\n",
       "state            0\n",
       "dtype: int64"
      ]
     },
     "execution_count": 7,
     "metadata": {},
     "output_type": "execute_result"
    }
   ],
   "source": [
    "projects_df.isna().sum()"
   ]
  },
  {
   "cell_type": "markdown",
   "metadata": {},
   "source": [
    "Như vậy là có 3 dòng bị trùng và có 3 dòng bị thiếu dữ liệu ở cột blurb trong tập dữ liệu. Do số dòng bị trùng và thiếu ít nên để đơn giản nhóm thực hiện xóa các dòng trên."
   ]
  },
  {
   "cell_type": "code",
   "execution_count": 3,
   "metadata": {},
   "outputs": [
    {
     "data": {
      "text/plain": [
       "(79919, 13)"
      ]
     },
     "execution_count": 3,
     "metadata": {},
     "output_type": "execute_result"
    }
   ],
   "source": [
    "projects_df.drop_duplicates(inplace=True)\n",
    "projects_df.shape"
   ]
  },
  {
   "cell_type": "code",
   "execution_count": 4,
   "metadata": {},
   "outputs": [
    {
     "data": {
      "text/plain": [
       "(79916, 13)"
      ]
     },
     "execution_count": 4,
     "metadata": {},
     "output_type": "execute_result"
    }
   ],
   "source": [
    "projects_df.dropna(inplace=True)\n",
    "projects_df.shape"
   ]
  },
  {
   "cell_type": "markdown",
   "metadata": {},
   "source": [
    "## Ý nghĩa của mỗi cột"
   ]
  },
  {
   "cell_type": "markdown",
   "metadata": {},
   "source": [
    "Cột | Ý nghĩa\n",
    "--- | -------\n",
    "id | Mã định danh cho từng dự án.\n",
    "name | Tên của dự án.\n",
    "blurb | Lời giới thiệu ngắn gọn về dự án.\n",
    "goal | Số tiền dự án yêu cầu.\n",
    "pledged | Số tiền đã kêu gọi thành công.\n",
    "country | Quốc gia của người/nhóm chủ dự án.\n",
    "deadline | Hạn chót kêu gọi góp vốn.\n",
    "create_at | Ngày tạo dự án.\n",
    "launched_at | Ngày bắt đầu kêu gọi góp vốn.\n",
    "backers_count | Số người đã góp vốn cho dự án.\n",
    "fx_rate | Tỷ giá các đơn vị tiền tệ so với đơn vị tiền tệ được chọn\n",
    "category | Thể loại của dự án.\n",
    "main_category | Thể loại chính của dự án.\n",
    "state | Kết quả gọi vốn của dự án."
   ]
  },
  {
   "cell_type": "markdown",
   "metadata": {},
   "source": [
    "## Mỗi cột hiện đang có kiểu dữ liệu gì?"
   ]
  },
  {
   "cell_type": "code",
   "execution_count": 10,
   "metadata": {},
   "outputs": [
    {
     "data": {
      "text/plain": [
       "name              object\n",
       "blurb             object\n",
       "goal             float64\n",
       "pledged          float64\n",
       "country           object\n",
       "deadline           int64\n",
       "created_at         int64\n",
       "launched_at        int64\n",
       "backers_count      int64\n",
       "fx_rate          float64\n",
       "category          object\n",
       "main_category     object\n",
       "state             object\n",
       "dtype: object"
      ]
     },
     "execution_count": 10,
     "metadata": {},
     "output_type": "execute_result"
    }
   ],
   "source": [
    "projects_df.dtypes"
   ]
  },
  {
   "cell_type": "markdown",
   "metadata": {},
   "source": [
    "## Tỷ lệ các giá trị của cột kết quả như thế nào?"
   ]
  },
  {
   "cell_type": "code",
   "execution_count": 11,
   "metadata": {},
   "outputs": [
    {
     "data": {
      "text/plain": [
       "successful    59.521247\n",
       "failed        34.112068\n",
       "canceled       4.015466\n",
       "live           2.351219\n",
       "Name: state, dtype: float64"
      ]
     },
     "execution_count": 11,
     "metadata": {},
     "output_type": "execute_result"
    }
   ],
   "source": [
    "projects_df['state'].value_counts(normalize=True) * 100"
   ]
  },
  {
   "cell_type": "markdown",
   "metadata": {},
   "source": [
    "**Trong đó:**\n",
    "\n",
    "Trạng thái | Ý nghĩa\n",
    "---------- | -------\n",
    "successful | Dự án đã gọi vốn thành công\n",
    "failed | Dự án gọi vốn thất bại\n",
    "canceled | Dự án bị hủy\n",
    "live | Dự án đang trong thời gian gọi vốn"
   ]
  },
  {
   "cell_type": "markdown",
   "metadata": {},
   "source": [
    "Trong tập dữ liệu có một số dự án đang trong thời gian gọi vốn - có trạng thái 'live', vì vậy chưa có kết quả cuối cùng. Những dự án như dạng này không hữu ích cho quá trình học của mô hình cũng như để kiểm tra độ lỗi khi sử dụng mô hình để dự đoán do chưa có kết quả cuối cùng. Vì vậy nhóm thực hiện tách các dòng dữ liệu chưa có kết quả trước khi thực hiện chia tập huấn luyện, validation và kiểm tra."
   ]
  },
  {
   "cell_type": "code",
   "execution_count": 5,
   "metadata": {},
   "outputs": [
    {
     "data": {
      "text/plain": [
       "(78037, 13)"
      ]
     },
     "execution_count": 5,
     "metadata": {},
     "output_type": "execute_result"
    }
   ],
   "source": [
    "live_projects = projects_df[projects_df['state'] == 'live']\n",
    "projects_df.drop(live_projects.index, inplace=True)\n",
    "projects_df.shape"
   ]
  },
  {
   "cell_type": "markdown",
   "metadata": {},
   "source": [
    "---"
   ]
  },
  {
   "cell_type": "markdown",
   "metadata": {},
   "source": [
    "# 4. Đưa ra câu hỏi cần trả lời"
   ]
  },
  {
   "cell_type": "markdown",
   "metadata": {},
   "source": [
    "Với tập dữ liệu trên thì cột output là cột state - thể hiện kết quả gọi vốn của một dự án. Như vậy câu hỏi mà nhóm đặt ra với tập dữ liệu này là:\n",
    "\n",
    "*Output - kết quả* - củ một dự án góp vốn cộng đồng có thể được tính từ *input - các thông tin về dự án* - theo công thức nào?\n",
    "\n",
    "Việc tìm ra câu trả lời cho câu hỏi này có thể giúp cho một người/nhóm người có ý định kêu gọi góp vốn cộng đồng cho một sản phẩm nào đó họ muốn phát triển có thể phần nào đoán được kết quả của việc gọi vốn, qua đó có thể điều chỉnh dự án của mình - nếu cần thiết - để đạt được kết quả gọi vốn tốt nhất."
   ]
  },
  {
   "cell_type": "markdown",
   "metadata": {},
   "source": [
    "---"
   ]
  },
  {
   "cell_type": "markdown",
   "metadata": {},
   "source": [
    "# 5. Tách các tập huấn luyện, validation và kiểm tra"
   ]
  },
  {
   "cell_type": "code",
   "execution_count": 6,
   "metadata": {},
   "outputs": [],
   "source": [
    "# tạo tập input và output\n",
    "y_sr = projects_df['state']\n",
    "X_df = projects_df.drop(columns='state', axis=1)"
   ]
  },
  {
   "cell_type": "code",
   "execution_count": 7,
   "metadata": {},
   "outputs": [],
   "source": [
    "# Tách tập kiểm tra với tỷ lệ 20% tập dữ liệu ban đầu\n",
    "final_train_X_df, test_X_df, final_train_y_sr, test_y_sr = train_test_split(X_df, y_sr, test_size=0.2, stratify=y_sr, random_state=42)"
   ]
  },
  {
   "cell_type": "code",
   "execution_count": 9,
   "metadata": {},
   "outputs": [],
   "source": [
    "# Tách tập validation với tỷ lệ 20% tập dữ liệu sau khi tách tập kiểm tra\n",
    "train_X_df, val_X_df, train_y_sr, val_y_sr = train_test_split(final_train_X_df, final_train_y_sr, test_size=0.2,\n",
    "                                                              stratify=final_train_y_sr, random_state=42)"
   ]
  },
  {
   "cell_type": "code",
   "execution_count": 10,
   "metadata": {},
   "outputs": [
    {
     "data": {
      "text/plain": [
       "(49943, 12)"
      ]
     },
     "execution_count": 10,
     "metadata": {},
     "output_type": "execute_result"
    }
   ],
   "source": [
    "train_X_df.shape"
   ]
  },
  {
   "cell_type": "code",
   "execution_count": 11,
   "metadata": {},
   "outputs": [
    {
     "data": {
      "text/plain": [
       "(49943,)"
      ]
     },
     "execution_count": 11,
     "metadata": {},
     "output_type": "execute_result"
    }
   ],
   "source": [
    "train_y_sr.shape"
   ]
  },
  {
   "cell_type": "code",
   "execution_count": 12,
   "metadata": {},
   "outputs": [
    {
     "data": {
      "text/plain": [
       "(12486, 12)"
      ]
     },
     "execution_count": 12,
     "metadata": {},
     "output_type": "execute_result"
    }
   ],
   "source": [
    "val_X_df.shape"
   ]
  },
  {
   "cell_type": "code",
   "execution_count": 13,
   "metadata": {},
   "outputs": [
    {
     "data": {
      "text/plain": [
       "(12486,)"
      ]
     },
     "execution_count": 13,
     "metadata": {},
     "output_type": "execute_result"
    }
   ],
   "source": [
    "val_y_sr.shape"
   ]
  },
  {
   "cell_type": "code",
   "execution_count": 14,
   "metadata": {},
   "outputs": [
    {
     "data": {
      "text/plain": [
       "(15608, 12)"
      ]
     },
     "execution_count": 14,
     "metadata": {},
     "output_type": "execute_result"
    }
   ],
   "source": [
    "test_X_df.shape"
   ]
  },
  {
   "cell_type": "code",
   "execution_count": 15,
   "metadata": {},
   "outputs": [
    {
     "data": {
      "text/plain": [
       "(15608,)"
      ]
     },
     "execution_count": 15,
     "metadata": {},
     "output_type": "execute_result"
    }
   ],
   "source": [
    "test_y_sr.shape"
   ]
  },
  {
   "cell_type": "markdown",
   "metadata": {},
   "source": [
    "# 6. Khám phá dữ liệu trên tập huấn luyện"
   ]
  },
  {
   "cell_type": "markdown",
   "metadata": {},
   "source": [
    "Mỗi cột input có kiểu dữ liệu gì?"
   ]
  },
  {
   "cell_type": "code",
   "execution_count": 22,
   "metadata": {},
   "outputs": [
    {
     "data": {
      "text/plain": [
       "name              object\n",
       "blurb             object\n",
       "goal             float64\n",
       "pledged          float64\n",
       "country           object\n",
       "deadline           int64\n",
       "created_at         int64\n",
       "launched_at        int64\n",
       "backers_count      int64\n",
       "fx_rate          float64\n",
       "category          object\n",
       "main_category     object\n",
       "dtype: object"
      ]
     },
     "execution_count": 22,
     "metadata": {},
     "output_type": "execute_result"
    }
   ],
   "source": [
    "train_X_df.dtypes"
   ]
  },
  {
   "cell_type": "markdown",
   "metadata": {},
   "source": [
    "Có thể thấy các cột \"deadline\", \"created_at\" và \"launched_at\" có ý nghĩa liên quan đến ngày tháng nhưng hiện đang ở dạng timestamp và có kiểu dữ liệu int64"
   ]
  },
  {
   "cell_type": "markdown",
   "metadata": {},
   "source": [
    "### Tiền xử lý: Thực hiện chuyển đổi các cột nêu trên về kiểu dữ liệu datetime"
   ]
  },
  {
   "cell_type": "code",
   "execution_count": 16,
   "metadata": {},
   "outputs": [],
   "source": [
    "def colToDatetime(df):\n",
    "    date_cols = ['deadline', 'created_at', 'launched_at']\n",
    "    \n",
    "    new_df = df.copy()\n",
    "    new_df[date_cols] = new_df[date_cols].applymap(date.fromtimestamp).apply(pd.to_datetime)\n",
    "    \n",
    "    return new_df"
   ]
  },
  {
   "cell_type": "code",
   "execution_count": 10,
   "metadata": {},
   "outputs": [
    {
     "data": {
      "text/html": [
       "<div>\n",
       "<style scoped>\n",
       "    .dataframe tbody tr th:only-of-type {\n",
       "        vertical-align: middle;\n",
       "    }\n",
       "\n",
       "    .dataframe tbody tr th {\n",
       "        vertical-align: top;\n",
       "    }\n",
       "\n",
       "    .dataframe thead th {\n",
       "        text-align: right;\n",
       "    }\n",
       "</style>\n",
       "<table border=\"1\" class=\"dataframe\">\n",
       "  <thead>\n",
       "    <tr style=\"text-align: right;\">\n",
       "      <th></th>\n",
       "      <th>name</th>\n",
       "      <th>blurb</th>\n",
       "      <th>goal</th>\n",
       "      <th>pledged</th>\n",
       "      <th>country</th>\n",
       "      <th>deadline</th>\n",
       "      <th>created_at</th>\n",
       "      <th>launched_at</th>\n",
       "      <th>backers_count</th>\n",
       "      <th>fx_rate</th>\n",
       "      <th>category</th>\n",
       "      <th>main_category</th>\n",
       "    </tr>\n",
       "    <tr>\n",
       "      <th>id</th>\n",
       "      <th></th>\n",
       "      <th></th>\n",
       "      <th></th>\n",
       "      <th></th>\n",
       "      <th></th>\n",
       "      <th></th>\n",
       "      <th></th>\n",
       "      <th></th>\n",
       "      <th></th>\n",
       "      <th></th>\n",
       "      <th></th>\n",
       "      <th></th>\n",
       "    </tr>\n",
       "  </thead>\n",
       "  <tbody>\n",
       "    <tr>\n",
       "      <th>179726144</th>\n",
       "      <td>The Avalon Project</td>\n",
       "      <td>A project I started with creating medieval/Tud...</td>\n",
       "      <td>1500.0</td>\n",
       "      <td>13.00</td>\n",
       "      <td>US</td>\n",
       "      <td>2018-03-12</td>\n",
       "      <td>2017-12-11</td>\n",
       "      <td>2018-01-11</td>\n",
       "      <td>2</td>\n",
       "      <td>1.000000</td>\n",
       "      <td>People</td>\n",
       "      <td>Photography</td>\n",
       "    </tr>\n",
       "    <tr>\n",
       "      <th>1180107458</th>\n",
       "      <td>Rider of the Black Sun: A Fantasy Gamebook</td>\n",
       "      <td>Support one of the most ambitious gamebooks ev...</td>\n",
       "      <td>6000.0</td>\n",
       "      <td>41228.00</td>\n",
       "      <td>DE</td>\n",
       "      <td>2017-11-06</td>\n",
       "      <td>2017-08-09</td>\n",
       "      <td>2017-10-09</td>\n",
       "      <td>956</td>\n",
       "      <td>1.217137</td>\n",
       "      <td>Tabletop Games</td>\n",
       "      <td>Games</td>\n",
       "    </tr>\n",
       "    <tr>\n",
       "      <th>1948156939</th>\n",
       "      <td>The Band Called FUSE goes to South by SouthWes...</td>\n",
       "      <td>Help The Band Called FUSE tour to SXSW to brin...</td>\n",
       "      <td>3686.0</td>\n",
       "      <td>5227.36</td>\n",
       "      <td>US</td>\n",
       "      <td>2012-03-01</td>\n",
       "      <td>2012-02-01</td>\n",
       "      <td>2012-02-01</td>\n",
       "      <td>133</td>\n",
       "      <td>1.000000</td>\n",
       "      <td>Hip-Hop</td>\n",
       "      <td>Music</td>\n",
       "    </tr>\n",
       "    <tr>\n",
       "      <th>100441343</th>\n",
       "      <td>World Premiere Recording: Original Piano Works</td>\n",
       "      <td>Piano works by Myron Silberstein; unpublished ...</td>\n",
       "      <td>2250.0</td>\n",
       "      <td>2270.00</td>\n",
       "      <td>US</td>\n",
       "      <td>2019-03-16</td>\n",
       "      <td>2019-01-29</td>\n",
       "      <td>2019-02-14</td>\n",
       "      <td>24</td>\n",
       "      <td>1.000000</td>\n",
       "      <td>Classical Music</td>\n",
       "      <td>Music</td>\n",
       "    </tr>\n",
       "    <tr>\n",
       "      <th>1370866183</th>\n",
       "      <td>The Miskatonic Papers</td>\n",
       "      <td>A limited-edition experiential art book inspir...</td>\n",
       "      <td>22000.0</td>\n",
       "      <td>29211.00</td>\n",
       "      <td>US</td>\n",
       "      <td>2019-09-19</td>\n",
       "      <td>2019-06-20</td>\n",
       "      <td>2019-08-20</td>\n",
       "      <td>151</td>\n",
       "      <td>1.000000</td>\n",
       "      <td>Fiction</td>\n",
       "      <td>Publishing</td>\n",
       "    </tr>\n",
       "  </tbody>\n",
       "</table>\n",
       "</div>"
      ],
      "text/plain": [
       "                                                         name  \\\n",
       "id                                                              \n",
       "179726144                                  The Avalon Project   \n",
       "1180107458         Rider of the Black Sun: A Fantasy Gamebook   \n",
       "1948156939  The Band Called FUSE goes to South by SouthWes...   \n",
       "100441343      World Premiere Recording: Original Piano Works   \n",
       "1370866183                              The Miskatonic Papers   \n",
       "\n",
       "                                                        blurb     goal  \\\n",
       "id                                                                       \n",
       "179726144   A project I started with creating medieval/Tud...   1500.0   \n",
       "1180107458  Support one of the most ambitious gamebooks ev...   6000.0   \n",
       "1948156939  Help The Band Called FUSE tour to SXSW to brin...   3686.0   \n",
       "100441343   Piano works by Myron Silberstein; unpublished ...   2250.0   \n",
       "1370866183  A limited-edition experiential art book inspir...  22000.0   \n",
       "\n",
       "             pledged country   deadline created_at launched_at  backers_count  \\\n",
       "id                                                                              \n",
       "179726144      13.00      US 2018-03-12 2017-12-11  2018-01-11              2   \n",
       "1180107458  41228.00      DE 2017-11-06 2017-08-09  2017-10-09            956   \n",
       "1948156939   5227.36      US 2012-03-01 2012-02-01  2012-02-01            133   \n",
       "100441343    2270.00      US 2019-03-16 2019-01-29  2019-02-14             24   \n",
       "1370866183  29211.00      US 2019-09-19 2019-06-20  2019-08-20            151   \n",
       "\n",
       "             fx_rate         category main_category  \n",
       "id                                                   \n",
       "179726144   1.000000           People   Photography  \n",
       "1180107458  1.217137   Tabletop Games         Games  \n",
       "1948156939  1.000000          Hip-Hop         Music  \n",
       "100441343   1.000000  Classical Music         Music  \n",
       "1370866183  1.000000          Fiction    Publishing  "
      ]
     },
     "execution_count": 10,
     "metadata": {},
     "output_type": "execute_result"
    }
   ],
   "source": [
    "preprocess_df = colToDatetime(train_X_df)\n",
    "preprocess_df.head()"
   ]
  },
  {
   "cell_type": "code",
   "execution_count": 11,
   "metadata": {},
   "outputs": [
    {
     "data": {
      "text/plain": [
       "name                     object\n",
       "blurb                    object\n",
       "goal                    float64\n",
       "pledged                 float64\n",
       "country                  object\n",
       "deadline         datetime64[ns]\n",
       "created_at       datetime64[ns]\n",
       "launched_at      datetime64[ns]\n",
       "backers_count             int64\n",
       "fx_rate                 float64\n",
       "category                 object\n",
       "main_category            object\n",
       "dtype: object"
      ]
     },
     "execution_count": 11,
     "metadata": {},
     "output_type": "execute_result"
    }
   ],
   "source": [
    "preprocess_df.dtypes"
   ]
  },
  {
   "cell_type": "markdown",
   "metadata": {},
   "source": [
    "### Tiếp tục khám phá dữ liệu"
   ]
  },
  {
   "cell_type": "markdown",
   "metadata": {},
   "source": [
    "### Với mỗi cột input có kiểu dữ liệu dạng số, các giá trị được phân bố như thế nào"
   ]
  },
  {
   "cell_type": "code",
   "execution_count": 12,
   "metadata": {},
   "outputs": [
    {
     "data": {
      "text/plain": [
       "goal             float64\n",
       "pledged          float64\n",
       "deadline           int64\n",
       "created_at         int64\n",
       "launched_at        int64\n",
       "backers_count      int64\n",
       "fx_rate          float64\n",
       "dtype: object"
      ]
     },
     "execution_count": 12,
     "metadata": {},
     "output_type": "execute_result"
    }
   ],
   "source": [
    "train_X_df.dtypes[train_X_df.dtypes != object]"
   ]
  },
  {
   "cell_type": "code",
   "execution_count": 13,
   "metadata": {},
   "outputs": [
    {
     "data": {
      "text/html": [
       "<div>\n",
       "<style scoped>\n",
       "    .dataframe tbody tr th:only-of-type {\n",
       "        vertical-align: middle;\n",
       "    }\n",
       "\n",
       "    .dataframe tbody tr th {\n",
       "        vertical-align: top;\n",
       "    }\n",
       "\n",
       "    .dataframe thead th {\n",
       "        text-align: right;\n",
       "    }\n",
       "</style>\n",
       "<table border=\"1\" class=\"dataframe\">\n",
       "  <thead>\n",
       "    <tr style=\"text-align: right;\">\n",
       "      <th></th>\n",
       "      <th>goal</th>\n",
       "      <th>pledged</th>\n",
       "      <th>deadline</th>\n",
       "      <th>created_at</th>\n",
       "      <th>launched_at</th>\n",
       "      <th>backers_count</th>\n",
       "      <th>fx_rate</th>\n",
       "    </tr>\n",
       "  </thead>\n",
       "  <tbody>\n",
       "    <tr>\n",
       "      <th>missing_ratio</th>\n",
       "      <td>0.0</td>\n",
       "      <td>0.0</td>\n",
       "      <td>0.000000e+00</td>\n",
       "      <td>0.000000e+00</td>\n",
       "      <td>0.000000e+00</td>\n",
       "      <td>0.0</td>\n",
       "      <td>0.0</td>\n",
       "    </tr>\n",
       "    <tr>\n",
       "      <th>min</th>\n",
       "      <td>0.0</td>\n",
       "      <td>0.0</td>\n",
       "      <td>1.241334e+09</td>\n",
       "      <td>1.240366e+09</td>\n",
       "      <td>1.240603e+09</td>\n",
       "      <td>0.0</td>\n",
       "      <td>0.0</td>\n",
       "    </tr>\n",
       "    <tr>\n",
       "      <th>lower_quartile</th>\n",
       "      <td>2000.0</td>\n",
       "      <td>185.0</td>\n",
       "      <td>1.417292e+09</td>\n",
       "      <td>1.410378e+09</td>\n",
       "      <td>1.414438e+09</td>\n",
       "      <td>5.0</td>\n",
       "      <td>1.0</td>\n",
       "    </tr>\n",
       "    <tr>\n",
       "      <th>median</th>\n",
       "      <td>5000.0</td>\n",
       "      <td>2250.0</td>\n",
       "      <td>1.463581e+09</td>\n",
       "      <td>1.456685e+09</td>\n",
       "      <td>1.460749e+09</td>\n",
       "      <td>34.0</td>\n",
       "      <td>1.0</td>\n",
       "    </tr>\n",
       "    <tr>\n",
       "      <th>upper_quartile</th>\n",
       "      <td>15000.0</td>\n",
       "      <td>10003.5</td>\n",
       "      <td>1.530034e+09</td>\n",
       "      <td>1.522805e+09</td>\n",
       "      <td>1.527034e+09</td>\n",
       "      <td>115.0</td>\n",
       "      <td>1.0</td>\n",
       "    </tr>\n",
       "    <tr>\n",
       "      <th>max</th>\n",
       "      <td>100000000.0</td>\n",
       "      <td>235320528.0</td>\n",
       "      <td>1.613467e+09</td>\n",
       "      <td>1.608782e+09</td>\n",
       "      <td>1.608794e+09</td>\n",
       "      <td>105857.0</td>\n",
       "      <td>1.4</td>\n",
       "    </tr>\n",
       "  </tbody>\n",
       "</table>\n",
       "</div>"
      ],
      "text/plain": [
       "                       goal      pledged      deadline    created_at  \\\n",
       "missing_ratio           0.0          0.0  0.000000e+00  0.000000e+00   \n",
       "min                     0.0          0.0  1.241334e+09  1.240366e+09   \n",
       "lower_quartile       2000.0        185.0  1.417292e+09  1.410378e+09   \n",
       "median               5000.0       2250.0  1.463581e+09  1.456685e+09   \n",
       "upper_quartile      15000.0      10003.5  1.530034e+09  1.522805e+09   \n",
       "max             100000000.0  235320528.0  1.613467e+09  1.608782e+09   \n",
       "\n",
       "                 launched_at  backers_count  fx_rate  \n",
       "missing_ratio   0.000000e+00            0.0      0.0  \n",
       "min             1.240603e+09            0.0      0.0  \n",
       "lower_quartile  1.414438e+09            5.0      1.0  \n",
       "median          1.460749e+09           34.0      1.0  \n",
       "upper_quartile  1.527034e+09          115.0      1.0  \n",
       "max             1.608794e+09       105857.0      1.4  "
      ]
     },
     "execution_count": 13,
     "metadata": {},
     "output_type": "execute_result"
    }
   ],
   "source": [
    "num_cols_df = train_X_df.select_dtypes(exclude='object')\n",
    "def missing_ratio(s):\n",
    "    return s.isna().mean() * 100\n",
    "def median(df):\n",
    "    return df.quantile(0.5)\n",
    "def lower_quartile(df):\n",
    "    return df.quantile(0.25)\n",
    "def upper_quartile(df):\n",
    "    return df.quantile(0.75)\n",
    "num_cols_df.agg([missing_ratio, min, lower_quartile, median, upper_quartile, max]).round(1)"
   ]
  },
  {
   "cell_type": "markdown",
   "metadata": {},
   "source": [
    "### Với mỗi cột input có kiểu dữ liệu không phải dạng số, các giá trị được phân bố như thế nào?"
   ]
  },
  {
   "cell_type": "code",
   "execution_count": 14,
   "metadata": {},
   "outputs": [
    {
     "data": {
      "text/html": [
       "<div>\n",
       "<style scoped>\n",
       "    .dataframe tbody tr th:only-of-type {\n",
       "        vertical-align: middle;\n",
       "    }\n",
       "\n",
       "    .dataframe tbody tr th {\n",
       "        vertical-align: top;\n",
       "    }\n",
       "\n",
       "    .dataframe thead th {\n",
       "        text-align: right;\n",
       "    }\n",
       "</style>\n",
       "<table border=\"1\" class=\"dataframe\">\n",
       "  <thead>\n",
       "    <tr style=\"text-align: right;\">\n",
       "      <th></th>\n",
       "      <th>name</th>\n",
       "      <th>blurb</th>\n",
       "      <th>country</th>\n",
       "      <th>category</th>\n",
       "      <th>main_category</th>\n",
       "    </tr>\n",
       "  </thead>\n",
       "  <tbody>\n",
       "    <tr>\n",
       "      <th>missing_ratio</th>\n",
       "      <td>0</td>\n",
       "      <td>0</td>\n",
       "      <td>0</td>\n",
       "      <td>0</td>\n",
       "      <td>0</td>\n",
       "    </tr>\n",
       "    <tr>\n",
       "      <th>nunique</th>\n",
       "      <td>49895</td>\n",
       "      <td>49726</td>\n",
       "      <td>24</td>\n",
       "      <td>138</td>\n",
       "      <td>15</td>\n",
       "    </tr>\n",
       "    <tr>\n",
       "      <th>value_counts</th>\n",
       "      <td>{'Full Circle': 4, 'A Midsummer Night's Dream': 4, 'Home': 3, 'Influencias (Canceled)': 3, 'One Day': 3, 'Online Free Sound Effects/store (Canceled)': 2, 'Artist Residency at the Vermont Studio Ce...</td>\n",
       "      <td>{'Mind, Body, Spirit Fitness hands-on seminar for people in high stress jobs, labor intensive jobs, seniors, and students: workout incl.': 8, 'The Decentralized Dance Party was founded on the beli...</td>\n",
       "      <td>{'US': 34524, 'GB': 5809, 'CA': 2274, 'AU': 1184, 'DE': 946, 'FR': 764, 'MX': 678, 'IT': 645, 'ES': 486, 'NL': 461, 'SE': 401, 'HK': 305, 'DK': 215, 'NZ': 202, 'SG': 180, 'IE': 154, 'CH': 153, 'BE...</td>\n",
       "      <td>{'Web': 1985, 'Apps': 964, 'Plays': 951, 'Gadgets': 925, 'Performance Art': 860, 'DIY Electronics': 834, 'Classical Music': 790, 'Wearables': 770, 'Ready-to-wear': 769, 'Experimental': 758, 'Music...</td>\n",
       "      <td>{'Technology': 8316, 'Music': 6991, 'Publishing': 6075, 'Film &amp; Video': 6011, 'Art': 5343, 'Theater': 3050, 'Games': 3018, 'Journalism': 2445, 'Food': 2310, 'Photography': 2177, 'Fashion': 1655, '...</td>\n",
       "    </tr>\n",
       "  </tbody>\n",
       "</table>\n",
       "</div>"
      ],
      "text/plain": [
       "                                                                                                                                                                                                                  name  \\\n",
       "missing_ratio                                                                                                                                                                                                        0   \n",
       "nunique                                                                                                                                                                                                          49895   \n",
       "value_counts   {'Full Circle': 4, 'A Midsummer Night's Dream': 4, 'Home': 3, 'Influencias (Canceled)': 3, 'One Day': 3, 'Online Free Sound Effects/store (Canceled)': 2, 'Artist Residency at the Vermont Studio Ce...   \n",
       "\n",
       "                                                                                                                                                                                                                 blurb  \\\n",
       "missing_ratio                                                                                                                                                                                                        0   \n",
       "nunique                                                                                                                                                                                                          49726   \n",
       "value_counts   {'Mind, Body, Spirit Fitness hands-on seminar for people in high stress jobs, labor intensive jobs, seniors, and students: workout incl.': 8, 'The Decentralized Dance Party was founded on the beli...   \n",
       "\n",
       "                                                                                                                                                                                                               country  \\\n",
       "missing_ratio                                                                                                                                                                                                        0   \n",
       "nunique                                                                                                                                                                                                             24   \n",
       "value_counts   {'US': 34524, 'GB': 5809, 'CA': 2274, 'AU': 1184, 'DE': 946, 'FR': 764, 'MX': 678, 'IT': 645, 'ES': 486, 'NL': 461, 'SE': 401, 'HK': 305, 'DK': 215, 'NZ': 202, 'SG': 180, 'IE': 154, 'CH': 153, 'BE...   \n",
       "\n",
       "                                                                                                                                                                                                              category  \\\n",
       "missing_ratio                                                                                                                                                                                                        0   \n",
       "nunique                                                                                                                                                                                                            138   \n",
       "value_counts   {'Web': 1985, 'Apps': 964, 'Plays': 951, 'Gadgets': 925, 'Performance Art': 860, 'DIY Electronics': 834, 'Classical Music': 790, 'Wearables': 770, 'Ready-to-wear': 769, 'Experimental': 758, 'Music...   \n",
       "\n",
       "                                                                                                                                                                                                         main_category  \n",
       "missing_ratio                                                                                                                                                                                                        0  \n",
       "nunique                                                                                                                                                                                                             15  \n",
       "value_counts   {'Technology': 8316, 'Music': 6991, 'Publishing': 6075, 'Film & Video': 6011, 'Art': 5343, 'Theater': 3050, 'Games': 3018, 'Journalism': 2445, 'Food': 2310, 'Photography': 2177, 'Fashion': 1655, '...  "
      ]
     },
     "execution_count": 14,
     "metadata": {},
     "output_type": "execute_result"
    }
   ],
   "source": [
    "pd.set_option('display.max_colwidth', 200)\n",
    "cat_cols_df = train_X_df.select_dtypes(include='object')\n",
    "def value_counts(col):\n",
    "    return dict(col.value_counts())\n",
    "cat_cols_df.agg([missing_ratio, pd.Series.nunique, value_counts])"
   ]
  },
  {
   "cell_type": "markdown",
   "metadata": {},
   "source": [
    "Cột pledged có ý nghĩa là số tiền mà những người dùng đã đăng ký đóng góp cho một dự án. Tuy nhiên với những dự án chưa bắt đầu gọi vốn thì không thể nào biết được giá trị ở cột pledged. Vì vậy cột pledged không thể dùng để huấn luyện mô hình và phải bị xóa.\n",
    "\n",
    "Tương tự, cột backers_count thể hiện đã có bao nhiêu người tham gia hỗ trợ một dự án. Với những dự án chưa bắt đầu gọi vốn thì không có người nào tham gia hỗ trợ. Vì vậy cũng cần loại bỏ cột này."
   ]
  },
  {
   "cell_type": "markdown",
   "metadata": {},
   "source": [
    "### Tiền xử lý: xóa cột \"pledged\" và \"backers_count\""
   ]
  },
  {
   "cell_type": "code",
   "execution_count": 11,
   "metadata": {},
   "outputs": [
    {
     "data": {
      "text/html": [
       "<div>\n",
       "<style scoped>\n",
       "    .dataframe tbody tr th:only-of-type {\n",
       "        vertical-align: middle;\n",
       "    }\n",
       "\n",
       "    .dataframe tbody tr th {\n",
       "        vertical-align: top;\n",
       "    }\n",
       "\n",
       "    .dataframe thead th {\n",
       "        text-align: right;\n",
       "    }\n",
       "</style>\n",
       "<table border=\"1\" class=\"dataframe\">\n",
       "  <thead>\n",
       "    <tr style=\"text-align: right;\">\n",
       "      <th></th>\n",
       "      <th>name</th>\n",
       "      <th>blurb</th>\n",
       "      <th>goal</th>\n",
       "      <th>country</th>\n",
       "      <th>deadline</th>\n",
       "      <th>created_at</th>\n",
       "      <th>launched_at</th>\n",
       "      <th>fx_rate</th>\n",
       "      <th>category</th>\n",
       "      <th>main_category</th>\n",
       "    </tr>\n",
       "    <tr>\n",
       "      <th>id</th>\n",
       "      <th></th>\n",
       "      <th></th>\n",
       "      <th></th>\n",
       "      <th></th>\n",
       "      <th></th>\n",
       "      <th></th>\n",
       "      <th></th>\n",
       "      <th></th>\n",
       "      <th></th>\n",
       "      <th></th>\n",
       "    </tr>\n",
       "  </thead>\n",
       "  <tbody>\n",
       "    <tr>\n",
       "      <th>179726144</th>\n",
       "      <td>The Avalon Project</td>\n",
       "      <td>A project I started with creating medieval/Tud...</td>\n",
       "      <td>1500.0</td>\n",
       "      <td>US</td>\n",
       "      <td>2018-03-12</td>\n",
       "      <td>2017-12-11</td>\n",
       "      <td>2018-01-11</td>\n",
       "      <td>1.000000</td>\n",
       "      <td>People</td>\n",
       "      <td>Photography</td>\n",
       "    </tr>\n",
       "    <tr>\n",
       "      <th>1180107458</th>\n",
       "      <td>Rider of the Black Sun: A Fantasy Gamebook</td>\n",
       "      <td>Support one of the most ambitious gamebooks ev...</td>\n",
       "      <td>6000.0</td>\n",
       "      <td>DE</td>\n",
       "      <td>2017-11-06</td>\n",
       "      <td>2017-08-09</td>\n",
       "      <td>2017-10-09</td>\n",
       "      <td>1.217137</td>\n",
       "      <td>Tabletop Games</td>\n",
       "      <td>Games</td>\n",
       "    </tr>\n",
       "    <tr>\n",
       "      <th>1948156939</th>\n",
       "      <td>The Band Called FUSE goes to South by SouthWes...</td>\n",
       "      <td>Help The Band Called FUSE tour to SXSW to brin...</td>\n",
       "      <td>3686.0</td>\n",
       "      <td>US</td>\n",
       "      <td>2012-03-01</td>\n",
       "      <td>2012-02-01</td>\n",
       "      <td>2012-02-01</td>\n",
       "      <td>1.000000</td>\n",
       "      <td>Hip-Hop</td>\n",
       "      <td>Music</td>\n",
       "    </tr>\n",
       "    <tr>\n",
       "      <th>100441343</th>\n",
       "      <td>World Premiere Recording: Original Piano Works</td>\n",
       "      <td>Piano works by Myron Silberstein; unpublished ...</td>\n",
       "      <td>2250.0</td>\n",
       "      <td>US</td>\n",
       "      <td>2019-03-16</td>\n",
       "      <td>2019-01-29</td>\n",
       "      <td>2019-02-14</td>\n",
       "      <td>1.000000</td>\n",
       "      <td>Classical Music</td>\n",
       "      <td>Music</td>\n",
       "    </tr>\n",
       "    <tr>\n",
       "      <th>1370866183</th>\n",
       "      <td>The Miskatonic Papers</td>\n",
       "      <td>A limited-edition experiential art book inspir...</td>\n",
       "      <td>22000.0</td>\n",
       "      <td>US</td>\n",
       "      <td>2019-09-19</td>\n",
       "      <td>2019-06-20</td>\n",
       "      <td>2019-08-20</td>\n",
       "      <td>1.000000</td>\n",
       "      <td>Fiction</td>\n",
       "      <td>Publishing</td>\n",
       "    </tr>\n",
       "  </tbody>\n",
       "</table>\n",
       "</div>"
      ],
      "text/plain": [
       "                                                         name  \\\n",
       "id                                                              \n",
       "179726144                                  The Avalon Project   \n",
       "1180107458         Rider of the Black Sun: A Fantasy Gamebook   \n",
       "1948156939  The Band Called FUSE goes to South by SouthWes...   \n",
       "100441343      World Premiere Recording: Original Piano Works   \n",
       "1370866183                              The Miskatonic Papers   \n",
       "\n",
       "                                                        blurb     goal  \\\n",
       "id                                                                       \n",
       "179726144   A project I started with creating medieval/Tud...   1500.0   \n",
       "1180107458  Support one of the most ambitious gamebooks ev...   6000.0   \n",
       "1948156939  Help The Band Called FUSE tour to SXSW to brin...   3686.0   \n",
       "100441343   Piano works by Myron Silberstein; unpublished ...   2250.0   \n",
       "1370866183  A limited-edition experiential art book inspir...  22000.0   \n",
       "\n",
       "           country   deadline created_at launched_at   fx_rate  \\\n",
       "id                                                               \n",
       "179726144       US 2018-03-12 2017-12-11  2018-01-11  1.000000   \n",
       "1180107458      DE 2017-11-06 2017-08-09  2017-10-09  1.217137   \n",
       "1948156939      US 2012-03-01 2012-02-01  2012-02-01  1.000000   \n",
       "100441343       US 2019-03-16 2019-01-29  2019-02-14  1.000000   \n",
       "1370866183      US 2019-09-19 2019-06-20  2019-08-20  1.000000   \n",
       "\n",
       "                   category main_category  \n",
       "id                                         \n",
       "179726144            People   Photography  \n",
       "1180107458   Tabletop Games         Games  \n",
       "1948156939          Hip-Hop         Music  \n",
       "100441343   Classical Music         Music  \n",
       "1370866183          Fiction    Publishing  "
      ]
     },
     "execution_count": 11,
     "metadata": {},
     "output_type": "execute_result"
    }
   ],
   "source": [
    "preprocess_df.drop(columns=['pledged', 'backers_count'], inplace=True)\n",
    "preprocess_df.head()"
   ]
  },
  {
   "cell_type": "markdown",
   "metadata": {},
   "source": [
    "### Tiếp tục khám phá dữ liệu"
   ]
  },
  {
   "cell_type": "markdown",
   "metadata": {},
   "source": [
    "Ta thấy cột fx_rate có ý nghĩa là tỷ giá của các đơn vị tiền tệ so với đơn vị tiền tệ được chọn để hiển thị khi truy cập trang web kickstarter. Đồng USD được chọn mặc định khi truy cập kickstarter từ quốc gia không có đơn vị tiền tệ được kickstarter sử dụng. Vì vậy dữ liệu trong cột fx_rate là tỷ giá các đơn vị tiền tệ so với đồng USD.\n",
    "\n",
    "Cột fx_rate có các giá trị khác nhau, cho thấy rằng các dự án yêu cầu số tiền với các đơn vị khác nhau. Việc có nhiều đơn vị tiền tệ có thể làm việc học bị sai lệch, vì vậy nhóm thực hiện tiền xử lý quy đổi các đơn vị tiền tệ về đồng USD - do tỷ giá là so với USD."
   ]
  },
  {
   "cell_type": "markdown",
   "metadata": {},
   "source": [
    "### Tiền xử lý: quy đổi đơn vị ở cột goal"
   ]
  },
  {
   "cell_type": "markdown",
   "metadata": {},
   "source": [
    "Thực hiện nhân cột fx_rate với cột goal để quy đổi tiền tệ về một đơn vị là USD, sau đó xóa cột fx_rate."
   ]
  },
  {
   "cell_type": "code",
   "execution_count": 17,
   "metadata": {},
   "outputs": [],
   "source": [
    "def currencyExchange(df):\n",
    "    fx_df = df.copy()\n",
    "    fx_df['goal'] = (fx_df['goal'] * fx_df['fx_rate']).round(1)\n",
    "    \n",
    "    fx_df.drop(columns='fx_rate', inplace=True)\n",
    "    \n",
    "    return fx_df"
   ]
  },
  {
   "cell_type": "code",
   "execution_count": 17,
   "metadata": {},
   "outputs": [
    {
     "data": {
      "text/html": [
       "<div>\n",
       "<style scoped>\n",
       "    .dataframe tbody tr th:only-of-type {\n",
       "        vertical-align: middle;\n",
       "    }\n",
       "\n",
       "    .dataframe tbody tr th {\n",
       "        vertical-align: top;\n",
       "    }\n",
       "\n",
       "    .dataframe thead th {\n",
       "        text-align: right;\n",
       "    }\n",
       "</style>\n",
       "<table border=\"1\" class=\"dataframe\">\n",
       "  <thead>\n",
       "    <tr style=\"text-align: right;\">\n",
       "      <th></th>\n",
       "      <th>name</th>\n",
       "      <th>blurb</th>\n",
       "      <th>goal</th>\n",
       "      <th>country</th>\n",
       "      <th>deadline</th>\n",
       "      <th>created_at</th>\n",
       "      <th>launched_at</th>\n",
       "      <th>category</th>\n",
       "      <th>main_category</th>\n",
       "    </tr>\n",
       "    <tr>\n",
       "      <th>id</th>\n",
       "      <th></th>\n",
       "      <th></th>\n",
       "      <th></th>\n",
       "      <th></th>\n",
       "      <th></th>\n",
       "      <th></th>\n",
       "      <th></th>\n",
       "      <th></th>\n",
       "      <th></th>\n",
       "    </tr>\n",
       "  </thead>\n",
       "  <tbody>\n",
       "    <tr>\n",
       "      <th>179726144</th>\n",
       "      <td>The Avalon Project</td>\n",
       "      <td>A project I started with creating medieval/Tudor outfits as a way of art and to share!</td>\n",
       "      <td>1500.0</td>\n",
       "      <td>US</td>\n",
       "      <td>2018-03-12</td>\n",
       "      <td>2017-12-11</td>\n",
       "      <td>2018-01-11</td>\n",
       "      <td>People</td>\n",
       "      <td>Photography</td>\n",
       "    </tr>\n",
       "    <tr>\n",
       "      <th>1180107458</th>\n",
       "      <td>Rider of the Black Sun: A Fantasy Gamebook</td>\n",
       "      <td>Support one of the most ambitious gamebooks ever created! Become a dragon master in the dark fantasy adventure: Rider of the Black Sun!</td>\n",
       "      <td>7302.8</td>\n",
       "      <td>DE</td>\n",
       "      <td>2017-11-06</td>\n",
       "      <td>2017-08-09</td>\n",
       "      <td>2017-10-09</td>\n",
       "      <td>Tabletop Games</td>\n",
       "      <td>Games</td>\n",
       "    </tr>\n",
       "    <tr>\n",
       "      <th>1948156939</th>\n",
       "      <td>The Band Called FUSE goes to South by SouthWest (SXSW)</td>\n",
       "      <td>Help The Band Called FUSE tour to SXSW to bring our trailblazing New York underground soul rock to the whole wide world!</td>\n",
       "      <td>3686.0</td>\n",
       "      <td>US</td>\n",
       "      <td>2012-03-01</td>\n",
       "      <td>2012-02-01</td>\n",
       "      <td>2012-02-01</td>\n",
       "      <td>Hip-Hop</td>\n",
       "      <td>Music</td>\n",
       "    </tr>\n",
       "    <tr>\n",
       "      <th>100441343</th>\n",
       "      <td>World Premiere Recording: Original Piano Works</td>\n",
       "      <td>Piano works by Myron Silberstein; unpublished pieces by Vittorio Giannini</td>\n",
       "      <td>2250.0</td>\n",
       "      <td>US</td>\n",
       "      <td>2019-03-16</td>\n",
       "      <td>2019-01-29</td>\n",
       "      <td>2019-02-14</td>\n",
       "      <td>Classical Music</td>\n",
       "      <td>Music</td>\n",
       "    </tr>\n",
       "    <tr>\n",
       "      <th>1370866183</th>\n",
       "      <td>The Miskatonic Papers</td>\n",
       "      <td>A limited-edition experiential art book inspired by H. P. Lovecraft's Cthulhu mythos and printed in letterpress.</td>\n",
       "      <td>22000.0</td>\n",
       "      <td>US</td>\n",
       "      <td>2019-09-19</td>\n",
       "      <td>2019-06-20</td>\n",
       "      <td>2019-08-20</td>\n",
       "      <td>Fiction</td>\n",
       "      <td>Publishing</td>\n",
       "    </tr>\n",
       "  </tbody>\n",
       "</table>\n",
       "</div>"
      ],
      "text/plain": [
       "                                                              name  \\\n",
       "id                                                                   \n",
       "179726144                                       The Avalon Project   \n",
       "1180107458              Rider of the Black Sun: A Fantasy Gamebook   \n",
       "1948156939  The Band Called FUSE goes to South by SouthWest (SXSW)   \n",
       "100441343           World Premiere Recording: Original Piano Works   \n",
       "1370866183                                   The Miskatonic Papers   \n",
       "\n",
       "                                                                                                                                              blurb  \\\n",
       "id                                                                                                                                                    \n",
       "179726144                                                    A project I started with creating medieval/Tudor outfits as a way of art and to share!   \n",
       "1180107458  Support one of the most ambitious gamebooks ever created! Become a dragon master in the dark fantasy adventure: Rider of the Black Sun!   \n",
       "1948156939                 Help The Band Called FUSE tour to SXSW to bring our trailblazing New York underground soul rock to the whole wide world!   \n",
       "100441343                                                                 Piano works by Myron Silberstein; unpublished pieces by Vittorio Giannini   \n",
       "1370866183                         A limited-edition experiential art book inspired by H. P. Lovecraft's Cthulhu mythos and printed in letterpress.   \n",
       "\n",
       "               goal country   deadline created_at launched_at  \\\n",
       "id                                                              \n",
       "179726144    1500.0      US 2018-03-12 2017-12-11  2018-01-11   \n",
       "1180107458   7302.8      DE 2017-11-06 2017-08-09  2017-10-09   \n",
       "1948156939   3686.0      US 2012-03-01 2012-02-01  2012-02-01   \n",
       "100441343    2250.0      US 2019-03-16 2019-01-29  2019-02-14   \n",
       "1370866183  22000.0      US 2019-09-19 2019-06-20  2019-08-20   \n",
       "\n",
       "                   category main_category  \n",
       "id                                         \n",
       "179726144            People   Photography  \n",
       "1180107458   Tabletop Games         Games  \n",
       "1948156939          Hip-Hop         Music  \n",
       "100441343   Classical Music         Music  \n",
       "1370866183          Fiction    Publishing  "
      ]
     },
     "execution_count": 17,
     "metadata": {},
     "output_type": "execute_result"
    }
   ],
   "source": [
    "preprocess_df = currencyExchange(preprocess_df)\n",
    "preprocess_df.head()"
   ]
  },
  {
   "cell_type": "markdown",
   "metadata": {},
   "source": [
    "### Tiếp tục khám phá dữ liệu"
   ]
  },
  {
   "cell_type": "markdown",
   "metadata": {},
   "source": [
    "Với các cột deadline, created_at và launched_at, nhóm nhận thấy là có thể suy ra được khoảng thời gian gọi vốn của một dự án cũng như là thời gian từ khi hồ sơ dự án được tạo cho đến khi dự án bắt đầu gọi vốn. Thêm vào đó, hiện tại các cột này đang có kiểu datetime, không phú hợp với kiểu dữ liệu đầu vào khi thực hiện mô hình hóa dữ liệu.\n",
    "\n",
    "Vì vậy nhóm thực hiện tiền xử lý cho các cột trên với các công việc sau:\n",
    "1. Thêm cột mới lưu các khoảng thời gian như đã mô tả.\n",
    "- cột num_days_funding: cho biết khoảng thời gian theo ngày từ khi một dự án bắt đầu đến khi kết thúc việc gọi vốn.\n",
    "- cột create_to_launch: cho biết thời gian từ khi hồ sơ dự án được tạo đến khi dự án bắt đầu gọi vốn.\n",
    "2. Xóa các cột deadline, created_at và launched_at"
   ]
  },
  {
   "cell_type": "markdown",
   "metadata": {},
   "source": [
    "### Tiền xử lý: tính khoảng thời gian từ các cột deadline, created_at và launched_at"
   ]
  },
  {
   "cell_type": "code",
   "execution_count": 18,
   "metadata": {},
   "outputs": [],
   "source": [
    "def dateCalc(X_df):\n",
    "    calc_df = X_df.copy()\n",
    "    \n",
    "    calc_df['funding_period'] = (calc_df['deadline'] - calc_df['launched_at']).dt.days\n",
    "    calc_df['launch_period'] = (calc_df['launched_at'] - calc_df['created_at']).dt.days\n",
    "    \n",
    "    calc_df.drop(columns=['deadline', 'created_at', 'launched_at'], inplace=True)\n",
    "    \n",
    "    return calc_df"
   ]
  },
  {
   "cell_type": "code",
   "execution_count": 19,
   "metadata": {},
   "outputs": [
    {
     "data": {
      "text/html": [
       "<div>\n",
       "<style scoped>\n",
       "    .dataframe tbody tr th:only-of-type {\n",
       "        vertical-align: middle;\n",
       "    }\n",
       "\n",
       "    .dataframe tbody tr th {\n",
       "        vertical-align: top;\n",
       "    }\n",
       "\n",
       "    .dataframe thead th {\n",
       "        text-align: right;\n",
       "    }\n",
       "</style>\n",
       "<table border=\"1\" class=\"dataframe\">\n",
       "  <thead>\n",
       "    <tr style=\"text-align: right;\">\n",
       "      <th></th>\n",
       "      <th>name</th>\n",
       "      <th>blurb</th>\n",
       "      <th>goal</th>\n",
       "      <th>country</th>\n",
       "      <th>category</th>\n",
       "      <th>main_category</th>\n",
       "      <th>funding_period</th>\n",
       "      <th>launch_period</th>\n",
       "    </tr>\n",
       "    <tr>\n",
       "      <th>id</th>\n",
       "      <th></th>\n",
       "      <th></th>\n",
       "      <th></th>\n",
       "      <th></th>\n",
       "      <th></th>\n",
       "      <th></th>\n",
       "      <th></th>\n",
       "      <th></th>\n",
       "    </tr>\n",
       "  </thead>\n",
       "  <tbody>\n",
       "    <tr>\n",
       "      <th>179726144</th>\n",
       "      <td>The Avalon Project</td>\n",
       "      <td>A project I started with creating medieval/Tudor outfits as a way of art and to share!</td>\n",
       "      <td>1500.0</td>\n",
       "      <td>US</td>\n",
       "      <td>People</td>\n",
       "      <td>Photography</td>\n",
       "      <td>60</td>\n",
       "      <td>31</td>\n",
       "    </tr>\n",
       "    <tr>\n",
       "      <th>1180107458</th>\n",
       "      <td>Rider of the Black Sun: A Fantasy Gamebook</td>\n",
       "      <td>Support one of the most ambitious gamebooks ever created! Become a dragon master in the dark fantasy adventure: Rider of the Black Sun!</td>\n",
       "      <td>7302.8</td>\n",
       "      <td>DE</td>\n",
       "      <td>Tabletop Games</td>\n",
       "      <td>Games</td>\n",
       "      <td>28</td>\n",
       "      <td>61</td>\n",
       "    </tr>\n",
       "    <tr>\n",
       "      <th>1948156939</th>\n",
       "      <td>The Band Called FUSE goes to South by SouthWest (SXSW)</td>\n",
       "      <td>Help The Band Called FUSE tour to SXSW to bring our trailblazing New York underground soul rock to the whole wide world!</td>\n",
       "      <td>3686.0</td>\n",
       "      <td>US</td>\n",
       "      <td>Hip-Hop</td>\n",
       "      <td>Music</td>\n",
       "      <td>29</td>\n",
       "      <td>0</td>\n",
       "    </tr>\n",
       "    <tr>\n",
       "      <th>100441343</th>\n",
       "      <td>World Premiere Recording: Original Piano Works</td>\n",
       "      <td>Piano works by Myron Silberstein; unpublished pieces by Vittorio Giannini</td>\n",
       "      <td>2250.0</td>\n",
       "      <td>US</td>\n",
       "      <td>Classical Music</td>\n",
       "      <td>Music</td>\n",
       "      <td>30</td>\n",
       "      <td>16</td>\n",
       "    </tr>\n",
       "    <tr>\n",
       "      <th>1370866183</th>\n",
       "      <td>The Miskatonic Papers</td>\n",
       "      <td>A limited-edition experiential art book inspired by H. P. Lovecraft's Cthulhu mythos and printed in letterpress.</td>\n",
       "      <td>22000.0</td>\n",
       "      <td>US</td>\n",
       "      <td>Fiction</td>\n",
       "      <td>Publishing</td>\n",
       "      <td>30</td>\n",
       "      <td>61</td>\n",
       "    </tr>\n",
       "  </tbody>\n",
       "</table>\n",
       "</div>"
      ],
      "text/plain": [
       "                                                              name  \\\n",
       "id                                                                   \n",
       "179726144                                       The Avalon Project   \n",
       "1180107458              Rider of the Black Sun: A Fantasy Gamebook   \n",
       "1948156939  The Band Called FUSE goes to South by SouthWest (SXSW)   \n",
       "100441343           World Premiere Recording: Original Piano Works   \n",
       "1370866183                                   The Miskatonic Papers   \n",
       "\n",
       "                                                                                                                                              blurb  \\\n",
       "id                                                                                                                                                    \n",
       "179726144                                                    A project I started with creating medieval/Tudor outfits as a way of art and to share!   \n",
       "1180107458  Support one of the most ambitious gamebooks ever created! Become a dragon master in the dark fantasy adventure: Rider of the Black Sun!   \n",
       "1948156939                 Help The Band Called FUSE tour to SXSW to bring our trailblazing New York underground soul rock to the whole wide world!   \n",
       "100441343                                                                 Piano works by Myron Silberstein; unpublished pieces by Vittorio Giannini   \n",
       "1370866183                         A limited-edition experiential art book inspired by H. P. Lovecraft's Cthulhu mythos and printed in letterpress.   \n",
       "\n",
       "               goal country         category main_category  funding_period  \\\n",
       "id                                                                           \n",
       "179726144    1500.0      US           People   Photography              60   \n",
       "1180107458   7302.8      DE   Tabletop Games         Games              28   \n",
       "1948156939   3686.0      US          Hip-Hop         Music              29   \n",
       "100441343    2250.0      US  Classical Music         Music              30   \n",
       "1370866183  22000.0      US          Fiction    Publishing              30   \n",
       "\n",
       "            launch_period  \n",
       "id                         \n",
       "179726144              31  \n",
       "1180107458             61  \n",
       "1948156939              0  \n",
       "100441343              16  \n",
       "1370866183             61  "
      ]
     },
     "execution_count": 19,
     "metadata": {},
     "output_type": "execute_result"
    }
   ],
   "source": [
    "preprocess_df = dateCalc(preprocess_df)\n",
    "preprocess_df.head()"
   ]
  },
  {
   "cell_type": "markdown",
   "metadata": {},
   "source": [
    "### Tiếp tục khám phá dữ liệu"
   ]
  },
  {
   "cell_type": "markdown",
   "metadata": {},
   "source": [
    "Có thể thấy cột \"goal\" cùng với 2 cột mới \"num_days_funding\" và \"create_to_launch\" có dạng thuộc tính liên tục với miền giá trị là các số >= 0. Vì vậy cần phải rồi rạc hóa các cột này để có thể giúp mô hình khớp tốt hơn với dữ liệu."
   ]
  },
  {
   "cell_type": "markdown",
   "metadata": {},
   "source": [
    "### Tiền xử lý: rời rạc hóa các cột \"goal\", \"funding_period\" và \"launch_period\""
   ]
  },
  {
   "cell_type": "code",
   "execution_count": 20,
   "metadata": {},
   "outputs": [
    {
     "data": {
      "text/plain": [
       "0.00            0.0\n",
       "0.25         1800.0\n",
       "0.50         5000.0\n",
       "0.75        15000.0\n",
       "1.00    121713729.0\n",
       "Name: goal, dtype: float64"
      ]
     },
     "execution_count": 20,
     "metadata": {},
     "output_type": "execute_result"
    }
   ],
   "source": [
    "goal_bins = preprocess_df['goal'].quantile([0, 0.25, 0.5, 0.75, 1]).round(1)\n",
    "goal_bins"
   ]
  },
  {
   "cell_type": "code",
   "execution_count": 22,
   "metadata": {},
   "outputs": [
    {
     "data": {
      "text/plain": [
       "0.00     1.0\n",
       "0.25    30.0\n",
       "0.50    30.0\n",
       "0.75    35.0\n",
       "1.00    91.0\n",
       "Name: funding_period, dtype: float64"
      ]
     },
     "execution_count": 22,
     "metadata": {},
     "output_type": "execute_result"
    }
   ],
   "source": [
    "funding_days_bins = preprocess_df['funding_period'].quantile([0, 0.25, 0.5, 0.75, 1]).round(1)\n",
    "funding_days_bins"
   ]
  },
  {
   "cell_type": "code",
   "execution_count": 23,
   "metadata": {},
   "outputs": [
    {
     "data": {
      "text/plain": [
       "0.00       0.0\n",
       "0.25       3.0\n",
       "0.50      13.0\n",
       "0.75      39.0\n",
       "1.00    2856.0\n",
       "Name: launch_period, dtype: float64"
      ]
     },
     "execution_count": 23,
     "metadata": {},
     "output_type": "execute_result"
    }
   ],
   "source": [
    "to_launch_bins = preprocess_df['launch_period'].quantile([0, 0.25, 0.5, 0.75, 1]).round(1)\n",
    "to_launch_bins"
   ]
  },
  {
   "cell_type": "markdown",
   "metadata": {},
   "source": [
    "### Tiếp tục khám phá dữ liệu"
   ]
  },
  {
   "cell_type": "markdown",
   "metadata": {},
   "source": [
    "Cột \"blurb\" là các cột có giá trị dạng chuỗi ký tự, do đó nhóm sử dụng `TfidfVectorizer` để có thể rút trích ra đặc trưng của dữ liệu này."
   ]
  },
  {
   "cell_type": "code",
   "execution_count": 25,
   "metadata": {},
   "outputs": [
    {
     "data": {
      "text/plain": [
       "(49943, 450081)"
      ]
     },
     "execution_count": 25,
     "metadata": {},
     "output_type": "execute_result"
    }
   ],
   "source": [
    "vec2 = TfidfVectorizer(strip_accents='unicode', ngram_range=(1, 2))\n",
    "test_result = vec2.fit_transform(preprocess_df['blurb'])\n",
    "test_result.shape"
   ]
  },
  {
   "cell_type": "markdown",
   "metadata": {},
   "source": [
    "Như kết quả, việc sử dụng TF-IDF đã làm số cột tăng lên rất nhiều, do đó cần có phương pháp giảm số cột xuống."
   ]
  },
  {
   "cell_type": "markdown",
   "metadata": {},
   "source": [
    "---"
   ]
  },
  {
   "cell_type": "markdown",
   "metadata": {},
   "source": [
    "# 7. Tiền xử lý"
   ]
  },
  {
   "cell_type": "markdown",
   "metadata": {},
   "source": [
    "Qua bước khám phá dữ liệu, nhóm quyết định thực hiện các bước tiền xủ lý như sau:\n",
    "- Xóa cột backers_count và pledged vì 2 cột này chỉ có giá trị sau khi một dự án đã bắt đầu gọi vốn, không thể dùng để dự đoán dự án chưa bắt đầu.\n",
    "- Xóa cột \"name\" do cột này chỉ là tên, không có nhiều ý nghĩa.\n",
    "- Sử dụng cột fx_rate để quy đổi đơn vị cho cột goal và xóa cột fx_rate.\n",
    "- Đối với các cột deadline, created_at và launched_at:\n",
    "    - Chuyển đổi giá trị các cột từ dạng timestamp sang datetiem\n",
    "    - Tính các khoảng thời gian (đơn vị là ngày):\n",
    "        - Khoảng thời gian gọi vốn của dự án và lưu vào cột 'funding_period'.\n",
    "        - Thời gian từ khi dự án được tạo đến khi bắt đầu gọi vốn, lưu vào cột 'launch_period'.\n",
    "    - Cuối cùng là xóa các cột deadline, created_at và launched_at.\n",
    "\n",
    "Sau các bước trên ta thấy các cột \"funding_period\", \"launch_period\" và cột \"goal\" là những thuộc tính liên tục có miền giá trị là các số >= 0, vì vậy cần rời rạc hóa các cột này.\n",
    "\n",
    "Đối với các cột không phải dạng số và không có thứ tự bao gồm: \"country\", \"category\" và \"main_category\" thực hiện chuyển về dạng số bằng phương pháp mã hóa one-hot.\n",
    "\n",
    "Còn lại cột blurb có dạng chuỗi, nhóm quyết định thực hiện chuyển đổi về các véc-tơ biểu diễn dạng số sử dụng \n",
    "`TfidfVectorizer`.\n",
    "\n",
    "Qua thử nghiệm sử dụng `TfidfVectorizer` cho cột \"blurb\" cũng như one-hot cho cột \"category\" có thể thấy ma trận kết quả có số lượng cột rất lớn, cần thiết phải giảm chiều dữ liệu:\n",
    "- Với cột \"blurb\", thực hiện giảm chiều dữ liệu sử dụng [TruncatedSVD](https://scikit-learn.org/stable/modules/generated/sklearn.decomposition.TruncatedSVD.html?highlight=truncatedsvd#sklearn.decomposition.TruncatedSVD) với tham số n_components = 100, đây là giá trị khuyên dùng khi sử dụng kết hợp với tf-idf theo tài liệu về `TruncatedSVD` của `sklearn`.\n",
    "- Cột \"category\" cũng sử dụng `TruncatedSVD`, nhưng sẽ thử nghiệm để tìm ra tham số tốt nhất."
   ]
  },
  {
   "cell_type": "markdown",
   "metadata": {},
   "source": [
    "## Tạo pipeline"
   ]
  },
  {
   "cell_type": "code",
   "execution_count": 70,
   "metadata": {},
   "outputs": [],
   "source": [
    "del_cols = ['pledged', 'backers_count', 'name']\n",
    "unorder_cat_cols = ['country', 'category', 'main_category']\n",
    "\n",
    "\n",
    "# tạo column transformer cho các cột thuộc tính liên tục và định danh không thứ tự\n",
    "custom_transformer = make_column_transformer(('drop', del_cols),\n",
    "                                             (KBinsDiscretizer(n_bins=3), ['goal', 'funding_period', 'launch_period']),\n",
    "                                             (OneHotEncoder(handle_unknown='ignore'), ['country', 'main_category', 'category']),\n",
    "                                             (make_pipeline(TfidfVectorizer(strip_accents='unicode'),\n",
    "                                                           TruncatedSVD(n_components=100)), 'blurb'),\n",
    "                                                 remainder='passthrough')\n",
    "\n",
    "\n",
    "#Tạo pipeline cho mô hình\n",
    "full_pipeline = make_pipeline(FunctionTransformer(currencyExchange), FunctionTransformer(colToDatetime),\n",
    "                          FunctionTransformer(dateCalc), custom_transformer, StandardScaler(with_mean=False),\n",
    "                          MLPClassifier(hidden_layer_sizes=(20,), random_state=42, max_iter=2000))"
   ]
  },
  {
   "cell_type": "code",
   "execution_count": 71,
   "metadata": {},
   "outputs": [
    {
     "data": {
      "text/html": [
       "<style>div.sk-top-container {color: black;background-color: white;}div.sk-toggleable {background-color: white;}label.sk-toggleable__label {cursor: pointer;display: block;width: 100%;margin-bottom: 0;padding: 0.2em 0.3em;box-sizing: border-box;text-align: center;}div.sk-toggleable__content {max-height: 0;max-width: 0;overflow: hidden;text-align: left;background-color: #f0f8ff;}div.sk-toggleable__content pre {margin: 0.2em;color: black;border-radius: 0.25em;background-color: #f0f8ff;}input.sk-toggleable__control:checked~div.sk-toggleable__content {max-height: 200px;max-width: 100%;overflow: auto;}div.sk-estimator input.sk-toggleable__control:checked~label.sk-toggleable__label {background-color: #d4ebff;}div.sk-label input.sk-toggleable__control:checked~label.sk-toggleable__label {background-color: #d4ebff;}input.sk-hidden--visually {border: 0;clip: rect(1px 1px 1px 1px);clip: rect(1px, 1px, 1px, 1px);height: 1px;margin: -1px;overflow: hidden;padding: 0;position: absolute;width: 1px;}div.sk-estimator {font-family: monospace;background-color: #f0f8ff;margin: 0.25em 0.25em;border: 1px dotted black;border-radius: 0.25em;box-sizing: border-box;}div.sk-estimator:hover {background-color: #d4ebff;}div.sk-parallel-item::after {content: \"\";width: 100%;border-bottom: 1px solid gray;flex-grow: 1;}div.sk-label:hover label.sk-toggleable__label {background-color: #d4ebff;}div.sk-serial::before {content: \"\";position: absolute;border-left: 1px solid gray;box-sizing: border-box;top: 2em;bottom: 0;left: 50%;}div.sk-serial {display: flex;flex-direction: column;align-items: center;background-color: white;}div.sk-item {z-index: 1;}div.sk-parallel {display: flex;align-items: stretch;justify-content: center;background-color: white;}div.sk-parallel-item {display: flex;flex-direction: column;position: relative;background-color: white;}div.sk-parallel-item:first-child::after {align-self: flex-end;width: 50%;}div.sk-parallel-item:last-child::after {align-self: flex-start;width: 50%;}div.sk-parallel-item:only-child::after {width: 0;}div.sk-dashed-wrapped {border: 1px dashed gray;margin: 0.2em;box-sizing: border-box;padding-bottom: 0.1em;background-color: white;position: relative;}div.sk-label label {font-family: monospace;font-weight: bold;background-color: white;display: inline-block;line-height: 1.2em;}div.sk-label-container {position: relative;z-index: 2;text-align: center;}div.sk-container {display: inline-block;position: relative;}</style><div class=\"sk-top-container\"><div class=\"sk-container\"><div class=\"sk-item sk-dashed-wrapped\"><div class=\"sk-label-container\"><div class=\"sk-label sk-toggleable\"><input class=\"sk-toggleable__control sk-hidden--visually\" id=\"274e5874-c351-4e52-b49f-5bedd77f6417\" type=\"checkbox\" ><label class=\"sk-toggleable__label\" for=\"274e5874-c351-4e52-b49f-5bedd77f6417\">Pipeline</label><div class=\"sk-toggleable__content\"><pre>Pipeline(steps=[('functiontransformer-1',\n",
       "                 FunctionTransformer(func=<function currencyExchange at 0x7f03e926d5e0>)),\n",
       "                ('functiontransformer-2',\n",
       "                 FunctionTransformer(func=<function colToDatetime at 0x7f03e5d18dc0>)),\n",
       "                ('functiontransformer-3',\n",
       "                 FunctionTransformer(func=<function dateCalc at 0x7f03e926d9d0>)),\n",
       "                ('columntransformer',\n",
       "                 ColumnTransformer(remainder='passthroug...\n",
       "                                                  OneHotEncoder(handle_unknown='ignore'),\n",
       "                                                  ['country', 'main_category',\n",
       "                                                   'category']),\n",
       "                                                 ('pipeline',\n",
       "                                                  Pipeline(steps=[('tfidfvectorizer',\n",
       "                                                                   TfidfVectorizer(strip_accents='unicode')),\n",
       "                                                                  ('truncatedsvd',\n",
       "                                                                   TruncatedSVD(n_components=100))]),\n",
       "                                                  'blurb')])),\n",
       "                ('standardscaler', StandardScaler(with_mean=False)),\n",
       "                ('mlpclassifier',\n",
       "                 MLPClassifier(hidden_layer_sizes=(20,), max_iter=2000,\n",
       "                               random_state=42))])</pre></div></div></div><div class=\"sk-serial\"><div class=\"sk-item\"><div class=\"sk-estimator sk-toggleable\"><input class=\"sk-toggleable__control sk-hidden--visually\" id=\"354952e5-66f5-4734-9c8b-e0943c4c2a90\" type=\"checkbox\" ><label class=\"sk-toggleable__label\" for=\"354952e5-66f5-4734-9c8b-e0943c4c2a90\">FunctionTransformer</label><div class=\"sk-toggleable__content\"><pre>FunctionTransformer(func=<function currencyExchange at 0x7f03e926d5e0>)</pre></div></div></div><div class=\"sk-item\"><div class=\"sk-estimator sk-toggleable\"><input class=\"sk-toggleable__control sk-hidden--visually\" id=\"c0568516-e65b-464d-942d-dd3f7baa917b\" type=\"checkbox\" ><label class=\"sk-toggleable__label\" for=\"c0568516-e65b-464d-942d-dd3f7baa917b\">FunctionTransformer</label><div class=\"sk-toggleable__content\"><pre>FunctionTransformer(func=<function colToDatetime at 0x7f03e5d18dc0>)</pre></div></div></div><div class=\"sk-item\"><div class=\"sk-estimator sk-toggleable\"><input class=\"sk-toggleable__control sk-hidden--visually\" id=\"546c9fda-2f58-4695-a1e4-d30a62081b35\" type=\"checkbox\" ><label class=\"sk-toggleable__label\" for=\"546c9fda-2f58-4695-a1e4-d30a62081b35\">FunctionTransformer</label><div class=\"sk-toggleable__content\"><pre>FunctionTransformer(func=<function dateCalc at 0x7f03e926d9d0>)</pre></div></div></div><div class=\"sk-item sk-dashed-wrapped\"><div class=\"sk-label-container\"><div class=\"sk-label sk-toggleable\"><input class=\"sk-toggleable__control sk-hidden--visually\" id=\"2889f127-162e-422c-a5c0-3966b9a4b23b\" type=\"checkbox\" ><label class=\"sk-toggleable__label\" for=\"2889f127-162e-422c-a5c0-3966b9a4b23b\">columntransformer: ColumnTransformer</label><div class=\"sk-toggleable__content\"><pre>ColumnTransformer(remainder='passthrough',\n",
       "                  transformers=[('drop', 'drop',\n",
       "                                 ['pledged', 'backers_count', 'name']),\n",
       "                                ('kbinsdiscretizer', KBinsDiscretizer(n_bins=3),\n",
       "                                 ['goal', 'funding_period', 'launch_period']),\n",
       "                                ('onehotencoder',\n",
       "                                 OneHotEncoder(handle_unknown='ignore'),\n",
       "                                 ['country', 'main_category', 'category']),\n",
       "                                ('pipeline',\n",
       "                                 Pipeline(steps=[('tfidfvectorizer',\n",
       "                                                  TfidfVectorizer(strip_accents='unicode')),\n",
       "                                                 ('truncatedsvd',\n",
       "                                                  TruncatedSVD(n_components=100))]),\n",
       "                                 'blurb')])</pre></div></div></div><div class=\"sk-parallel\"><div class=\"sk-parallel-item\"><div class=\"sk-item\"><div class=\"sk-label-container\"><div class=\"sk-label sk-toggleable\"><input class=\"sk-toggleable__control sk-hidden--visually\" id=\"87ffcbc8-08bc-4546-a116-c31d29217933\" type=\"checkbox\" ><label class=\"sk-toggleable__label\" for=\"87ffcbc8-08bc-4546-a116-c31d29217933\">drop</label><div class=\"sk-toggleable__content\"><pre>['pledged', 'backers_count', 'name']</pre></div></div></div><div class=\"sk-serial\"><div class=\"sk-item\"><div class=\"sk-estimator sk-toggleable\"><input class=\"sk-toggleable__control sk-hidden--visually\" id=\"0370f64a-0c3b-484f-965d-7be2d706e689\" type=\"checkbox\" ><label class=\"sk-toggleable__label\" for=\"0370f64a-0c3b-484f-965d-7be2d706e689\">drop</label><div class=\"sk-toggleable__content\"><pre>drop</pre></div></div></div></div></div></div><div class=\"sk-parallel-item\"><div class=\"sk-item\"><div class=\"sk-label-container\"><div class=\"sk-label sk-toggleable\"><input class=\"sk-toggleable__control sk-hidden--visually\" id=\"12b8d655-efa5-4165-87c1-e80627318ca3\" type=\"checkbox\" ><label class=\"sk-toggleable__label\" for=\"12b8d655-efa5-4165-87c1-e80627318ca3\">kbinsdiscretizer</label><div class=\"sk-toggleable__content\"><pre>['goal', 'funding_period', 'launch_period']</pre></div></div></div><div class=\"sk-serial\"><div class=\"sk-item\"><div class=\"sk-estimator sk-toggleable\"><input class=\"sk-toggleable__control sk-hidden--visually\" id=\"f28d085f-bec1-4014-ac57-d39c832d91f7\" type=\"checkbox\" ><label class=\"sk-toggleable__label\" for=\"f28d085f-bec1-4014-ac57-d39c832d91f7\">KBinsDiscretizer</label><div class=\"sk-toggleable__content\"><pre>KBinsDiscretizer(n_bins=3)</pre></div></div></div></div></div></div><div class=\"sk-parallel-item\"><div class=\"sk-item\"><div class=\"sk-label-container\"><div class=\"sk-label sk-toggleable\"><input class=\"sk-toggleable__control sk-hidden--visually\" id=\"955d4e87-8a48-48a3-a82c-e971b83233f9\" type=\"checkbox\" ><label class=\"sk-toggleable__label\" for=\"955d4e87-8a48-48a3-a82c-e971b83233f9\">onehotencoder</label><div class=\"sk-toggleable__content\"><pre>['country', 'main_category', 'category']</pre></div></div></div><div class=\"sk-serial\"><div class=\"sk-item\"><div class=\"sk-estimator sk-toggleable\"><input class=\"sk-toggleable__control sk-hidden--visually\" id=\"be53b57d-826c-4425-a97a-7195bc67e617\" type=\"checkbox\" ><label class=\"sk-toggleable__label\" for=\"be53b57d-826c-4425-a97a-7195bc67e617\">OneHotEncoder</label><div class=\"sk-toggleable__content\"><pre>OneHotEncoder(handle_unknown='ignore')</pre></div></div></div></div></div></div><div class=\"sk-parallel-item\"><div class=\"sk-item\"><div class=\"sk-label-container\"><div class=\"sk-label sk-toggleable\"><input class=\"sk-toggleable__control sk-hidden--visually\" id=\"6a291bef-8ef1-4fdb-bba1-612356166d5c\" type=\"checkbox\" ><label class=\"sk-toggleable__label\" for=\"6a291bef-8ef1-4fdb-bba1-612356166d5c\">pipeline</label><div class=\"sk-toggleable__content\"><pre>blurb</pre></div></div></div><div class=\"sk-serial\"><div class=\"sk-item\"><div class=\"sk-serial\"><div class=\"sk-item\"><div class=\"sk-estimator sk-toggleable\"><input class=\"sk-toggleable__control sk-hidden--visually\" id=\"eb6604fa-6263-49b8-a400-6ff2dc2912ac\" type=\"checkbox\" ><label class=\"sk-toggleable__label\" for=\"eb6604fa-6263-49b8-a400-6ff2dc2912ac\">TfidfVectorizer</label><div class=\"sk-toggleable__content\"><pre>TfidfVectorizer(strip_accents='unicode')</pre></div></div></div><div class=\"sk-item\"><div class=\"sk-estimator sk-toggleable\"><input class=\"sk-toggleable__control sk-hidden--visually\" id=\"7ad6bfa8-dccd-4287-9b3f-d7f524f53539\" type=\"checkbox\" ><label class=\"sk-toggleable__label\" for=\"7ad6bfa8-dccd-4287-9b3f-d7f524f53539\">TruncatedSVD</label><div class=\"sk-toggleable__content\"><pre>TruncatedSVD(n_components=100)</pre></div></div></div></div></div></div></div></div></div></div><div class=\"sk-item\"><div class=\"sk-estimator sk-toggleable\"><input class=\"sk-toggleable__control sk-hidden--visually\" id=\"a7794059-c649-488d-a8b0-e7e6c595b9c0\" type=\"checkbox\" ><label class=\"sk-toggleable__label\" for=\"a7794059-c649-488d-a8b0-e7e6c595b9c0\">StandardScaler</label><div class=\"sk-toggleable__content\"><pre>StandardScaler(with_mean=False)</pre></div></div></div><div class=\"sk-item\"><div class=\"sk-estimator sk-toggleable\"><input class=\"sk-toggleable__control sk-hidden--visually\" id=\"58a9237f-fa6b-4f1e-ae2f-7e34898f2292\" type=\"checkbox\" ><label class=\"sk-toggleable__label\" for=\"58a9237f-fa6b-4f1e-ae2f-7e34898f2292\">MLPClassifier</label><div class=\"sk-toggleable__content\"><pre>MLPClassifier(hidden_layer_sizes=(20,), max_iter=2000, random_state=42)</pre></div></div></div></div></div></div></div>"
      ],
      "text/plain": [
       "Pipeline(steps=[('functiontransformer-1',\n",
       "                 FunctionTransformer(func=<function currencyExchange at 0x7f03e926d5e0>)),\n",
       "                ('functiontransformer-2',\n",
       "                 FunctionTransformer(func=<function colToDatetime at 0x7f03e5d18dc0>)),\n",
       "                ('functiontransformer-3',\n",
       "                 FunctionTransformer(func=<function dateCalc at 0x7f03e926d9d0>)),\n",
       "                ('columntransformer',\n",
       "                 ColumnTransformer(remainder='passthroug...\n",
       "                                                  OneHotEncoder(handle_unknown='ignore'),\n",
       "                                                  ['country', 'main_category',\n",
       "                                                   'category']),\n",
       "                                                 ('pipeline',\n",
       "                                                  Pipeline(steps=[('tfidfvectorizer',\n",
       "                                                                   TfidfVectorizer(strip_accents='unicode')),\n",
       "                                                                  ('truncatedsvd',\n",
       "                                                                   TruncatedSVD(n_components=100))]),\n",
       "                                                  'blurb')])),\n",
       "                ('standardscaler', StandardScaler(with_mean=False)),\n",
       "                ('mlpclassifier',\n",
       "                 MLPClassifier(hidden_layer_sizes=(20,), max_iter=2000,\n",
       "                               random_state=42))])"
      ]
     },
     "execution_count": 71,
     "metadata": {},
     "output_type": "execute_result"
    }
   ],
   "source": [
    "full_pipeline"
   ]
  },
  {
   "cell_type": "markdown",
   "metadata": {},
   "source": [
    "## Tiền xử lý và mô hình hóa"
   ]
  },
  {
   "cell_type": "markdown",
   "metadata": {},
   "source": [
    "### Thử nghiệm mô hình với các siêu tham số:"
   ]
  },
  {
   "cell_type": "markdown",
   "metadata": {},
   "source": [
    "- Siêu tham số `n_components` của `TruncatedSVD` trong pipeline tiền xử lý các cột định danh không thứ tự với 5 giá trị khác nhau: 2, 3, 5, 8, 13.\n",
    "- Siêu tham số `alpha` của `MLPClassifier` với các giá trị: 0.001, 1, 10"
   ]
  },
  {
   "cell_type": "code",
   "execution_count": 60,
   "metadata": {},
   "outputs": [],
   "source": [
    "# tạo danh sách các siêu tham số để thử nghiệm mô hình\n",
    "n_components_Tfidf = [2, 10, 50, 100]\n",
    "alphas = [0.0001, 1, 10, 100, 1000]"
   ]
  },
  {
   "cell_type": "code",
   "execution_count": 69,
   "metadata": {},
   "outputs": [
    {
     "data": {
      "text/plain": [
       "24.03491910940253"
      ]
     },
     "execution_count": 69,
     "metadata": {},
     "output_type": "execute_result"
    }
   ],
   "source": [
    "#self test\n",
    "full_pipeline.set_params(mlpclassifier__alpha=best_alpha)\n",
    "full_pipeline.set_params(mlpclassifier__hidden_layer_sizes=(20,))\n",
    "onehot_truncate.set_params(n_components=100)\n",
    "\n",
    "full_pipeline.fit(train_X_df, train_y_sr)\n",
    "val_test = full_pipeline.predict(val_X_df)\n",
    "(val_test != val_y_sr).mean() * 100"
   ]
  },
  {
   "cell_type": "code",
   "execution_count": 72,
   "metadata": {},
   "outputs": [],
   "source": [
    "train_errs = []\n",
    "val_errs = []\n",
    "best_val_err = float('inf'); best_n_component = None; best_alpha = None\n",
    "tfidf_truncate = full_pipeline.steps[3][1].transformers[3][1].steps[1][1]\n",
    "\n",
    "for n in n_components_Tfidf:\n",
    "    tfidf_truncate.set_params(n_components=n)\n",
    "    \n",
    "    for a in alphas:        \n",
    "        full_pipeline.set_params(mlpclassifier__alpha=a)\n",
    "\n",
    "        # fit và predict với pipeline\n",
    "        full_pipeline.fit(train_X_df, train_y_sr)\n",
    "        val_y_pred = full_pipeline.predict(val_X_df)\n",
    "\n",
    "        # ghi lại độ lỗi với các siêu tham số đang xét\n",
    "        train_err = (1 - full_pipeline.score(train_X_df, train_y_sr)) * 100\n",
    "        val_err = (val_y_pred != val_y_sr).mean() * 100\n",
    "\n",
    "        train_errs.append(train_err)\n",
    "        val_errs.append(val_err)\n",
    "\n",
    "        if val_err < best_val_err:\n",
    "            best_val_err = val_err\n",
    "            best_n_component = n\n",
    "            best_alpha = a"
   ]
  },
  {
   "cell_type": "code",
   "execution_count": 73,
   "metadata": {},
   "outputs": [
    {
     "data": {
      "image/png": "[encoded data removed]",
      "text/plain": [
       "<Figure size 720x360 with 2 Axes>"
      ]
     },
     "metadata": {
      "needs_background": "light"
     },
     "output_type": "display_data"
    }
   ],
   "source": [
    "# Trực quan hóa kết quả\n",
    "train_errs_df = pd.DataFrame(data=np.array(train_errs).reshape(len(alphas), -1),\n",
    "                             index=alphas, columns=n_components_Tfidf)\n",
    "val_errs_df = pd.DataFrame(data=np.array(val_errs).reshape(len(alphas), -1), \n",
    "                           index=alphas, columns=n_components_Tfidf)\n",
    "min_err = min(min(train_errs), min(val_errs))\n",
    "max_err = max(max(train_errs), max(val_errs))\n",
    "plt.figure(figsize=(10, 5))\n",
    "plt.subplot(1, 2, 1)\n",
    "sns.heatmap(train_errs_df, vmin=min_err, vmax=max_err, square=True, annot=True, \n",
    "            cbar=False, fmt='.1f', cmap='Reds')\n",
    "plt.title('train errors'); plt.xlabel('n_components'); plt.ylabel('alpha')\n",
    "plt.subplot(1, 2, 2)\n",
    "sns.heatmap(val_errs_df, vmin=min_err, vmax=max_err, square=True, annot=True, \n",
    "            cbar=False, fmt='.1f', cmap='Reds')\n",
    "plt.title('validation errors'); plt.xlabel('n_components'); plt.ylabel('alpha');"
   ]
  },
  {
   "cell_type": "code",
   "execution_count": 74,
   "metadata": {},
   "outputs": [
    {
     "data": {
      "text/plain": [
       "23.882748678519942"
      ]
     },
     "execution_count": 74,
     "metadata": {},
     "output_type": "execute_result"
    }
   ],
   "source": [
    "best_val_err"
   ]
  },
  {
   "cell_type": "markdown",
   "metadata": {},
   "source": [
    "Cuối cùng là huấn luyện lại mô hình với các siêu tham số tốt nhất tìm được để ra được mô hình áp dụng cho tập kiểm tra."
   ]
  },
  {
   "cell_type": "code",
   "execution_count": null,
   "metadata": {},
   "outputs": [],
   "source": []
  },
  {
   "cell_type": "markdown",
   "metadata": {},
   "source": [
    "### Áp dụng mô hình tốt nhất tìm được trên tập kiểm tra"
   ]
  },
  {
   "cell_type": "code",
   "execution_count": null,
   "metadata": {},
   "outputs": [],
   "source": [
    "test_pred = full_pipeline.predict(test_)"
   ]
  }
 ],
 "metadata": {
  "kernelspec": {
   "display_name": "Python 3",
   "language": "python",
   "name": "python3"
  },
  "language_info": {
   "codemirror_mode": {
    "name": "ipython",
    "version": 3
   },
   "file_extension": ".py",
   "mimetype": "text/x-python",
   "name": "python",
   "nbconvert_exporter": "python",
   "pygments_lexer": "ipython3",
   "version": "3.8.3"
  }
 },
 "nbformat": 4,
 "nbformat_minor": 4
}
