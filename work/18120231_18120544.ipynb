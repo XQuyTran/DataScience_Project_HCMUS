{
 "cells": [
  {
   "cell_type": "markdown",
   "metadata": {},
   "source": [
    "# 1. Import các thư viện cần thiết"
   ]
  },
  {
   "cell_type": "code",
   "execution_count": null,
   "metadata": {},
   "outputs": [],
   "source": [
    "from selenium import webdriver\n",
    "from bs4 import BeautifulSoup\n",
    "import time, json, csv, re, os"
   ]
  },
  {
   "cell_type": "code",
   "execution_count": 1,
   "metadata": {},
   "outputs": [],
   "source": [
    "import math\n",
    "\n",
    "import pandas as pd\n",
    "from datetime import date\n",
    "import datetime\n",
    "\n",
    "from sklearn.model_selection import train_test_split\n",
    "\n",
    "from sklearn.preprocessing import FunctionTransformer, KBinsDiscretizer, OneHotEncoder\n",
    "\n",
    "from sklearn.feature_extraction.text import CountVectorizer, TfidfVectorizer\n",
    "\n",
    "from sklearn.pipeline import make_pipeline\n",
    "\n",
    "from sklearn.neural_network import MLPClassifier\n",
    "\n",
    "from sklearn.compose import make_column_transformer\n",
    "\n",
    "from sklearn import set_config\n",
    "set_config(display='diagram')"
   ]
  },
  {
   "cell_type": "markdown",
   "metadata": {},
   "source": [
    "---"
   ]
  },
  {
   "cell_type": "markdown",
   "metadata": {},
   "source": [
    "# 2. Thu thập dữ liệu\n",
    "\n",
    "[Kickstarter](https://www.kickstarter.com) là trang web cho phép người dùng gọi vốn từ cộng đồng để phát triển một sản phẩm nào đó thuộc lĩnh vực như là: nghệ thuật, truyện tranh, chế tác, phim ảnh, thực phẩm, báo chí, âm nhạc, game, thiết kế, ...\n",
    "\n",
    "Trong đồ án, nhóm chúng em sẽ thu thập môt số dữ liệu về các dự án hiện có trên nền tảng kickstarter. Theo như file [robots.txt](https://www.kickstarter.com/robots.txt) của kickstarter thì trang không cho phép thu thập thông tin về người hỗ trợ, số tiền đã được góp vốn, widget trong từng trang dự án và trang hồ sơ người dùng, còn lại thì không bị cấm. Nhóm thực hiện thu thập trên trang [discover](https://www.kickstarter.com/discover?ref=nav) nên không vi phạm yêu cầu của kickstarter.\n",
    "\n",
    "Ở đây nhóm sử dụng thư viện Selenium vì cần phải thực hiện một số thao tác click chuột và cuộn trang thì kickstarter mới tải thêm dữ liệu.\n",
    "\n",
    "- Sử dụng thư viện Selenium truy cập trang [discover](https://www.kickstarter.com/discover?ref=nav) của kickstarter và thu thập thông tin của tất cả project hiện có.\n",
    "- Dữ liệu của các dự án được thu thập bao gồm: id, tên, lời giới thiệu, số tiền mục tiêu, số tiền đã kêu gọi, quốc gia, hạn chót, ngày tạo, ngày khởi động, số người tham gia hỗ trợ, tỉ giá ngoại tê, thể loại, thể loại chính và kết quả gọi vốn của dự án.\n",
    "- Dữ liệu thu thập được lưu vào file projects_raw.tsv"
   ]
  },
  {
   "cell_type": "code",
   "execution_count": null,
   "metadata": {},
   "outputs": [],
   "source": [
    "# tạo file tsv lưu dữ liệu\n",
    "projects_data = open('projects_raw.tsv', 'w', newline='', encoding='utf-8')"
   ]
  },
  {
   "cell_type": "code",
   "execution_count": null,
   "metadata": {},
   "outputs": [],
   "source": [
    "# tạo danh sách các cột\n",
    "columns = ['id','name','blurb','goal','pledged','country','deadline','created_at','launched_at',\n",
    "           'backers_count','fx_rate','category','main_category','state']\n",
    "\n",
    "# tạo danh sách các cột có thể thu thập trực tiếp\n",
    "cols_collect_data = columns.copy()\n",
    "cols_collect_data.remove('category')\n",
    "cols_collect_data.remove('main_category')"
   ]
  },
  {
   "cell_type": "code",
   "execution_count": null,
   "metadata": {},
   "outputs": [],
   "source": [
    "# tạo đối tượng ghi file và ghi vào tên cột\n",
    "writer = csv.DictWriter(projects_data, fieldnames=columns,delimiter='\\t')\n",
    "writer.writeheader()"
   ]
  },
  {
   "cell_type": "code",
   "execution_count": null,
   "metadata": {},
   "outputs": [],
   "source": [
    "# tạo đối tượng webdriver và truy cập trang kickstarter.com mục discover\n",
    "# browser = webdriver.Chrome(executable_path = './browser_drivers/chromedriver.exe')\n",
    "browser = webdriver.Edge(executable_path = '../browser_drivers/msedgedriver.exe')\n",
    "browser.get('https://www.kickstarter.com/discover?ref=nav')"
   ]
  },
  {
   "cell_type": "code",
   "execution_count": null,
   "metadata": {},
   "outputs": [],
   "source": [
    "# parse trang vừa tải\n",
    "html_tree = BeautifulSoup(browser.page_source, 'html.parser')"
   ]
  },
  {
   "cell_type": "code",
   "execution_count": null,
   "metadata": {},
   "outputs": [],
   "source": [
    "# tìm đường dẫn tới những thể loại, lĩnh vực\n",
    "categories_ls = []\n",
    "cat_filter = html_tree.find('select', {'name':'category_id'})"
   ]
  },
  {
   "cell_type": "code",
   "execution_count": null,
   "metadata": {},
   "outputs": [],
   "source": [
    "# tìm tag option và có thuộc tính data-urls\n",
    "# kiểm tra tag option có thuộc tính data-parent-id hay không\n",
    "# nếu có thì thêm vào danh sách đường dẫn\n",
    "option = cat_filter.find('option', {'data-urls':True})\n",
    "while True:\n",
    "    main_cat = False\n",
    "\n",
    "    try:\n",
    "        option['data-parent-id']\n",
    "    except:\n",
    "        main_cat = True\n",
    "\n",
    "    if not main_cat:\n",
    "        categories_ls.append(re.search('\"(http:.+)\"', option['data-urls']).group(1))\n",
    "\n",
    "    option = option.next_sibling\n",
    "    if option == None:\n",
    "        break"
   ]
  },
  {
   "cell_type": "code",
   "execution_count": null,
   "metadata": {},
   "outputs": [],
   "source": [
    "# tạo từ điển lưu dữ liệu thu thập được\n",
    "data_collect = dict.fromkeys(cols_collect_data)\n",
    "\n",
    "# truy cập trang của từng thể loại chính và thu thập dữ liệu\n",
    "for category_link in categories_ls:\n",
    "    time.sleep(5) # đợi 1 khoảng thời gian trước khi tải trang mới\n",
    "\n",
    "    # tải trang và tìm nút 'load more'\n",
    "    browser.get(category_link)\n",
    "    browser.find_element_by_class_name('load_more').click()\n",
    "\n",
    "    # cuộn tới cuối trang để tải thêm project\n",
    "    last_height = browser.execute_script(\"return document.body.scrollHeight\")\n",
    "    while True:\n",
    "        browser.execute_script('window.scrollTo(0, document.body.scrollHeight);')\n",
    "        time.sleep(2)\n",
    "        new_height = browser.execute_script(\"return document.body.scrollHeight\")\n",
    "\n",
    "        if new_height == last_height:\n",
    "            break\n",
    "\n",
    "        last_height = new_height\n",
    "\n",
    "    # sử dụng BeautifulSoup để parse trang web\n",
    "    html_tree = BeautifulSoup(browser.page_source, 'html.parser')\n",
    "\n",
    "    # tìm tất cả các tag chứa thông tin về các project\n",
    "    data_project = html_tree.find_all('div', {'data-project': True})\n",
    "\n",
    "    # với mỗi project tìm thuộc tính data-project và thu thập dữ liệu\n",
    "    for project in project_cards:\n",
    "        data = json.loads(project['data-project'])\n",
    "        \n",
    "        # thu thập dữ liệu có thể thu thập trực tiếp\n",
    "        for attr in cols_collect_data:\n",
    "            data_collect[attr] = data[attr]\n",
    "\n",
    "        data_collect['category'] = data['category']['name']\n",
    "        data_collect['main_category'] = data['category']['parent_name']\n",
    "\n",
    "        # ghi dữ liệu thu thập dược vào file\n",
    "        writer.writerow(data_collect)\n",
    "\n",
    "    # lưu dữ liệu thu thập được\n",
    "    projects_data.flush()\n",
    "    os.fsync(projects_data.fileno())\n",
    "\n",
    "    project_cards.clear()"
   ]
  },
  {
   "cell_type": "code",
   "execution_count": null,
   "metadata": {},
   "outputs": [],
   "source": [
    "# đóng trình duyệt và đóng file\n",
    "browser.quit()\n",
    "projects_data.close()"
   ]
  },
  {
   "cell_type": "markdown",
   "metadata": {},
   "source": [
    "---"
   ]
  },
  {
   "cell_type": "markdown",
   "metadata": {},
   "source": [
    "# 3. Khám phá dữ liệu"
   ]
  },
  {
   "cell_type": "code",
   "execution_count": null,
   "metadata": {},
   "outputs": [],
   "source": [
    "# tạo dataframe\n",
    "projects_df = pd.read_table('../data/projects_raw.tsv', index_col=0)\n",
    "projects_df.head()"
   ]
  },
  {
   "cell_type": "markdown",
   "metadata": {},
   "source": [
    "## **Dữ liệu có bao nhiêu dòng và cột?**"
   ]
  },
  {
   "cell_type": "code",
   "execution_count": null,
   "metadata": {},
   "outputs": [],
   "source": [
    "projects_df.shape"
   ]
  },
  {
   "cell_type": "markdown",
   "metadata": {},
   "source": [
    "## Mỗi dòng có ý nghĩa gì?\n",
    "\n",
    "Mỗi dòng chứa thông tin về một dự án góp vốn cộng đồng trên kickstarter."
   ]
  },
  {
   "cell_type": "markdown",
   "metadata": {},
   "source": [
    "## Dữ liệu có các dòng hay cột bị lặp hay bị thiếu không?"
   ]
  },
  {
   "cell_type": "code",
   "execution_count": null,
   "metadata": {},
   "outputs": [],
   "source": [
    "projects_df.duplicated().sum()"
   ]
  },
  {
   "cell_type": "code",
   "execution_count": null,
   "metadata": {},
   "outputs": [],
   "source": [
    "projects_df.index.duplicated().sum()"
   ]
  },
  {
   "cell_type": "code",
   "execution_count": null,
   "metadata": {},
   "outputs": [],
   "source": [
    "projects_df.isna().describe()"
   ]
  },
  {
   "cell_type": "code",
   "execution_count": null,
   "metadata": {},
   "outputs": [],
   "source": [
    "projects_df.isna().sum()"
   ]
  },
  {
   "cell_type": "markdown",
   "metadata": {},
   "source": [
    "Như vậy là có 3 dòng bị trùng và có 3 dòng bị thiếu dữ liệu ở cột blurb trong tập dữ liệu. Do số dòng bị trùng và thiếu ít nên để đơn giản nhóm thực hiện xóa các dòng trên."
   ]
  },
  {
   "cell_type": "code",
   "execution_count": null,
   "metadata": {},
   "outputs": [],
   "source": [
    "projects_df.drop_duplicates(inplace=True)\n",
    "projects_df.shape"
   ]
  },
  {
   "cell_type": "code",
   "execution_count": null,
   "metadata": {},
   "outputs": [],
   "source": [
    "projects_df.dropna(inplace=True)\n",
    "projects_df.shape"
   ]
  },
  {
   "cell_type": "markdown",
   "metadata": {},
   "source": [
    "## Ý nghĩa của mỗi cột"
   ]
  },
  {
   "cell_type": "markdown",
   "metadata": {},
   "source": [
    "Cột | Ý nghĩa\n",
    "--- | -------\n",
    "id | Mã định danh cho từng dự án.\n",
    "name | Tên của dự án.\n",
    "blurb | Lời giới thiệu ngắn gọn về dự án.\n",
    "goal | Số tiền dự án yêu cầu.\n",
    "pledged | Số tiền đã kêu gọi thành công.\n",
    "country | Quốc gia của người/nhóm chủ dự án.\n",
    "deadline | Hạn chót kêu gọi góp vốn.\n",
    "create_at | Ngày tạo dự án.\n",
    "launched_at | Ngày bắt đầu kêu gọi góp vốn.\n",
    "backers_count | Số người đã góp vốn cho dự án.\n",
    "fx_rate | Tỷ giá các đơn vị tiền tệ so với đơn vị tiền tệ được chọn\n",
    "category | Thể loại của dự án.\n",
    "main_category | Thể loại chính của dự án.\n",
    "state | Kết quả gọi vốn của dự án."
   ]
  },
  {
   "cell_type": "markdown",
   "metadata": {},
   "source": [
    "## Mỗi cột hiện đang có kiểu dữ liệu gì?"
   ]
  },
  {
   "cell_type": "code",
   "execution_count": null,
   "metadata": {},
   "outputs": [],
   "source": [
    "projects_df.dtypes"
   ]
  },
  {
   "cell_type": "markdown",
   "metadata": {},
   "source": [
    "## Tỷ lệ các giá trị của cột kết quả như thế nào?"
   ]
  },
  {
   "cell_type": "code",
   "execution_count": null,
   "metadata": {},
   "outputs": [],
   "source": [
    "projects_df['state'].value_counts(normalize=True) * 100"
   ]
  },
  {
   "cell_type": "markdown",
   "metadata": {},
   "source": [
    "**Trong đó:**\n",
    "\n",
    "Trạng thái | Ý nghĩa\n",
    "---------- | -------\n",
    "successful | Dự án đã gọi vốn thành công\n",
    "failed | Dự án gọi vốn thất bại\n",
    "canceled | Dự án bị hủy\n",
    "live | Dự án đang trong thời gian gọi vốn"
   ]
  },
  {
   "cell_type": "markdown",
   "metadata": {},
   "source": [
    "Trong tập dữ liệu có một số dự án đang trong thời gian gọi vốn - có trạng thái 'live', vì vậy chưa có kết quả cuối cùng. Những dự án như dạng này không hữu ích cho quá trình học của mô hình cũng như để kiểm tra độ lỗi khi sử dụng mô hình để dự đoán do chưa có kết quả cuối cùng. Vì vậy nhóm thực hiện tách các dòng dữ liệu chưa có kết quả trước khi thực hiện chia tập huấn luyện, validation và kiểm tra."
   ]
  },
  {
   "cell_type": "code",
   "execution_count": null,
   "metadata": {},
   "outputs": [],
   "source": [
    "live_projects = projects_df[projects_df['state'] == 'live']\n",
    "projects_df.drop(live_projects.index, inplace=True)\n",
    "projects_df.shape"
   ]
  },
  {
   "cell_type": "markdown",
   "metadata": {},
   "source": [
    "---"
   ]
  },
  {
   "cell_type": "markdown",
   "metadata": {},
   "source": [
    "# 4. Đưa ra câu hỏi cần trả lời"
   ]
  },
  {
   "cell_type": "markdown",
   "metadata": {},
   "source": [
    "Với tập dữ liệu trên thì cột output là cột state - thể hiện kết quả gọi vốn của một dự án. Như vậy câu hỏi mà nhóm đặt ra với tập dữ liệu này là:\n",
    "\n",
    "*Output - kết quả* - củ một dự án góp vốn cộng đồng có thể được tính từ *input - các thông tin về dự án* - theo công thức nào?\n",
    "\n",
    "Việc tìm ra câu trả lời cho câu hỏi này có thể giúp cho một người/nhóm người có ý định kêu gọi góp vốn cộng đồng cho một sản phẩm nào đó họ muốn phát triển có thể phần nào đoán được kết quả của việc gọi vốn, qua đó có thể điều chỉnh dự án của mình - nếu cần thiết - để đạt được kết quả gọi vốn tốt nhất."
   ]
  },
  {
   "cell_type": "markdown",
   "metadata": {},
   "source": [
    "---"
   ]
  },
  {
   "cell_type": "markdown",
   "metadata": {},
   "source": [
    "# 5. Tách các tập huấn luyện, validation và kiểm tra"
   ]
  },
  {
   "cell_type": "code",
   "execution_count": null,
   "metadata": {},
   "outputs": [],
   "source": [
    "# tạo tập input và output\n",
    "y_sr = projects_df['state']\n",
    "X_df = projects_df.drop(columns='state', axis=1)"
   ]
  },
  {
   "cell_type": "code",
   "execution_count": null,
   "metadata": {},
   "outputs": [],
   "source": [
    "# Tách tập kiểm tra với tỷ lệ 20% tập dữ liệu ban đầu\n",
    "train_X_df, test_X_df, train_y_sr, test_y_sr = train_test_split(X_df, y_sr, test_size=0.2, stratify=y_sr, random_state=42)"
   ]
  },
  {
   "cell_type": "code",
   "execution_count": null,
   "metadata": {},
   "outputs": [],
   "source": [
    "# Tách tập validation với tỷ lệ 20% tập dữ liệu sau khi tách tập kiểm tra\n",
    "train_X_df, val_X_df, train_y_sr, val_y_sr = train_test_split(train_X_df, train_y_sr, test_size=0.2, stratify=train_y_sr,\n",
    "                                                             random_state=42)"
   ]
  },
  {
   "cell_type": "code",
   "execution_count": null,
   "metadata": {},
   "outputs": [],
   "source": [
    "train_X_df.shape"
   ]
  },
  {
   "cell_type": "code",
   "execution_count": null,
   "metadata": {},
   "outputs": [],
   "source": [
    "train_y_sr.shape"
   ]
  },
  {
   "cell_type": "code",
   "execution_count": null,
   "metadata": {},
   "outputs": [],
   "source": [
    "val_X_df.shape"
   ]
  },
  {
   "cell_type": "code",
   "execution_count": null,
   "metadata": {},
   "outputs": [],
   "source": [
    "val_y_sr.shape"
   ]
  },
  {
   "cell_type": "code",
   "execution_count": null,
   "metadata": {},
   "outputs": [],
   "source": [
    "test_X_df.shape"
   ]
  },
  {
   "cell_type": "code",
   "execution_count": null,
   "metadata": {},
   "outputs": [],
   "source": [
    "test_y_sr.shape"
   ]
  },
  {
   "cell_type": "markdown",
   "metadata": {},
   "source": [
    "# 6. Khám phá dữ liệu trên tập huấn luyện"
   ]
  },
  {
   "cell_type": "markdown",
   "metadata": {},
   "source": [
    "Mỗi cột input có kiểu dữ liệu gì?"
   ]
  },
  {
   "cell_type": "code",
   "execution_count": null,
   "metadata": {},
   "outputs": [],
   "source": [
    "train_X_df.dtypes"
   ]
  },
  {
   "cell_type": "markdown",
   "metadata": {},
   "source": [
    "Có thể thấy các cột deadline, created_at và launched_at có ý nghĩa liên quan đến ngày tháng nhưng hiện đang ở dạng timestamp và có kiểu dữ liệu int64"
   ]
  },
  {
   "cell_type": "markdown",
   "metadata": {},
   "source": [
    "### Tiền xử lý: Thực hiện chuyển đổi các cột nêu trên về kiểu dữ liệu datetime"
   ]
  },
  {
   "cell_type": "code",
   "execution_count": null,
   "metadata": {},
   "outputs": [],
   "source": [
    "def colToDatetime(df):\n",
    "    date_cols = ['deadline', 'created_at', 'launched_at']\n",
    "    \n",
    "    new_df = df.copy()\n",
    "    new_df[date_cols] = new_df[date_cols].applymap(date.fromtimestamp).apply(pd.to_datetime)\n",
    "    \n",
    "    return new_df"
   ]
  },
  {
   "cell_type": "code",
   "execution_count": null,
   "metadata": {},
   "outputs": [],
   "source": [
    "preprocess_df = colToDatetime(train_X_df)\n",
    "preprocess_df.head()"
   ]
  },
  {
   "cell_type": "code",
   "execution_count": null,
   "metadata": {},
   "outputs": [],
   "source": [
    "preprocess_df.dtypes"
   ]
  },
  {
   "cell_type": "markdown",
   "metadata": {},
   "source": [
    "### Tiếp tục khám phá dữ liệu"
   ]
  },
  {
   "cell_type": "markdown",
   "metadata": {},
   "source": [
    "Cột pledged có ý nghĩa là số tiền mà những người dùng đã đăng ký đóng góp cho một dự án. Tuy nhiên với những dự án chưa bắt đầu gọi vốn thì không thể nào biết được giá trị ở cột pledged. Vì vậy cột pledged không thể dùng để huấn luyện mô hình và phải bị xóa.\n",
    "\n",
    "Tương tự, cột backers_count thể hiện đã có bao nhiêu người tham gia hỗ trợ một dự án. Với những dự án chưa bắt đầu gọi vốn thì không có người nào tham gia hỗ trợ. Vì vậy cũng cần loại bỏ cột này."
   ]
  },
  {
   "cell_type": "markdown",
   "metadata": {},
   "source": [
    "### Tiền xử lý: xóa cột pledged và backers_count"
   ]
  },
  {
   "cell_type": "code",
   "execution_count": null,
   "metadata": {},
   "outputs": [],
   "source": [
    "preprocess_df.drop(columns=['pledged', 'backers_count'], inplace=True)\n",
    "preprocess_df.head()"
   ]
  },
  {
   "cell_type": "markdown",
   "metadata": {},
   "source": [
    "### Tiếp tục khám phá dữ liệu"
   ]
  },
  {
   "cell_type": "markdown",
   "metadata": {},
   "source": [
    "Ta thấy cột fx_rate có ý nghĩa là tỷ giá của các đơn vị tiền tệ so với đơn vị tiền tệ được chọn để hiển thị khi truy cập trang web kickstarter. Đồng USD được chọn mặc định khi truy cập kickstarter từ quốc gia không có đơn vị tiền tệ được kickstarter sử dụng. Vì vậy dữ liệu trong cột fx_rate là tỷ giá các đơn vị tiền tệ so với đồng USD.\n",
    "\n",
    "Cột fx_rate có các giá trị khác nhau, cho thấy rằng các dự án yêu cầu số tiền với các đơn vị khác nhau. Việc có nhiều đơn vị tiền tệ có thể làm việc học bị sai lệch, vì vậy nhóm thực hiện tiền xử lý quy đổi các đơn vị tiền tệ về đồng USD - do tỷ giá là so với USD."
   ]
  },
  {
   "cell_type": "markdown",
   "metadata": {},
   "source": [
    "### Tiền xử lý: quy đổi đơn vị ở cột goal"
   ]
  },
  {
   "cell_type": "markdown",
   "metadata": {},
   "source": [
    "Thực hiện nhân cột fx_rate với cột goal để quy đổi tiền tệ về một đơn vị là USD, sau đó xóa cột fx_rate."
   ]
  },
  {
   "cell_type": "code",
   "execution_count": null,
   "metadata": {},
   "outputs": [],
   "source": [
    "def currencyExchange(df):\n",
    "    fx_df = df.copy()\n",
    "    fx_df['goal'] = (fx_df['goal'] * fx_df['fx_rate']).round(1)\n",
    "    \n",
    "    fx_df.drop(columns='fx_rate', inplace=True)\n",
    "    \n",
    "    return fx_df"
   ]
  },
  {
   "cell_type": "code",
   "execution_count": null,
   "metadata": {},
   "outputs": [],
   "source": [
    "preprocess_df = currencyExchange(preprocess_df)\n",
    "preprocess_df.head()"
   ]
  },
  {
   "cell_type": "markdown",
   "metadata": {},
   "source": [
    "### Tiếp tục khám phá dữ liệu"
   ]
  },
  {
   "cell_type": "markdown",
   "metadata": {},
   "source": [
    "Với các cột deadline, created_at và launched_at, nhóm nhận thấy là có thể suy ra được khoảng thời gian gọi vốn của một dự án cũng như là thời gian từ khi hồ sơ dự án được tạo cho đến khi dự án bắt đầu gọi vốn. Thêm vào đó, hiện tại các cột này đang có kiểu datetime, không phú hợp với kiểu dữ liệu đầu vào khi thực hiện mô hình hóa dữ liệu.\n",
    "\n",
    "Vì vậy nhóm thực hiện tiền xử lý cho các cột trên với các công việc sau:\n",
    "1. Thêm cột mới lưu các khoảng thời gian như đã mô tả.\n",
    "- cột num_days_funding: cho biết khoảng thời gian theo ngày từ khi một dự án bắt đầu đến khi kết thúc việc gọi vốn.\n",
    "- cột create_to_launch: cho biết thời gian từ khi hồ sơ dự án được tạo đến khi dự án bắt đầu gọi vốn.\n",
    "2. Xóa các cột deadline, created_at và launched_at"
   ]
  },
  {
   "cell_type": "markdown",
   "metadata": {},
   "source": [
    "### Tiền xử lý: tính khoảng thời gian từ các cột deadline, created_at và launched_at"
   ]
  },
  {
   "cell_type": "code",
   "execution_count": null,
   "metadata": {},
   "outputs": [],
   "source": [
    "def dateCalc(X_df):\n",
    "    calc_df = X_df.copy()\n",
    "    \n",
    "    calc_df['num_days_funding'] = (calc_df['deadline'] - calc_df['launched_at']).dt.days\n",
    "    calc_df['create_to_launch'] = (calc_df['launched_at'] - calc_df['created_at']).dt.days\n",
    "    \n",
    "    calc_df.drop(columns=['deadline', 'created_at', 'launched_at'], inplace=True)\n",
    "    \n",
    "    return calc_df"
   ]
  },
  {
   "cell_type": "code",
   "execution_count": null,
   "metadata": {},
   "outputs": [],
   "source": [
    "preprocess_df = dateCalc(preprocess_df)\n",
    "preprocess_df.head()"
   ]
  },
  {
   "cell_type": "markdown",
   "metadata": {},
   "source": [
    "---"
   ]
  },
  {
   "cell_type": "markdown",
   "metadata": {},
   "source": [
    "# 7. Tiền xử lý"
   ]
  },
  {
   "cell_type": "markdown",
   "metadata": {},
   "source": [
    "Qua bước khám phá dữ liệu, nhóm quyết định thực hiện các bước tiền xủ lý như sau:\n",
    "- Xóa cột backers_count và pledged vì 2 cột này chỉ có giá trị sau khi một dự án đã bắt đầu gọi vốn, không thể dùng để dự đoán dự án chưa bắt đầu.\n",
    "- Sử dụng cột fx_rate để quy đổi đơn vị cho cột goal và xóa cột fx_rate.\n",
    "- Đối với các cột deadline, created_at và launched_at:\n",
    "    - Chuyển đổi giá trị các cột từ dạng timestamp sang datetiem\n",
    "    - Tính các khoảng thời gian (đơn vị là ngày):\n",
    "        - Khoảng thời gian gọi vốn của dự án và lưu vào cột 'num_days_funding'.\n",
    "        - Thời gian từ khi dự án được tạo đến khi bắt đầu gọi vốn, lưu vào cột 'create_to_launch'.\n",
    "    - Cuối cùng là xóa các cột deadline, created_at và launched_at.\n",
    "\n",
    "Sau các bước trên ta thấy các cột \"num_days_funding\", \"create_to_launch\" và cột \"goal\" là những thuộc tính liên tục có miền giá trị là các số >= 0, vì vậy cần rời rạc hóa các cột này.\n",
    "\n",
    "Đối với các cột không phải dạng số và không có thứ tự bao gồm: \"country\", \"category\" và \"main_category\" thực hiện chuyển về dạng số bằng phương pháp mã hóa one-hot.\n",
    "\n",
    "Còn lại cột name và blurb có dạng chuỗi, nhóm quyết định thực hiện chuyển đổi về các véc-tơ biểu diễn dạng số sử dụng \n",
    "TF-IDF."
   ]
  },
  {
   "cell_type": "markdown",
   "metadata": {},
   "source": [
    "## Tạo các pipeline tiền xử lý"
   ]
  },
  {
   "cell_type": "code",
   "execution_count": null,
   "metadata": {},
   "outputs": [],
   "source": [
    "del_cols = ['pledged', 'backers_count']\n",
    "unorder_cat_cols = ['country', 'category', 'main_category']\n",
    "txt_cols = ['name', 'blurb']\n",
    "\n",
    "# tạo column transformer cho các cột thuộc tính liên tục và định danh không thứ tự\n",
    "custom_transformer = make_column_transformer(('drop', del_cols), (KBinsDiscretizer(strategy='kmeans'), ['goal']),\n",
    "                                             (KBinsDiscretizer(strategy='uniform'), ['num_days_funding', 'create_to_launch']),\n",
    "                                             (OneHotEncoder(handle_unknown='ignore'), unorder_cat_cols),\n",
    "                                             (TfidfVectorizer(strip_accents='unicode', ngram_range=(1,2)), 'name'),\n",
    "                                             (TfidfVectorizer(strip_accents='unicode', ngram_range=(1,2)), 'blurb'),\n",
    "                                                 remainder='passthrough')\n",
    "\n",
    "\n",
    "#Tạo pipeline cho mô hình\n",
    "full_pipeline = make_pipeline(FunctionTransformer(currencyExchange), FunctionTransformer(colToDatetime),\n",
    "                          FunctionTransformer(dateCalc), custom_transformer,\n",
    "                          MLPClassifier(random_state=42, max_iter=3000))"
   ]
  },
  {
   "cell_type": "code",
   "execution_count": null,
   "metadata": {},
   "outputs": [],
   "source": [
    "full_pipeline"
   ]
  },
  {
   "cell_type": "markdown",
   "metadata": {},
   "source": [
    "## Thử nghiệm các mô hình"
   ]
  },
  {
   "cell_type": "markdown",
   "metadata": {},
   "source": [
    "Thử nghiệm mô hình với các siêu tham số:\n",
    "- Siêu tham số `hidden_layer_sizes` của `MLPClassifier` với 5 giá trị khác nhau: (2,), (4,), (8,), (16,), (32,)\n",
    "- Siêu tham số `alpha` với các giá trị e^i với 0 <= i < 5"
   ]
  },
  {
   "cell_type": "code",
   "execution_count": null,
   "metadata": {},
   "outputs": [],
   "source": [
    "# tạo danh sách các siêu tham số để thử nghiệm mô hình\n",
    "layers = [(2 ** x,) for x in range(5, 9)]\n",
    "alphas = [math.exp(x) for x in range(-1, 6)]"
   ]
  },
  {
   "cell_type": "code",
   "execution_count": null,
   "metadata": {},
   "outputs": [],
   "source": [
    "train_errs = []\n",
    "val_errs = []\n",
    "best_val_err = float('inf'); best_layer_size = None; best_alpha = None\n",
    "\n",
    "for layer_size in layers:\n",
    "    full_pipeline.set_params(mlpclassifier__hidden_layer_sizes=layer_size)\n",
    "    \n",
    "    for a in alphas:        \n",
    "        full_pipeline.set_params(mlpclassifier__alpha=a)\n",
    "        \n",
    "        # fit và predict với pipeline sử dụng Tf-idf\n",
    "        full_pipeline.fit(train_X_df, train_y_sr)\n",
    "        val_y_pred = full_pipeline.predict(val_X_df)\n",
    "        \n",
    "        # ghi lại độ lỗi với các siêu tham số đang xét\n",
    "        train_err = (1 - full_pipeline.score(train_X_df, train_y_sr)) * 100\n",
    "        val_err = (val_y_pred != val_y_sr).mean() * 100\n",
    "        \n",
    "        if val_err < best_val_err:\n",
    "            best_val_err = val_err\n",
    "            best_layer_size = layer_size\n",
    "            best_alpha = a"
   ]
  },
  {
   "cell_type": "code",
   "execution_count": null,
   "metadata": {},
   "outputs": [],
   "source": []
  }
 ],
 "metadata": {
  "kernelspec": {
   "display_name": "Python 3",
   "language": "python",
   "name": "python3"
  },
  "language_info": {
   "codemirror_mode": {
    "name": "ipython",
    "version": 3
   },
   "file_extension": ".py",
   "mimetype": "text/x-python",
   "name": "python",
   "nbconvert_exporter": "python",
   "pygments_lexer": "ipython3",
   "version": "3.8.3"
  }
 },
 "nbformat": 4,
 "nbformat_minor": 4
}
